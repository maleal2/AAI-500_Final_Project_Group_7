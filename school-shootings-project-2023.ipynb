{
 "cells": [
  {
   "cell_type": "markdown",
   "metadata": {},
   "source": [
    "# Libraries"
   ]
  },
  {
   "cell_type": "code",
   "execution_count": 2,
   "metadata": {},
   "outputs": [],
   "source": [
    "import pandas as pd\n",
    "import numpy as np\n",
    "import matplotlib.pyplot as plt\n",
    "import seaborn as sns\n",
    "from sklearn.model_selection import train_test_split\n",
    "import random\n",
    "import statsmodels.formula.api as smf\n",
    "import statsmodels.api as sm \n",
    "from statsmodels.formula.api import ols"
   ]
  },
  {
   "cell_type": "markdown",
   "metadata": {},
   "source": [
    "# Functions."
   ]
  },
  {
   "cell_type": "code",
   "execution_count": 3,
   "metadata": {},
   "outputs": [],
   "source": [
    "def load_data(filename):\n",
    "    # Using pd.read_csv to read CSV file into a DataFrame\n",
    "    df = pd.read_csv(filename)\n",
    "    return df"
   ]
  },
  {
   "cell_type": "markdown",
   "metadata": {},
   "source": [
    "# Data importing and inspection. "
   ]
  },
  {
   "cell_type": "code",
   "execution_count": 4,
   "metadata": {},
   "outputs": [
    {
     "data": {
      "text/html": [
       "<div>\n",
       "<style scoped>\n",
       "    .dataframe tbody tr th:only-of-type {\n",
       "        vertical-align: middle;\n",
       "    }\n",
       "\n",
       "    .dataframe tbody tr th {\n",
       "        vertical-align: top;\n",
       "    }\n",
       "\n",
       "    .dataframe thead th {\n",
       "        text-align: right;\n",
       "    }\n",
       "</style>\n",
       "<table border=\"1\" class=\"dataframe\">\n",
       "  <thead>\n",
       "    <tr style=\"text-align: right;\">\n",
       "      <th></th>\n",
       "      <th>uid</th>\n",
       "      <th>nces_school_id</th>\n",
       "      <th>school_name</th>\n",
       "      <th>nces_district_id</th>\n",
       "      <th>district_name</th>\n",
       "      <th>date</th>\n",
       "      <th>school_year</th>\n",
       "      <th>year</th>\n",
       "      <th>time</th>\n",
       "      <th>day_of_week</th>\n",
       "      <th>...</th>\n",
       "      <th>lat</th>\n",
       "      <th>long</th>\n",
       "      <th>staffing</th>\n",
       "      <th>low_grade</th>\n",
       "      <th>high_grade</th>\n",
       "      <th>lunch</th>\n",
       "      <th>county</th>\n",
       "      <th>state_fips</th>\n",
       "      <th>county_fips</th>\n",
       "      <th>ulocale</th>\n",
       "    </tr>\n",
       "  </thead>\n",
       "  <tbody>\n",
       "    <tr>\n",
       "      <th>0</th>\n",
       "      <td>1</td>\n",
       "      <td>80480000707</td>\n",
       "      <td>Columbine High School</td>\n",
       "      <td>804800.0</td>\n",
       "      <td>Jefferson County R-1</td>\n",
       "      <td>4/20/1999</td>\n",
       "      <td>1998-1999</td>\n",
       "      <td>1999</td>\n",
       "      <td>11:19 AM</td>\n",
       "      <td>Tuesday</td>\n",
       "      <td>...</td>\n",
       "      <td>39.603910</td>\n",
       "      <td>-105.075000</td>\n",
       "      <td>89.6</td>\n",
       "      <td>9</td>\n",
       "      <td>12</td>\n",
       "      <td>41</td>\n",
       "      <td>Jefferson County</td>\n",
       "      <td>8</td>\n",
       "      <td>8059</td>\n",
       "      <td>21.0</td>\n",
       "    </tr>\n",
       "    <tr>\n",
       "      <th>1</th>\n",
       "      <td>2</td>\n",
       "      <td>2.20054E+11</td>\n",
       "      <td>Scotlandville Middle School</td>\n",
       "      <td>2200540.0</td>\n",
       "      <td>East Baton Rouge Parish School Board</td>\n",
       "      <td>4/22/1999</td>\n",
       "      <td>1998-1999</td>\n",
       "      <td>1999</td>\n",
       "      <td>12:30 PM</td>\n",
       "      <td>Thursday</td>\n",
       "      <td>...</td>\n",
       "      <td>30.529958</td>\n",
       "      <td>-91.169966</td>\n",
       "      <td>39.0</td>\n",
       "      <td>6</td>\n",
       "      <td>8</td>\n",
       "      <td>495</td>\n",
       "      <td>East Baton Rouge Parish</td>\n",
       "      <td>22</td>\n",
       "      <td>22033</td>\n",
       "      <td>12.0</td>\n",
       "    </tr>\n",
       "    <tr>\n",
       "      <th>2</th>\n",
       "      <td>3</td>\n",
       "      <td>1.30441E+11</td>\n",
       "      <td>Heritage High School</td>\n",
       "      <td>1304410.0</td>\n",
       "      <td>Rockdale County</td>\n",
       "      <td>5/20/1999</td>\n",
       "      <td>1998-1999</td>\n",
       "      <td>1999</td>\n",
       "      <td>8:03 AM</td>\n",
       "      <td>Thursday</td>\n",
       "      <td>...</td>\n",
       "      <td>33.626922</td>\n",
       "      <td>-84.047960</td>\n",
       "      <td>84.0</td>\n",
       "      <td>9</td>\n",
       "      <td>12</td>\n",
       "      <td>125</td>\n",
       "      <td>Rockdale County</td>\n",
       "      <td>13</td>\n",
       "      <td>13247</td>\n",
       "      <td>21.0</td>\n",
       "    </tr>\n",
       "    <tr>\n",
       "      <th>3</th>\n",
       "      <td>4</td>\n",
       "      <td>4.21899E+11</td>\n",
       "      <td>John Bartram High School</td>\n",
       "      <td>4218990.0</td>\n",
       "      <td>Philadelphia City SD</td>\n",
       "      <td>10/4/1999</td>\n",
       "      <td>1999-2000</td>\n",
       "      <td>1999</td>\n",
       "      <td>10:00 AM</td>\n",
       "      <td>Monday</td>\n",
       "      <td>...</td>\n",
       "      <td>39.921509</td>\n",
       "      <td>-75.234108</td>\n",
       "      <td>41.0</td>\n",
       "      <td>9</td>\n",
       "      <td>12</td>\n",
       "      <td>2007</td>\n",
       "      <td>Philadelphia County</td>\n",
       "      <td>42</td>\n",
       "      <td>42101</td>\n",
       "      <td>11.0</td>\n",
       "    </tr>\n",
       "    <tr>\n",
       "      <th>4</th>\n",
       "      <td>5</td>\n",
       "      <td>2.50279E+11</td>\n",
       "      <td>Dorchester High School</td>\n",
       "      <td>2502790.0</td>\n",
       "      <td>Boston</td>\n",
       "      <td>11/3/1999</td>\n",
       "      <td>1999-2000</td>\n",
       "      <td>1999</td>\n",
       "      <td>7:40 AM</td>\n",
       "      <td>Wednesday</td>\n",
       "      <td>...</td>\n",
       "      <td>42.285268</td>\n",
       "      <td>-71.075901</td>\n",
       "      <td>NaN</td>\n",
       "      <td>9</td>\n",
       "      <td>12</td>\n",
       "      <td>543</td>\n",
       "      <td>Suffolk County</td>\n",
       "      <td>25</td>\n",
       "      <td>25025</td>\n",
       "      <td>11.0</td>\n",
       "    </tr>\n",
       "  </tbody>\n",
       "</table>\n",
       "<p>5 rows × 50 columns</p>\n",
       "</div>"
      ],
      "text/plain": [
       "   uid nces_school_id                  school_name  nces_district_id  \\\n",
       "0    1    80480000707        Columbine High School          804800.0   \n",
       "1    2    2.20054E+11  Scotlandville Middle School         2200540.0   \n",
       "2    3    1.30441E+11         Heritage High School         1304410.0   \n",
       "3    4    4.21899E+11     John Bartram High School         4218990.0   \n",
       "4    5    2.50279E+11       Dorchester High School         2502790.0   \n",
       "\n",
       "                          district_name       date school_year  year  \\\n",
       "0                  Jefferson County R-1  4/20/1999   1998-1999  1999   \n",
       "1  East Baton Rouge Parish School Board  4/22/1999   1998-1999  1999   \n",
       "2                       Rockdale County  5/20/1999   1998-1999  1999   \n",
       "3                  Philadelphia City SD  10/4/1999   1999-2000  1999   \n",
       "4                                Boston  11/3/1999   1999-2000  1999   \n",
       "\n",
       "       time day_of_week  ...        lat        long staffing low_grade  \\\n",
       "0  11:19 AM     Tuesday  ...  39.603910 -105.075000     89.6         9   \n",
       "1  12:30 PM    Thursday  ...  30.529958  -91.169966     39.0         6   \n",
       "2   8:03 AM    Thursday  ...  33.626922  -84.047960     84.0         9   \n",
       "3  10:00 AM      Monday  ...  39.921509  -75.234108     41.0         9   \n",
       "4   7:40 AM   Wednesday  ...  42.285268  -71.075901      NaN         9   \n",
       "\n",
       "   high_grade  lunch                   county state_fips  county_fips ulocale  \n",
       "0          12     41         Jefferson County          8         8059    21.0  \n",
       "1           8    495  East Baton Rouge Parish         22        22033    12.0  \n",
       "2          12    125          Rockdale County         13        13247    21.0  \n",
       "3          12   2007      Philadelphia County         42        42101    11.0  \n",
       "4          12    543           Suffolk County         25        25025    11.0  \n",
       "\n",
       "[5 rows x 50 columns]"
      ]
     },
     "execution_count": 4,
     "metadata": {},
     "output_type": "execute_result"
    }
   ],
   "source": [
    "Shooting = load_data('school-shootings-data.csv')   # Importing csv file as dataset. \n",
    "Shooting.head() # Printing the first five rows. "
   ]
  },
  {
   "cell_type": "markdown",
   "metadata": {},
   "source": [
    "FIGURE 1. Shooting dataset. This represents the display of a total of five rows and fifty columns as part of the data importing and inspection. "
   ]
  },
  {
   "cell_type": "code",
   "execution_count": 5,
   "metadata": {},
   "outputs": [],
   "source": [
    "# Command to display the type of data per variable set in columns . Output is not shown. \n",
    "#Shooting.dtypes"
   ]
  },
  {
   "cell_type": "code",
   "execution_count": 6,
   "metadata": {},
   "outputs": [],
   "source": [
    "# Command to display the dataset information from the Non-null columns and datatype. Output is not shown.\n",
    "#Shooting.info()"
   ]
  },
  {
   "cell_type": "code",
   "execution_count": 7,
   "metadata": {},
   "outputs": [
    {
     "data": {
      "text/html": [
       "<div>\n",
       "<style scoped>\n",
       "    .dataframe tbody tr th:only-of-type {\n",
       "        vertical-align: middle;\n",
       "    }\n",
       "\n",
       "    .dataframe tbody tr th {\n",
       "        vertical-align: top;\n",
       "    }\n",
       "\n",
       "    .dataframe thead th {\n",
       "        text-align: right;\n",
       "    }\n",
       "</style>\n",
       "<table border=\"1\" class=\"dataframe\">\n",
       "  <thead>\n",
       "    <tr style=\"text-align: right;\">\n",
       "      <th></th>\n",
       "      <th>Null_values</th>\n",
       "    </tr>\n",
       "  </thead>\n",
       "  <tbody>\n",
       "    <tr>\n",
       "      <th>nces_school_id</th>\n",
       "      <td>6</td>\n",
       "    </tr>\n",
       "    <tr>\n",
       "      <th>nces_district_id</th>\n",
       "      <td>24</td>\n",
       "    </tr>\n",
       "    <tr>\n",
       "      <th>district_name</th>\n",
       "      <td>25</td>\n",
       "    </tr>\n",
       "    <tr>\n",
       "      <th>time</th>\n",
       "      <td>24</td>\n",
       "    </tr>\n",
       "    <tr>\n",
       "      <th>age_shooter1</th>\n",
       "      <td>113</td>\n",
       "    </tr>\n",
       "    <tr>\n",
       "      <th>gender_shooter1</th>\n",
       "      <td>78</td>\n",
       "    </tr>\n",
       "    <tr>\n",
       "      <th>race_ethnicity_shooter1</th>\n",
       "      <td>239</td>\n",
       "    </tr>\n",
       "    <tr>\n",
       "      <th>shooter_relationship1</th>\n",
       "      <td>121</td>\n",
       "    </tr>\n",
       "    <tr>\n",
       "      <th>shooter_deceased1</th>\n",
       "      <td>125</td>\n",
       "    </tr>\n",
       "    <tr>\n",
       "      <th>deceased_notes1</th>\n",
       "      <td>349</td>\n",
       "    </tr>\n",
       "    <tr>\n",
       "      <th>age_shooter2</th>\n",
       "      <td>375</td>\n",
       "    </tr>\n",
       "    <tr>\n",
       "      <th>gender_shooter2</th>\n",
       "      <td>375</td>\n",
       "    </tr>\n",
       "    <tr>\n",
       "      <th>race_ethnicity_shooter2</th>\n",
       "      <td>380</td>\n",
       "    </tr>\n",
       "    <tr>\n",
       "      <th>shooter_relationship2</th>\n",
       "      <td>381</td>\n",
       "    </tr>\n",
       "    <tr>\n",
       "      <th>shooter_deceased2</th>\n",
       "      <td>381</td>\n",
       "    </tr>\n",
       "    <tr>\n",
       "      <th>deceased_notes2</th>\n",
       "      <td>386</td>\n",
       "    </tr>\n",
       "    <tr>\n",
       "      <th>white</th>\n",
       "      <td>10</td>\n",
       "    </tr>\n",
       "    <tr>\n",
       "      <th>black</th>\n",
       "      <td>10</td>\n",
       "    </tr>\n",
       "    <tr>\n",
       "      <th>hispanic</th>\n",
       "      <td>10</td>\n",
       "    </tr>\n",
       "    <tr>\n",
       "      <th>asian</th>\n",
       "      <td>10</td>\n",
       "    </tr>\n",
       "    <tr>\n",
       "      <th>american_indian_alaska_native</th>\n",
       "      <td>11</td>\n",
       "    </tr>\n",
       "    <tr>\n",
       "      <th>hawaiian_native_pacific_islander</th>\n",
       "      <td>125</td>\n",
       "    </tr>\n",
       "    <tr>\n",
       "      <th>two_or_more</th>\n",
       "      <td>125</td>\n",
       "    </tr>\n",
       "    <tr>\n",
       "      <th>weapon</th>\n",
       "      <td>138</td>\n",
       "    </tr>\n",
       "    <tr>\n",
       "      <th>weapon_source</th>\n",
       "      <td>282</td>\n",
       "    </tr>\n",
       "    <tr>\n",
       "      <th>lat</th>\n",
       "      <td>1</td>\n",
       "    </tr>\n",
       "    <tr>\n",
       "      <th>long</th>\n",
       "      <td>1</td>\n",
       "    </tr>\n",
       "    <tr>\n",
       "      <th>staffing</th>\n",
       "      <td>24</td>\n",
       "    </tr>\n",
       "    <tr>\n",
       "      <th>low_grade</th>\n",
       "      <td>5</td>\n",
       "    </tr>\n",
       "    <tr>\n",
       "      <th>high_grade</th>\n",
       "      <td>5</td>\n",
       "    </tr>\n",
       "    <tr>\n",
       "      <th>lunch</th>\n",
       "      <td>50</td>\n",
       "    </tr>\n",
       "    <tr>\n",
       "      <th>county</th>\n",
       "      <td>2</td>\n",
       "    </tr>\n",
       "    <tr>\n",
       "      <th>ulocale</th>\n",
       "      <td>3</td>\n",
       "    </tr>\n",
       "  </tbody>\n",
       "</table>\n",
       "</div>"
      ],
      "text/plain": [
       "                                  Null_values\n",
       "nces_school_id                              6\n",
       "nces_district_id                           24\n",
       "district_name                              25\n",
       "time                                       24\n",
       "age_shooter1                              113\n",
       "gender_shooter1                            78\n",
       "race_ethnicity_shooter1                   239\n",
       "shooter_relationship1                     121\n",
       "shooter_deceased1                         125\n",
       "deceased_notes1                           349\n",
       "age_shooter2                              375\n",
       "gender_shooter2                           375\n",
       "race_ethnicity_shooter2                   380\n",
       "shooter_relationship2                     381\n",
       "shooter_deceased2                         381\n",
       "deceased_notes2                           386\n",
       "white                                      10\n",
       "black                                      10\n",
       "hispanic                                   10\n",
       "asian                                      10\n",
       "american_indian_alaska_native              11\n",
       "hawaiian_native_pacific_islander          125\n",
       "two_or_more                               125\n",
       "weapon                                    138\n",
       "weapon_source                             282\n",
       "lat                                         1\n",
       "long                                        1\n",
       "staffing                                   24\n",
       "low_grade                                   5\n",
       "high_grade                                  5\n",
       "lunch                                      50\n",
       "county                                      2\n",
       "ulocale                                     3"
      ]
     },
     "execution_count": 7,
     "metadata": {},
     "output_type": "execute_result"
    }
   ],
   "source": [
    "# Creating a Null Shooting new DataFrame wrapping the total sum \"null\" values per column. \n",
    "Null_Shooting= pd.DataFrame(Shooting.isnull().sum())\n",
    "Null_Shooting.rename(columns={0:'Null_values'}, inplace= True)\n",
    "\n",
    "# Columns that needs to be imputed. \n",
    "Null_Shooting[Null_Shooting['Null_values']>0]"
   ]
  },
  {
   "cell_type": "markdown",
   "metadata": {},
   "source": [
    "FIGURE 2. Null_values dataset. This represent the total summary of variables present in the original dataset that needs to be imputed. By imputing, we understand empty cells or values in a row. "
   ]
  },
  {
   "cell_type": "code",
   "execution_count": 8,
   "metadata": {},
   "outputs": [
    {
     "name": "stdout",
     "output_type": "stream",
     "text": [
      " Number of rows in the dataset: 387\n",
      " Number of columns in the dataset: 50\n"
     ]
    }
   ],
   "source": [
    "# Number of rows in the dataset. \n",
    "print(f' Number of rows in the dataset: {Shooting.shape[0]}' )\n",
    "\n",
    "# Number of Columns in the dataset. \n",
    "print( f' Number of columns in the dataset: {Shooting.shape[1]}')"
   ]
  },
  {
   "cell_type": "markdown",
   "metadata": {},
   "source": [
    "## Imputing Data. "
   ]
  },
  {
   "cell_type": "code",
   "execution_count": 9,
   "metadata": {},
   "outputs": [],
   "source": [
    "# Columns to impute for categorical variables.\n",
    "cols_categorical_to_impute= ['district_name','gender_shooter1', 'race_ethnicity_shooter1', 'shooter_relationship1' , 'weapon',  'weapon_source']\n",
    "\n",
    "# Creating a for loop to iterate through this list and impute missing values. \n",
    "for column_categorical in cols_categorical_to_impute:\n",
    "    Shooting[column_categorical].fillna('Unknown', inplace=True)"
   ]
  },
  {
   "cell_type": "code",
   "execution_count": 10,
   "metadata": {},
   "outputs": [],
   "source": [
    "# Columns to impute for \"numerical\" variables. \n",
    "cols_to_impute= ['age_shooter1', 'shooter_deceased1' , 'white', 'black', 'hispanic', 'asian', 'american_indian_alaska_native', 'hawaiian_native_pacific_islander', \n",
    "                 'two_or_more', 'lat' , 'long', 'staffing', 'lunch']\n",
    "\n",
    "numeric_cols_to_impute = [col for col in cols_to_impute if pd.api.types.is_numeric_dtype(Shooting[col])]\n",
    "\n",
    "# Impute missing values with the mean for numeric columns\n",
    "for col in numeric_cols_to_impute:\n",
    "    Shooting[col].fillna(Shooting[col].mean(), inplace=True)\n"
   ]
  },
  {
   "cell_type": "code",
   "execution_count": 11,
   "metadata": {},
   "outputs": [
    {
     "data": {
      "text/html": [
       "<div>\n",
       "<style scoped>\n",
       "    .dataframe tbody tr th:only-of-type {\n",
       "        vertical-align: middle;\n",
       "    }\n",
       "\n",
       "    .dataframe tbody tr th {\n",
       "        vertical-align: top;\n",
       "    }\n",
       "\n",
       "    .dataframe thead th {\n",
       "        text-align: right;\n",
       "    }\n",
       "</style>\n",
       "<table border=\"1\" class=\"dataframe\">\n",
       "  <thead>\n",
       "    <tr style=\"text-align: right;\">\n",
       "      <th></th>\n",
       "      <th>Null_values</th>\n",
       "    </tr>\n",
       "  </thead>\n",
       "  <tbody>\n",
       "    <tr>\n",
       "      <th>nces_school_id</th>\n",
       "      <td>6</td>\n",
       "    </tr>\n",
       "    <tr>\n",
       "      <th>nces_district_id</th>\n",
       "      <td>24</td>\n",
       "    </tr>\n",
       "    <tr>\n",
       "      <th>time</th>\n",
       "      <td>24</td>\n",
       "    </tr>\n",
       "    <tr>\n",
       "      <th>deceased_notes1</th>\n",
       "      <td>349</td>\n",
       "    </tr>\n",
       "    <tr>\n",
       "      <th>age_shooter2</th>\n",
       "      <td>375</td>\n",
       "    </tr>\n",
       "    <tr>\n",
       "      <th>gender_shooter2</th>\n",
       "      <td>375</td>\n",
       "    </tr>\n",
       "    <tr>\n",
       "      <th>race_ethnicity_shooter2</th>\n",
       "      <td>380</td>\n",
       "    </tr>\n",
       "    <tr>\n",
       "      <th>shooter_relationship2</th>\n",
       "      <td>381</td>\n",
       "    </tr>\n",
       "    <tr>\n",
       "      <th>shooter_deceased2</th>\n",
       "      <td>381</td>\n",
       "    </tr>\n",
       "    <tr>\n",
       "      <th>deceased_notes2</th>\n",
       "      <td>386</td>\n",
       "    </tr>\n",
       "    <tr>\n",
       "      <th>hispanic</th>\n",
       "      <td>10</td>\n",
       "    </tr>\n",
       "    <tr>\n",
       "      <th>low_grade</th>\n",
       "      <td>5</td>\n",
       "    </tr>\n",
       "    <tr>\n",
       "      <th>high_grade</th>\n",
       "      <td>5</td>\n",
       "    </tr>\n",
       "    <tr>\n",
       "      <th>lunch</th>\n",
       "      <td>50</td>\n",
       "    </tr>\n",
       "    <tr>\n",
       "      <th>county</th>\n",
       "      <td>2</td>\n",
       "    </tr>\n",
       "    <tr>\n",
       "      <th>ulocale</th>\n",
       "      <td>3</td>\n",
       "    </tr>\n",
       "  </tbody>\n",
       "</table>\n",
       "</div>"
      ],
      "text/plain": [
       "                         Null_values\n",
       "nces_school_id                     6\n",
       "nces_district_id                  24\n",
       "time                              24\n",
       "deceased_notes1                  349\n",
       "age_shooter2                     375\n",
       "gender_shooter2                  375\n",
       "race_ethnicity_shooter2          380\n",
       "shooter_relationship2            381\n",
       "shooter_deceased2                381\n",
       "deceased_notes2                  386\n",
       "hispanic                          10\n",
       "low_grade                          5\n",
       "high_grade                         5\n",
       "lunch                             50\n",
       "county                             2\n",
       "ulocale                            3"
      ]
     },
     "execution_count": 11,
     "metadata": {},
     "output_type": "execute_result"
    }
   ],
   "source": [
    "# Dataframe : Shooting after being imputed. \n",
    "\n",
    "# Creating a Null Shooting new DataFrame wrapping the total sum \"null\" values per column. \n",
    "Null_Shooting= pd.DataFrame(Shooting.isnull().sum())\n",
    "Null_Shooting.rename(columns={0:'Null_values'}, inplace= True)\n",
    "\n",
    "# Columns that needs to be imputed. \n",
    "Null_Shooting[Null_Shooting['Null_values']>0]"
   ]
  },
  {
   "cell_type": "markdown",
   "metadata": {},
   "source": [
    "FIGURE 3. Null_values dataset after being imputed. "
   ]
  },
  {
   "cell_type": "markdown",
   "metadata": {},
   "source": [
    "# Descriptive Statistics. "
   ]
  },
  {
   "cell_type": "markdown",
   "metadata": {},
   "source": [
    "As part of our data analysis, we will conduct a basic examination of the number of fatalities, injuries, and overall casualties from 1999 to 2023. This analysis aims to provide us with the mean, standard deviation, and the total number of cases within this timeframe.\n",
    "\n",
    "We will create histogram distributions for each specific case to better visualize the variation across the years. Additionally, we will generate box plots to identify outliers or extreme cases within each situation"
   ]
  },
  {
   "cell_type": "markdown",
   "metadata": {},
   "source": [
    "### Kiled cases since (1999 - 2023 )\n",
    "\n",
    "Note: all values are rounded two decimals places.\n",
    "\n",
    "- Average of number of Killed cases since ( 1999- 2023) : 2.30\n",
    "- Standard deviation of number of Killed cases since ( 1999- 2023): 4.84\n",
    "- Number of Killed cases since ( 1999- 2023): 66"
   ]
  },
  {
   "cell_type": "code",
   "execution_count": 12,
   "metadata": {},
   "outputs": [
    {
     "name": "stdout",
     "output_type": "stream",
     "text": [
      " Average of number of Killed cases since ( 1999- 2023) : 2.30\n",
      "Standard deviation of number of Killed cases since ( 1999- 2023): 4.84\n",
      "Number of Killed cases since ( 1999- 2023): 66\n"
     ]
    }
   ],
   "source": [
    "Kill_Shooting = Shooting.groupby(['year', 'killed']).size().reset_index(name='Cases'); #print(Kill_Shooting)\n",
    "Mu_Kill_Shooting=np.mean(Kill_Shooting['killed']); print(f' Average of number of Killed cases since ( 1999- 2023) : {Mu_Kill_Shooting:.2f}')\n",
    "Std_Kill_Shooting=Kill_Shooting['killed'].std(); print(f'Standard deviation of number of Killed cases since ( 1999- 2023): {Std_Kill_Shooting:.2f}')\n",
    "Kill_Shooting_cases=Kill_Shooting['killed'].count(); print(f'Number of Killed cases since ( 1999- 2023): {Kill_Shooting_cases}')\n",
    "#Kill_Shooting.describe() # Only for checking purposes, you are welcomed to uncoment the command."
   ]
  },
  {
   "cell_type": "markdown",
   "metadata": {},
   "source": [
    "- Histogram of Killed cases since (1999-2023)\n",
    "\n"
   ]
  },
  {
   "cell_type": "code",
   "execution_count": 13,
   "metadata": {},
   "outputs": [
    {
     "data": {
      "image/png": "[encoded data removed]",
      "text/plain": [
       "<Figure size 1200x600 with 1 Axes>"
      ]
     },
     "metadata": {},
     "output_type": "display_data"
    }
   ],
   "source": [
    "# Aggregating the data by year and summing the killed cases for each year\n",
    "yearly_killed = Shooting.groupby('year')['killed'].sum()\n",
    "\n",
    "# Creating the histogram\n",
    "plt.figure(figsize=(12, 6))\n",
    "plt.bar(yearly_killed.index, yearly_killed, color='red', edgecolor='k')\n",
    "plt.ylabel('Killed cases since (1999-2023)')\n",
    "plt.xlabel('Year')\n",
    "plt.title('Histogram of Killed cases since (1999-2023)')\n",
    "plt.grid(True)\n",
    "plt.show()\n"
   ]
  },
  {
   "cell_type": "markdown",
   "metadata": {},
   "source": [
    "FIGURE 4. Histogram of Killed cases since (1999-2023). The (x) axis represents the summary of fatality cases throughout the time stamp. The (y) axis, represents the counts of killed cases. "
   ]
  },
  {
   "cell_type": "markdown",
   "metadata": {},
   "source": [
    "- Side by side boxplot of Killed cases since (1999-2023)."
   ]
  },
  {
   "cell_type": "code",
   "execution_count": 14,
   "metadata": {},
   "outputs": [
    {
     "data": {
      "image/png": "[encoded data removed]",
      "text/plain": [
       "<Figure size 2300x2000 with 1 Axes>"
      ]
     },
     "metadata": {},
     "output_type": "display_data"
    }
   ],
   "source": [
    "plt.figure(figsize=(23, 20))\n",
    "sns.boxplot(data=Kill_Shooting, x='year', y='killed', palette='husl')\n",
    "plt.title('Boxplot of Kill cases by Year (1999-2023)')\n",
    "plt.xlabel('Years')\n",
    "plt.ylabel('Number of Killed cases')\n",
    "plt.show()"
   ]
  },
  {
   "cell_type": "markdown",
   "metadata": {},
   "source": [
    "FIGURE 5. Boxt-plot of Killed cases since (1999-2023). The (x) axis represents the count of fatality cases throughout the time stamp. The (y) axis, represents the counts of killed cases. "
   ]
  },
  {
   "cell_type": "markdown",
   "metadata": {},
   "source": [
    "### Injured cases since (1999 - 2023 )\n",
    "\n",
    "Note: all values are rounded two decimals places.\n",
    "\n",
    "- Average of number of Injured cases since ( 1999- 2023) : 2.75\n",
    "- Standard Deviation  of number of Injured cases since ( 1999- 2023): 3.81\n",
    "- Number of Injured cases since ( 1999- 2023): 97\n"
   ]
  },
  {
   "cell_type": "code",
   "execution_count": 15,
   "metadata": {},
   "outputs": [
    {
     "name": "stdout",
     "output_type": "stream",
     "text": [
      " Average of number of Injured cases since ( 1999- 2023) : 2.75\n",
      "Standard Deviation  of number of Injured cases since ( 1999- 2023): 3.81\n",
      "Number of Injured cases since ( 1999- 2023): 97\n"
     ]
    }
   ],
   "source": [
    "Injured_Shooting = Shooting.groupby(['year', 'injured']).size().reset_index(name='Cases')\n",
    "Mu_Injured_Shooting=np.mean(Injured_Shooting['injured']); print(f' Average of number of Injured cases since ( 1999- 2023) : {Mu_Injured_Shooting:.2f}')\n",
    "Std_Injured_Shooting=np.std(Injured_Shooting['injured']); print(f'Standard Deviation  of number of Injured cases since ( 1999- 2023): {Std_Injured_Shooting:.2f}')\n",
    "Injured_SHooting_cases=Injured_Shooting['injured'].count(); print(f'Number of Injured cases since ( 1999- 2023): {Injured_SHooting_cases}')\n",
    "#Injured_Shooting.describe() # Only for checking purposes, you are welcomed to uncoment the command."
   ]
  },
  {
   "cell_type": "markdown",
   "metadata": {},
   "source": [
    "- Histogram of Injured cases since (1999-2023)\n"
   ]
  },
  {
   "cell_type": "code",
   "execution_count": 16,
   "metadata": {},
   "outputs": [
    {
     "data": {
      "image/png": "[encoded data removed]",
      "text/plain": [
       "<Figure size 1200x600 with 1 Axes>"
      ]
     },
     "metadata": {},
     "output_type": "display_data"
    }
   ],
   "source": [
    "# Aggregating the data by year and summing the Injured cases for each year\n",
    "yearly_injured = Shooting.groupby('year')['injured'].sum()\n",
    "\n",
    "# Creating the histogram\n",
    "plt.figure(figsize=(12, 6))\n",
    "plt.bar(yearly_injured.index, yearly_injured, color='orange', edgecolor='k')\n",
    "plt.ylabel('Injured cases since (1999-2023)')\n",
    "plt.xlabel('Year')\n",
    "plt.title('Histogram of Injured cases since (1999-2023)')\n",
    "plt.grid(True)\n",
    "plt.show()"
   ]
  },
  {
   "cell_type": "markdown",
   "metadata": {},
   "source": [
    "FIGURE 6. Histogram of Injured cases since (1999-2023). The (x) axis represents the summary of Injured cases throughout the time stamp. The (y) axis, represents the counts of injured cases. "
   ]
  },
  {
   "cell_type": "markdown",
   "metadata": {},
   "source": [
    "- Side by side boxplot of Injured cases since (1999-2023)."
   ]
  },
  {
   "cell_type": "code",
   "execution_count": 17,
   "metadata": {},
   "outputs": [
    {
     "data": {
      "image/png": "[encoded data removed]",
      "text/plain": [
       "<Figure size 2300x2000 with 1 Axes>"
      ]
     },
     "metadata": {},
     "output_type": "display_data"
    }
   ],
   "source": [
    "plt.figure(figsize=(23, 20))\n",
    "sns.boxplot(data=Injured_Shooting, x='year', y='injured', palette='husl')\n",
    "plt.title('Boxplot of Injured cases by Year (1999-2023)')\n",
    "plt.xlabel('Years')\n",
    "plt.ylabel('Number of Injured cases')\n",
    "plt.show()"
   ]
  },
  {
   "cell_type": "markdown",
   "metadata": {},
   "source": [
    "FIGURE 7. Box-plot of injured cases since (1999-2023). The (x) axis represents the summary of injured cases throughout the time stamp. The (y) axis, represents the counts of injured cases. "
   ]
  },
  {
   "cell_type": "markdown",
   "metadata": {},
   "source": [
    "### Casualties cases since (1999 - 2023 )\n",
    "\n",
    "Note: all values are rounded two decimals places.\n",
    "\n",
    "- Average of number of Casualty cases since ( 1999- 2023) : 4.07\n",
    "- Standard Deviation  of number of Casualty cases since ( 1999- 2023): 6.91\n",
    "- Number of Casualty cases since ( 1999- 2023): 100"
   ]
  },
  {
   "cell_type": "code",
   "execution_count": 18,
   "metadata": {},
   "outputs": [
    {
     "name": "stdout",
     "output_type": "stream",
     "text": [
      " Average of number of Casualty cases since ( 1999- 2023) : 4.07\n",
      "Standard Deviation  of number of Casualty cases since ( 1999- 2023): 6.91\n",
      "Number of Casualty cases since ( 1999- 2023): 100\n"
     ]
    }
   ],
   "source": [
    "Casualties_Shooting = Shooting.groupby(['year', 'casualties']).size().reset_index(name='Cases')\n",
    "Mu_Casualties_Shooting=np.mean(Casualties_Shooting['casualties']); print(f' Average of number of Casualty cases since ( 1999- 2023) : {Mu_Casualties_Shooting:.2f}')\n",
    "Std_Casualties_Shooting=np.std(Casualties_Shooting['casualties']); print(f'Standard Deviation  of number of Casualty cases since ( 1999- 2023): {Std_Casualties_Shooting:.2f}')\n",
    "Casualties_Shooting_cases=Casualties_Shooting['casualties'].count(); print(f'Number of Casualty cases since ( 1999- 2023): {Casualties_Shooting_cases}')\n",
    "#Casualties_Shooting.describe() # Only for checking purposes, you are welcomed to uncoment the command."
   ]
  },
  {
   "cell_type": "markdown",
   "metadata": {},
   "source": [
    "- Histogram of Casualty cases since (1999-2023)\n"
   ]
  },
  {
   "cell_type": "code",
   "execution_count": 19,
   "metadata": {},
   "outputs": [
    {
     "data": {
      "image/png": "[encoded data removed]",
      "text/plain": [
       "<Figure size 1200x600 with 1 Axes>"
      ]
     },
     "metadata": {},
     "output_type": "display_data"
    }
   ],
   "source": [
    "# Aggregating the data by year and summing the Casualy cases for each year\n",
    "yearly_casualties = Shooting.groupby('year')['casualties'].sum()\n",
    "\n",
    "# Creating the histogram\n",
    "plt.figure(figsize=(12, 6))\n",
    "plt.bar(yearly_casualties.index, yearly_casualties, color='yellow', edgecolor='k')\n",
    "plt.ylabel('Casualties cases since (1999-2023)')\n",
    "plt.xlabel('Year')\n",
    "plt.title('Histogram of Casualty cases since (1999-2023)')\n",
    "plt.grid(True)\n",
    "plt.show()"
   ]
  },
  {
   "cell_type": "markdown",
   "metadata": {},
   "source": [
    "FIGURE 8. Histogram of casualties' cases since (1999-2023). The (x) axis represents the summary of casualties' cases throughout the time stamp. The (y) axis, represents the counts of casualties' cases. "
   ]
  },
  {
   "cell_type": "markdown",
   "metadata": {},
   "source": [
    "- Side by side boxplot of Casualties cases since (1999-2023)."
   ]
  },
  {
   "cell_type": "code",
   "execution_count": 20,
   "metadata": {},
   "outputs": [
    {
     "data": {
      "image/png": "[encoded data removed]",
      "text/plain": [
       "<Figure size 2300x2000 with 1 Axes>"
      ]
     },
     "metadata": {},
     "output_type": "display_data"
    }
   ],
   "source": [
    "plt.figure(figsize=(23, 20))\n",
    "sns.boxplot(data=Casualties_Shooting, x='year', y='casualties', palette='husl')\n",
    "plt.title('Boxplot of Casualty cases by Year (1999-2023)')\n",
    "plt.xlabel('Years')\n",
    "plt.ylabel('Number of Casualty cases')\n",
    "plt.show()"
   ]
  },
  {
   "cell_type": "markdown",
   "metadata": {},
   "source": [
    "FIGURE 9. Box-plot of casualties' cases since (1999-2023). The (x) axis represents the summary of casualties' cases throughout the time stamp. The (y) axis, represents the counts of casualties' cases. "
   ]
  },
  {
   "cell_type": "markdown",
   "metadata": {},
   "source": [
    "- Summary of the Analysis of killed, injured and casualties events (1999-2023):\n",
    "\n",
    "- - Killed Cases (Fatalities):\n",
    "\n",
    "    - Average Number of Killed Cases: 2.30\n",
    "    - Standard Deviation of Killed Cases: 4.84\n",
    "    - Total Number of Killed Cases: 66\n",
    "\n",
    "- - Injured Cases:\n",
    "\n",
    "    - Average Number of Injured Cases: 2.75\n",
    "    - Standard Deviation of Injured Cases: 3.81\n",
    "    - Total Number of Injured Cases: 97\n",
    "\n",
    "- - Casualty Cases:\n",
    "\n",
    "    - Average Number of Casualty Cases: 4.07\n",
    "    - Standard Deviation of Casualty Cases: 6.91\n",
    "    - Total Number of Casualty Cases: 100\n",
    "\n",
    "Analysis Details:\n",
    "\n",
    "The data collected include incidents that occurred on school campuses before, during, or shortly after class hours. The following types of incidents were excluded from the analysis:\n",
    "\n",
    "- Shootings at after-hours events\n",
    "- Accidental discharges with no injuries beyond the person handling the firearm. \n",
    "- Suicides that were private or didn't pose a threat to other students.\n",
    "- Firearm incidents at colleges and universities, which primarily affect young adults rather than children.\n",
    "- This analysis provides insights into the trends and patterns of incidents involving children at schools over the specified period."
   ]
  },
  {
   "cell_type": "markdown",
   "metadata": {},
   "source": [
    "### Bloxplot of Killed, injured, and casualties summarized by day of the week. "
   ]
  },
  {
   "cell_type": "markdown",
   "metadata": {},
   "source": [
    "- Boxplot of Killed cases by day of the week. "
   ]
  },
  {
   "cell_type": "code",
   "execution_count": 21,
   "metadata": {},
   "outputs": [
    {
     "data": {
      "image/png": "[encoded data removed]",
      "text/plain": [
       "<Figure size 1200x600 with 1 Axes>"
      ]
     },
     "metadata": {},
     "output_type": "display_data"
    }
   ],
   "source": [
    "plt.figure(figsize=(12, 6))\n",
    "sns.boxplot(data=Shooting, x='day_of_week', y='killed', palette='husl')\n",
    "plt.title('Boxplot of Killed cases by day of the  week')\n",
    "plt.xlabel('Day of the Week')\n",
    "plt.ylabel('Number of Killed cases')\n",
    "plt.show()"
   ]
  },
  {
   "cell_type": "markdown",
   "metadata": {},
   "source": [
    "FIGURE 10. Box-plot of Killed cases since (1999-2023). The (x) axis represents the summary of fatality cases regarding the seven days of the week. The (y) axis, represents the counts of killed cases. "
   ]
  },
  {
   "cell_type": "markdown",
   "metadata": {},
   "source": [
    "- Boxplot of Injured cases by day of the week. "
   ]
  },
  {
   "cell_type": "code",
   "execution_count": 22,
   "metadata": {},
   "outputs": [
    {
     "data": {
      "image/png": "[encoded data removed]",
      "text/plain": [
       "<Figure size 1200x600 with 1 Axes>"
      ]
     },
     "metadata": {},
     "output_type": "display_data"
    }
   ],
   "source": [
    "plt.figure(figsize=(12, 6))\n",
    "sns.boxplot(data=Shooting, x='day_of_week', y='injured', palette='husl')\n",
    "plt.title('Boxplot of Injured cases by day of the  week')\n",
    "plt.xlabel('Day of the Week')\n",
    "plt.ylabel('Number of Injured cases')\n",
    "plt.show()"
   ]
  },
  {
   "cell_type": "markdown",
   "metadata": {},
   "source": [
    "FIGURE 11. Box-plot of Injured cases since (1999-2023). The (x) axis represents the summary of injured cases regarding the seven days of the week. The (y) axis, represents the counts of injured cases. "
   ]
  },
  {
   "cell_type": "markdown",
   "metadata": {},
   "source": [
    "- Boxplot of Casualtiy cases by day of the week. "
   ]
  },
  {
   "cell_type": "code",
   "execution_count": 23,
   "metadata": {},
   "outputs": [
    {
     "data": {
      "image/png": "[encoded data removed]",
      "text/plain": [
       "<Figure size 1200x600 with 1 Axes>"
      ]
     },
     "metadata": {},
     "output_type": "display_data"
    }
   ],
   "source": [
    "plt.figure(figsize=(12, 6))\n",
    "sns.boxplot(data=Shooting, x='day_of_week', y='casualties', palette='husl')\n",
    "plt.title('Boxplot of Casualty cases by day of the  week')\n",
    "plt.xlabel('Day of the Week')\n",
    "plt.ylabel('Number of Casualty cases')\n",
    "plt.show()"
   ]
  },
  {
   "cell_type": "markdown",
   "metadata": {},
   "source": [
    "FIGURE 12. Box-plot of casualties' cases since (1999-2023). The (x) axis represents the summary of casualties' cases regarding the seven days of the week. The (y) axis, represents the counts of casualties' cases. "
   ]
  },
  {
   "cell_type": "markdown",
   "metadata": {},
   "source": [
    "Analysis of Killed, Injured, and Casualties by Day of the Week:\n",
    "\n",
    "- From the previous boxplots, it appears that there is no clear and consistent preference for selecting a specific day of the week in the events we have analyzed. However, in the next phase of this project, we will conduct a linear correlation analysis to determine whether any patterns or correlations exist between our target variables (killed, injured, and casualties) and independent categorical variables, such as the day of the week."
   ]
  },
  {
   "cell_type": "markdown",
   "metadata": {},
   "source": [
    "### Visualization of Shooter (1) Casualties collected by gender identification.\n",
    "\n",
    "- Note: nonbinary population was not taken into account for this particular case since the number of occurances are not significant to generate enough data. \n"
   ]
  },
  {
   "cell_type": "code",
   "execution_count": 24,
   "metadata": {},
   "outputs": [
    {
     "data": {
      "image/png": "[encoded data removed]",
      "text/plain": [
       "<Figure size 2000x1000 with 1 Axes>"
      ]
     },
     "metadata": {},
     "output_type": "display_data"
    }
   ],
   "source": [
    "import os\n",
    "import pandas as pd\n",
    "import matplotlib.pyplot as plt\n",
    "import seaborn as sns\n",
    "import numpy as np\n",
    "loc = os.getcwd()\n",
    "data = pd.read_csv(loc+'/school-shootings-data.csv')\n",
    "groupedData=data.groupby(['shooting_type','gender_shooter1'])['casualties'].sum().reset_index()\n",
    "plt.figure(figsize=(20, 10))\n",
    "sns.barplot(x='shooting_type', y='casualties', hue='gender_shooter1', data=groupedData)\n",
    "plt.xlabel('ShootingType/Gender')\n",
    "plt.ylabel('Casualties')\n",
    "plt.yticks(range(0, max(groupedData['casualties']) + 1, 25))\n",
    "plt.title('Grouped Bar Chart')\n",
    "plt.show()\n",
    "\n"
   ]
  },
  {
   "cell_type": "markdown",
   "metadata": {},
   "source": [
    "FIGURE 13. Bar chart of groups: gender/shooter against shooting type. The (x) axis represents the proportion of categorical values of the categorical variable shooting type. The (y) axis, represents the counts of casualties' cases. The distribution of each bar is represented by different colors emphasizing the gender. "
   ]
  },
  {
   "cell_type": "code",
   "execution_count": 25,
   "metadata": {},
   "outputs": [
    {
     "name": "stderr",
     "output_type": "stream",
     "text": [
      "C:\\Users\\carol\\AppData\\Roaming\\Python\\Python311\\site-packages\\pandas\\core\\arraylike.py:396: RuntimeWarning: divide by zero encountered in log\n",
      "  result = getattr(ufunc, method)(*inputs, **kwargs)\n"
     ]
    },
    {
     "data": {
      "image/png": "[encoded data removed]",
      "text/plain": [
       "<Figure size 2000x1000 with 1 Axes>"
      ]
     },
     "metadata": {},
     "output_type": "display_data"
    }
   ],
   "source": [
    "import os\n",
    "import pandas as pd\n",
    "import matplotlib.pyplot as plt\n",
    "import seaborn as sns\n",
    "import numpy as np\n",
    "loc = os.getcwd()\n",
    "data = pd.read_csv(loc+'/school-shootings-data.csv')\n",
    "groupedData=data.groupby(['shooting_type','gender_shooter1'])['casualties'].sum().reset_index()\n",
    "groupedData['casualties'] = np.log(groupedData['casualties'])\n",
    "plt.figure(figsize=(20, 10))\n",
    "sns.barplot(x='shooting_type', y='casualties', hue='gender_shooter1', data=groupedData)\n",
    "plt.xlabel('ShootingType/Gender')\n",
    "plt.ylabel('log of Casualties')\n",
    "#plt.yticks(range(0, max(groupedData['casualties']) + 1, 25))\n",
    "plt.title('Grouped Bar Chart in logarithmic scale in logarithmic scale')\n",
    "plt.show()"
   ]
  },
  {
   "cell_type": "markdown",
   "metadata": {},
   "source": [
    "FIGURE 14. Bar chart of groups in logarithmic scale: gender/shooter against shooting type. The (x) axis represents the proportion of categorical values of the categorical variable shooting type. The (y) axis, represents the counts of casualties' cases. The distribution of each bar is represented by different colors emphasizing the gender."
   ]
  },
  {
   "cell_type": "markdown",
   "metadata": {},
   "source": [
    "Summary of Shootings by Gender:\n",
    "\n",
    "- In our analysis, we created bar graphs to visualize the gender distribution of shooters (1) across various shooting categories. We used labels \"m\" for male, \"f\" for female, and \"h\" for non-binary. We presented two types of bar graphs: one in the normal scale and another with logarithmic transformation for the count numbers. The logarithmic presentation provides a more accurate representation of incident numbers.\n",
    "\n",
    "- Upon examining the data, we observed that the majority of incidents were associated with male shooters, followed by female shooters. The non-binary population had no recorded incidents, likely due to insufficient data.\n",
    "\n",
    "- For both male and female shooters, the most commonly represented type of incident was \"targeted and indiscriminate.\" It's important to note that the absence of data for non-binary individuals is a result of limited available data, and no definitive conclusions can be drawn from this group."
   ]
  },
  {
   "cell_type": "markdown",
   "metadata": {},
   "source": [
    "### Visualization of Shooter (1) Casualties collected by race ethnicity. "
   ]
  },
  {
   "cell_type": "code",
   "execution_count": 1,
   "metadata": {},
   "outputs": [
    {
     "data": {
      "image/png": "[encoded data removed]",
      "text/plain": [
       "<Figure size 2000x1000 with 1 Axes>"
      ]
     },
     "metadata": {},
     "output_type": "display_data"
    }
   ],
   "source": [
    "import os\n",
    "import pandas as pd\n",
    "import matplotlib.pyplot as plt\n",
    "import seaborn as sns\n",
    "loc = os.getcwd()\n",
    "data = pd.read_csv(loc+'/school-shootings-data.csv')\n",
    "groupedData=data.groupby(['shooting_type','race_ethnicity_shooter1'])['casualties'].sum().reset_index()\n",
    "plt.figure(figsize=(20, 10))\n",
    "sns.barplot(x='shooting_type', y='casualties', hue='race_ethnicity_shooter1', data=groupedData)\n",
    "# Manually set legend labels\n",
    "legend_labels = {'b': 'black', 'w': 'white', 'h': 'neutral','ai':'alaskan','a':'asian','m':'mixed','n':'native','Hispanic':'Hispanic'}\n",
    "handles, labels = plt.gca().get_legend_handles_labels()\n",
    "plt.legend(handles, [legend_labels[label] for label in groupedData['race_ethnicity_shooter1'].unique()], title='Hue Variable', loc='upper left')\n",
    "\n",
    "plt.xlabel('ShootingType/Ethnicity')\n",
    "plt.ylabel('Casualties')\n",
    "plt.yticks(range(0, max(groupedData['casualties']) + 1, 5))\n",
    "plt.title('Grouped Bar Chart')\n",
    "plt.show()"
   ]
  },
  {
   "cell_type": "markdown",
   "metadata": {},
   "source": [
    "FIGURE 15. Bar chart of groups: race/shooter against shooting type. The (x) axis represents the proportion of categorical values of the categorical variable shooting type. The (y) axis, represents the counts of casualties' cases. The distribution of each bar is represented by different colors emphasizing the race."
   ]
  },
  {
   "cell_type": "code",
   "execution_count": 2,
   "metadata": {},
   "outputs": [
    {
     "name": "stderr",
     "output_type": "stream",
     "text": [
      "C:\\Users\\carol\\AppData\\Roaming\\Python\\Python311\\site-packages\\pandas\\core\\arraylike.py:396: RuntimeWarning: divide by zero encountered in log\n",
      "  result = getattr(ufunc, method)(*inputs, **kwargs)\n"
     ]
    },
    {
     "data": {
      "image/png": "[encoded data removed]",
      "text/plain": [
       "<Figure size 2000x1000 with 1 Axes>"
      ]
     },
     "metadata": {},
     "output_type": "display_data"
    }
   ],
   "source": [
    "import os\n",
    "import pandas as pd\n",
    "import matplotlib.pyplot as plt\n",
    "import seaborn as sns\n",
    "import numpy as np\n",
    "loc = os.getcwd()\n",
    "data = pd.read_csv(loc+'/school-shootings-data.csv')\n",
    "groupedData=data.groupby(['shooting_type','race_ethnicity_shooter1'])['casualties'].sum().reset_index()\n",
    "plt.figure(figsize=(20, 10))\n",
    "groupedData['casualties'] = np.log(groupedData['casualties'])\n",
    "sns.barplot(x='shooting_type', y='casualties', hue='race_ethnicity_shooter1', data=groupedData)\n",
    "legend_labels = {'b': 'black', 'w': 'white', 'h': 'neutral','ai':'alaskan','a':'asian','m':'mixed','n':'native','Hispanic':'Hispanic'}\n",
    "handles, labels = plt.gca().get_legend_handles_labels()\n",
    "plt.legend(handles, [legend_labels[label] for label in groupedData['race_ethnicity_shooter1'].unique()], title='Hue Variable', loc='upper left')\n",
    "\n",
    "plt.xlabel('ShootingType/Ethnicity')\n",
    "plt.ylabel('log of Casualties')\n",
    "plt.title('Grouped Bar Chart')\n",
    "plt.show()"
   ]
  },
  {
   "cell_type": "markdown",
   "metadata": {},
   "source": [
    "FIGURE 16. Bar chart of groups in logarithmic scale: race/shooter against shooting type. The (x) axis represents the proportion of categorical values of the categorical variable shooting type. The (y) axis, represents the counts of casualties' cases. The distribution of each bar is represented by different colors emphasizing the race."
   ]
  },
  {
   "cell_type": "markdown",
   "metadata": {},
   "source": [
    "Summary of Shootings by Races:\n",
    "\n",
    "- In our analysis, we focused on the \"Shooter-1\" categorical variable \"race,\" utilizing labels such as \"b\" (black), \"w\" (white), \"h\" (hispanic), \"ai\" (alaskan indian), \"a\" (asian), \"m\" (mixed), \"u\" (neutral), and \"n\" (native american). We used these labels in conjunction with another categorical variable, \"shooting-type,\" and created a boxplot.\n",
    " \n",
    "- A visual examination of the data reveals that the majority of attacks are initiated by individuals of white and black races. These two racial groups are prominent in indiscriminate, accidental, and targeted attacks. Neutral or unknown race individuals also have a notable presence in indiscriminate and targeted shooting incidents.\n",
    "\n",
    "- Interestingly, there is a notable occurrence where native Americans are proportionally more present within \"target and indiscriminate\" shooting events. This finding highlights the varied involvement of different racial groups in different types of shooting incidents."
   ]
  },
  {
   "cell_type": "markdown",
   "metadata": {},
   "source": [
    "# Model Selection"
   ]
  },
  {
   "cell_type": "markdown",
   "metadata": {},
   "source": [
    "## Model Analysis"
   ]
  },
  {
   "cell_type": "markdown",
   "metadata": {},
   "source": [
    "### Phase I "
   ]
  },
  {
   "cell_type": "markdown",
   "metadata": {},
   "source": [
    "#### Logistic Regression: Login Link with Binary Data on training set"
   ]
  },
  {
   "cell_type": "markdown",
   "metadata": {},
   "source": [
    "-  Splitting Data using Scikit-Learn library. "
   ]
  },
  {
   "cell_type": "code",
   "execution_count": 28,
   "metadata": {},
   "outputs": [
    {
     "name": "stdout",
     "output_type": "stream",
     "text": [
      "Shooting_train: This is the training set containing 70% of the data. \n",
      "Shooting_test: This is the testing set containing 30% of the data. \n"
     ]
    }
   ],
   "source": [
    "random.seed(0)\n",
    "\n",
    "\n",
    "# Split the dataset into a training set (70%) and a testing set (30%). \n",
    "Shooting_train, Shooting_test = train_test_split(Shooting, test_size=0.3, random_state=42)\n",
    "\n",
    "# Printing election of each variable. \n",
    "\n",
    "print( 'Shooting_train: This is the training set containing 70% of the data. ')\n",
    "print('Shooting_test: This is the testing set containing 30% of the data. '  )\n"
   ]
  },
  {
   "cell_type": "markdown",
   "metadata": {},
   "source": [
    "- Applying Analysis for the Training set ( 70 %) of the Dataset"
   ]
  },
  {
   "cell_type": "markdown",
   "metadata": {},
   "source": [
    "- - Model 1: Killed vs. School Type (Binary Logistic Regression)"
   ]
  },
  {
   "cell_type": "code",
   "execution_count": 29,
   "metadata": {},
   "outputs": [
    {
     "name": "stdout",
     "output_type": "stream",
     "text": [
      "                 Generalized Linear Model Regression Results                  \n",
      "==============================================================================\n",
      "Dep. Variable:            school_type   No. Observations:                  270\n",
      "Model:                            GLM   Df Residuals:                      268\n",
      "Model Family:                Binomial   Df Model:                            1\n",
      "Link Function:                  Logit   Scale:                          1.0000\n",
      "Method:                          IRLS   Log-Likelihood:                -63.189\n",
      "Date:                Fri, 20 Oct 2023   Deviance:                       126.38\n",
      "Time:                        20:12:03   Pearson chi2:                     270.\n",
      "No. Iterations:                     5   Pseudo R-squ. (CS):           0.002019\n",
      "Covariance Type:            nonrobust                                         \n",
      "==============================================================================\n",
      "                 coef    std err          z      P>|z|      [0.025      0.975]\n",
      "------------------------------------------------------------------------------\n",
      "Intercept      2.7601      0.266     10.371      0.000       2.238       3.282\n",
      "killed        -0.1465      0.179     -0.820      0.412      -0.496       0.204\n",
      "==============================================================================\n"
     ]
    }
   ],
   "source": [
    "Shooting_train, Shooting_test = train_test_split(Shooting, test_size= 0.3, random_state=42)\n",
    "\n",
    "# Defining a mapping from string values to binary vlaues. \n",
    "school_type_mapping={'public': 1, 'private': 0}\n",
    "Shooting_train['school_type']= Shooting_train['school_type'].map(school_type_mapping)\n",
    "Shooting_train['school_type']\n",
    "\n",
    "# Running Generilized Linear Model Regression for Binary Data. \n",
    "\n",
    "fit_train= smf.glm(formula= 'school_type ~ killed ', family=sm.families.Binomial(), data= Shooting_train).fit()\n",
    "print(fit_train.summary())"
   ]
  },
  {
   "cell_type": "markdown",
   "metadata": {},
   "source": [
    "From the GLM regression results on predicting \"School type\" (public and private) against the number of \"Killed\" cases since (1999-2023), we can see that the p-value for killed cases is 0.412, which is relatively high, suggesting that \"killed\" may no bt a significant predictor of \"school type\", we will continue further the analysis to improve the predictive power. "
   ]
  },
  {
   "cell_type": "markdown",
   "metadata": {},
   "source": [
    "- - Model 2: Injured vs. School Type (Binary Logistic Regression)"
   ]
  },
  {
   "cell_type": "code",
   "execution_count": 30,
   "metadata": {},
   "outputs": [
    {
     "name": "stdout",
     "output_type": "stream",
     "text": [
      "                 Generalized Linear Model Regression Results                  \n",
      "==============================================================================\n",
      "Dep. Variable:            school_type   No. Observations:                  270\n",
      "Model:                            GLM   Df Residuals:                      268\n",
      "Model Family:                Binomial   Df Model:                            1\n",
      "Link Function:                  Logit   Scale:                          1.0000\n",
      "Method:                          IRLS   Log-Likelihood:                -61.280\n",
      "Date:                Fri, 20 Oct 2023   Deviance:                       122.56\n",
      "Time:                        20:12:03   Pearson chi2:                     257.\n",
      "No. Iterations:                     7   Pseudo R-squ. (CS):            0.01603\n",
      "Covariance Type:            nonrobust                                         \n",
      "==============================================================================\n",
      "                 coef    std err          z      P>|z|      [0.025      0.975]\n",
      "------------------------------------------------------------------------------\n",
      "Intercept      2.3047      0.300      7.677      0.000       1.716       2.893\n",
      "injured        0.6316      0.382      1.655      0.098      -0.116       1.380\n",
      "==============================================================================\n"
     ]
    }
   ],
   "source": [
    "Shooting_train, Shooting_test = train_test_split(Shooting, test_size= 0.3, random_state=42)\n",
    "\n",
    "# Defining a mapping from string values to binary vlaues. \n",
    "school_type_mapping={'public': 1, 'private': 0}\n",
    "Shooting_train['school_type']= Shooting_train['school_type'].map(school_type_mapping)\n",
    "Shooting_train['school_type']\n",
    "\n",
    "# Running Generilized Linear Model Regression for Binary Data. \n",
    "\n",
    "fit_train= smf.glm(formula= 'school_type ~ injured', family=sm.families.Binomial(), data= Shooting_train).fit()\n",
    "print(fit_train.summary())"
   ]
  },
  {
   "cell_type": "markdown",
   "metadata": {},
   "source": [
    "From the GLM regression results on predicting \"School type\" (public and private) against the number of \"Injured\" cases since (1999-2023), we can see that the p-value for Injured cases is 0.098, which is relatively close to 0.05. This suggest that \"injured\" might have some incluence on the \"School type\", though it's not highly significant. We will continue with further evaluation to improve the model's predictive power. "
   ]
  },
  {
   "cell_type": "markdown",
   "metadata": {},
   "source": [
    "- -  Model 3: Casualties vs. School Type (Binary Logistic Regression)"
   ]
  },
  {
   "cell_type": "code",
   "execution_count": 31,
   "metadata": {},
   "outputs": [
    {
     "name": "stdout",
     "output_type": "stream",
     "text": [
      "                 Generalized Linear Model Regression Results                  \n",
      "==============================================================================\n",
      "Dep. Variable:            school_type   No. Observations:                  270\n",
      "Model:                            GLM   Df Residuals:                      268\n",
      "Model Family:                Binomial   Df Model:                            1\n",
      "Link Function:                  Logit   Scale:                          1.0000\n",
      "Method:                          IRLS   Log-Likelihood:                -63.080\n",
      "Date:                Fri, 20 Oct 2023   Deviance:                       126.16\n",
      "Time:                        20:12:03   Pearson chi2:                     270.\n",
      "No. Iterations:                     6   Pseudo R-squ. (CS):           0.002824\n",
      "Covariance Type:            nonrobust                                         \n",
      "==============================================================================\n",
      "                 coef    std err          z      P>|z|      [0.025      0.975]\n",
      "------------------------------------------------------------------------------\n",
      "Intercept      2.5432      0.312      8.146      0.000       1.931       3.155\n",
      "casualties     0.1417      0.195      0.726      0.468      -0.241       0.524\n",
      "==============================================================================\n"
     ]
    }
   ],
   "source": [
    "Shooting_train, Shooting_test = train_test_split(Shooting, test_size= 0.3, random_state=42)\n",
    "\n",
    "# Defining a mapping from string values to binary vlaues. \n",
    "school_type_mapping={'public': 1, 'private': 0}\n",
    "Shooting_train['school_type']= Shooting_train['school_type'].map(school_type_mapping)\n",
    "Shooting_train['school_type']\n",
    "\n",
    "# Running Generilized Linear Model Regression for Binary Data. \n",
    "\n",
    "fit_train= smf.glm(formula= 'school_type ~ casualties', family=sm.families.Binomial(), data= Shooting_train).fit()\n",
    "print(fit_train.summary())"
   ]
  },
  {
   "cell_type": "markdown",
   "metadata": {},
   "source": [
    "From the GLM regression results on predicting \"School type\" (public and private) against the number of \"Casualties\" cases since (1999-2023), we can see that the p-value for Injured cases is 0.468, which is larger than common threshold (0.05). It suggests that \"casualties\" is not statistically significant in predicting school type.  We will continue with further evaluation to improve the model's predictive power."
   ]
  },
  {
   "cell_type": "markdown",
   "metadata": {},
   "source": [
    "- - Model 4: Killed and Injured vs. School Type (Binary Logistic Regression)"
   ]
  },
  {
   "cell_type": "code",
   "execution_count": 32,
   "metadata": {},
   "outputs": [
    {
     "name": "stdout",
     "output_type": "stream",
     "text": [
      "                 Generalized Linear Model Regression Results                  \n",
      "==============================================================================\n",
      "Dep. Variable:            school_type   No. Observations:                  270\n",
      "Model:                            GLM   Df Residuals:                      267\n",
      "Model Family:                Binomial   Df Model:                            2\n",
      "Link Function:                  Logit   Scale:                          1.0000\n",
      "Method:                          IRLS   Log-Likelihood:                -60.287\n",
      "Date:                Fri, 20 Oct 2023   Deviance:                       120.57\n",
      "Time:                        20:12:03   Pearson chi2:                     267.\n",
      "No. Iterations:                     7   Pseudo R-squ. (CS):            0.02325\n",
      "Covariance Type:            nonrobust                                         \n",
      "==============================================================================\n",
      "                 coef    std err          z      P>|z|      [0.025      0.975]\n",
      "------------------------------------------------------------------------------\n",
      "Intercept      2.4561      0.315      7.802      0.000       1.839       3.073\n",
      "killed        -0.4016      0.259     -1.550      0.121      -0.909       0.106\n",
      "injured        0.6120      0.348      1.757      0.079      -0.071       1.295\n",
      "==============================================================================\n"
     ]
    }
   ],
   "source": [
    "Shooting_train, Shooting_test = train_test_split(Shooting, test_size= 0.3, random_state=42)\n",
    "\n",
    "# Defining a mapping from string values to binary vlaues. \n",
    "school_type_mapping={'public': 1, 'private': 0}\n",
    "Shooting_train['school_type']= Shooting_train['school_type'].map(school_type_mapping)\n",
    "Shooting_train['school_type']\n",
    "\n",
    "# Running Generilized Linear Model Regression for Binary Data. \n",
    "\n",
    "fit_train= smf.glm(formula= 'school_type ~ killed + injured', family=sm.families.Binomial(), data= Shooting_train).fit()\n",
    "print(fit_train.summary())"
   ]
  },
  {
   "cell_type": "markdown",
   "metadata": {},
   "source": [
    "From the GLM regression results on predicting \"School type\" (public and private) against the number of \"Killed\" and \"Injured\" cases since (1999-2023), we can see that the \"killed\" coefficient is (-0.4016) and the p-value is 0.121, and for \"Injured\" coefficient is (0.6120) and p-value is 0.079. Both p-values are are greater than the common threshold of 0.05, suggesting that neither \"killed\" nor \"injured\" is statistically significant in predicting school_type. The pseudo R-squared value suggests that the model explains only a small portion of the variance in the data. We will continue further analysis to improve model's predictive power."
   ]
  },
  {
   "cell_type": "markdown",
   "metadata": {},
   "source": [
    "- - Modul 4:  School type ( Private and public ) vs \"Killed and Casualty\" cases. "
   ]
  },
  {
   "cell_type": "code",
   "execution_count": 33,
   "metadata": {},
   "outputs": [
    {
     "name": "stdout",
     "output_type": "stream",
     "text": [
      "                 Generalized Linear Model Regression Results                  \n",
      "==============================================================================\n",
      "Dep. Variable:            school_type   No. Observations:                  270\n",
      "Model:                            GLM   Df Residuals:                      267\n",
      "Model Family:                Binomial   Df Model:                            2\n",
      "Link Function:                  Logit   Scale:                          1.0000\n",
      "Method:                          IRLS   Log-Likelihood:                -60.323\n",
      "Date:                Fri, 20 Oct 2023   Deviance:                       120.65\n",
      "Time:                        20:12:03   Pearson chi2:                     267.\n",
      "No. Iterations:                     7   Pseudo R-squ. (CS):            0.02298\n",
      "Covariance Type:            nonrobust                                         \n",
      "==============================================================================\n",
      "                 coef    std err          z      P>|z|      [0.025      0.975]\n",
      "------------------------------------------------------------------------------\n",
      "Intercept      2.4617      0.314      7.846      0.000       1.847       3.077\n",
      "killed        -1.0073      0.442     -2.280      0.023      -1.873      -0.141\n",
      "casualties     0.6050      0.346      1.750      0.080      -0.073       1.283\n",
      "==============================================================================\n"
     ]
    }
   ],
   "source": [
    "Shooting_train, Shooting_test = train_test_split(Shooting, test_size= 0.3, random_state=42)\n",
    "\n",
    "# Defining a mapping from string values to binary vlaues. \n",
    "school_type_mapping={'public': 1, 'private': 0}\n",
    "Shooting_train['school_type']= Shooting_train['school_type'].map(school_type_mapping)\n",
    "Shooting_train['school_type']\n",
    "\n",
    "# Running Generilized Linear Model Regression for Binary Data. \n",
    "\n",
    "fit_train= smf.glm(formula= 'school_type ~ killed + casualties', family=sm.families.Binomial(), data= Shooting_train).fit()\n",
    "print(fit_train.summary())"
   ]
  },
  {
   "cell_type": "markdown",
   "metadata": {},
   "source": [
    "From the GLM regression results on predicting \"School type\" (public and private) against the number of \"Killed\" and \"Casualties\" cases since (1999-2023), we can see that the \"killed\" coefficient is (-1.0073) and the p-value is (0.023), and for \"Casualties\" coefficient is  (0.6050) and p-value is 0.080. \"Killed\" p-values indicates that it is statistically significant in predicting \"school_type.\" The \"casualties\" p-value is slightly above the typical significance level of 0.05, suggesting it might not be statistically significant. The model suggests that the number of killed cases is negatively associated with the likelihood of a school being public, while the number of casualties has a positive but less certain association."
   ]
  },
  {
   "cell_type": "markdown",
   "metadata": {},
   "source": [
    "- - Model 5: Killed, Injured, and Casualties vs. School Type (Binary Logistic Regression)"
   ]
  },
  {
   "cell_type": "code",
   "execution_count": 34,
   "metadata": {},
   "outputs": [
    {
     "name": "stdout",
     "output_type": "stream",
     "text": [
      "                 Generalized Linear Model Regression Results                  \n",
      "==============================================================================\n",
      "Dep. Variable:            school_type   No. Observations:                  270\n",
      "Model:                            GLM   Df Residuals:                      266\n",
      "Model Family:                Binomial   Df Model:                            3\n",
      "Link Function:                  Logit   Scale:                          1.0000\n",
      "Method:                          IRLS   Log-Likelihood:                -60.286\n",
      "Date:                Fri, 20 Oct 2023   Deviance:                       120.57\n",
      "Time:                        20:12:03   Pearson chi2:                     267.\n",
      "No. Iterations:                     7   Pseudo R-squ. (CS):            0.02325\n",
      "Covariance Type:            nonrobust                                         \n",
      "==============================================================================\n",
      "                 coef    std err          z      P>|z|      [0.025      0.975]\n",
      "------------------------------------------------------------------------------\n",
      "Intercept      2.4562      0.315      7.801      0.000       1.839       3.073\n",
      "killed        -0.3665      2.751     -0.133      0.894      -5.758       5.025\n",
      "injured        0.6469      2.745      0.236      0.814      -4.733       6.027\n",
      "casualties    -0.0350      2.738     -0.013      0.990      -5.401       5.331\n",
      "==============================================================================\n"
     ]
    }
   ],
   "source": [
    "Shooting_train, Shooting_test = train_test_split(Shooting, test_size= 0.3, random_state=42)\n",
    "\n",
    "# Defining a mapping from string values to binary vlaues. \n",
    "school_type_mapping={'public': 1, 'private': 0}\n",
    "Shooting_train['school_type']= Shooting_train['school_type'].map(school_type_mapping)\n",
    "Shooting_train['school_type']\n",
    "\n",
    "# Running Generilized Linear Model Regression for Binary Data. \n",
    "\n",
    "fit_train= smf.glm(formula= 'school_type ~ killed +injured + casualties', family=sm.families.Binomial(), data= Shooting_train).fit()\n",
    "print(fit_train.summary())"
   ]
  },
  {
   "cell_type": "markdown",
   "metadata": {},
   "source": [
    "From the GLM regression results on predicting \"School type\" (public and private) against the number of \"Killed\", \"Injured\", and \"Casualties\" cases since (1999-2023), we can see that the \"killed\" coefficient is (-0.3665), for \"injured\" is (0.6469), and for \"casualties\" is  (-0.0350). All three predictor variables have high p-values, indicating that none of them are statistically significant in predicting \"school_type.\" The high p-values suggest that these variables do not provide meaningful information about the outcome.  The high p-values and large standard errors suggest that these variables are not useful for distinguishing between public and private schools in this context. This is a common observation when we are adding too many variables in one single model. We will continue further analysis to improve model's predictive power."
   ]
  },
  {
   "cell_type": "markdown",
   "metadata": {},
   "source": [
    "- - Model 6: Injured and Casualties vs. School Type (Binary Logistic Regression)"
   ]
  },
  {
   "cell_type": "code",
   "execution_count": 35,
   "metadata": {},
   "outputs": [
    {
     "name": "stdout",
     "output_type": "stream",
     "text": [
      "                 Generalized Linear Model Regression Results                  \n",
      "==============================================================================\n",
      "Dep. Variable:            school_type   No. Observations:                  270\n",
      "Model:                            GLM   Df Residuals:                      267\n",
      "Model Family:                Binomial   Df Model:                            2\n",
      "Link Function:                  Logit   Scale:                          1.0000\n",
      "Method:                          IRLS   Log-Likelihood:                -60.295\n",
      "Date:                Fri, 20 Oct 2023   Deviance:                       120.59\n",
      "Time:                        20:12:03   Pearson chi2:                     267.\n",
      "No. Iterations:                     7   Pseudo R-squ. (CS):            0.02319\n",
      "Covariance Type:            nonrobust                                         \n",
      "==============================================================================\n",
      "                 coef    std err          z      P>|z|      [0.025      0.975]\n",
      "------------------------------------------------------------------------------\n",
      "Intercept      2.4559      0.315      7.797      0.000       1.839       3.073\n",
      "injured        1.0097      0.443      2.281      0.023       0.142       1.877\n",
      "casualties    -0.3989      0.259     -1.542      0.123      -0.906       0.108\n",
      "==============================================================================\n"
     ]
    }
   ],
   "source": [
    "Shooting_train, Shooting_test = train_test_split(Shooting, test_size= 0.3, random_state=42)\n",
    "\n",
    "# Defining a mapping from string values to binary vlaues. \n",
    "school_type_mapping={'public': 1, 'private': 0}\n",
    "Shooting_train['school_type']= Shooting_train['school_type'].map(school_type_mapping)\n",
    "Shooting_train['school_type']\n",
    "\n",
    "# Running Generilized Linear Model Regression for Binary Data. \n",
    "\n",
    "fit_train= smf.glm(formula= 'school_type ~ injured + casualties', family=sm.families.Binomial(), data= Shooting_train).fit()\n",
    "print(fit_train.summary())"
   ]
  },
  {
   "cell_type": "markdown",
   "metadata": {},
   "source": [
    "From the GLM regression results on predicting \"School type\" (public and private) against the number of \"Injured\" and \"Casualties\" cases since (1999-2023), we can see that the \"Injured\" coefficient is (1.0097) and the p-value is 0.023, and for \"Casualties\" coefficient is   (-0.3989) and p-value is 0.123. The \"injured\" p-value, indicates that it is statistically significant in predicting \"school_type.\" The \"casualties\" p-value , which is above the typical significance level of 0.05, might not be statistically significant. Based on this summary, the \"injured\" variable is statistically significant in predicting \"school_type,\" while the \"casualties\" variable's significance is borderline. The model suggests that the number of injured cases is positively associated with the likelihood of a school being public, while the number of casualties has a negative but less certain association."
   ]
  },
  {
   "cell_type": "markdown",
   "metadata": {},
   "source": [
    "##### Summary of Logic Regression : Logit Link with Binary Data for the Shooting training set. \n",
    "\n",
    "- - Model 1: Killed vs. School Type (Binary Logistic Regression)\n",
    "\n",
    "    -  Dependent Variable: School Type (Public or Private)\n",
    "    -  Predictor Variable: Killed\n",
    "    Results:\n",
    "    -  Intercept (β0): 2.7601\n",
    "    -  Coefficient for Killed (β1): -0.1465\n",
    "\n",
    "    Interpretation: An increase in the number of killed cases is associated with a decrease in the log-odds of a school being public instead of private. The model does not provide strong predictive power based on the coefficient for \"killed.\"\n",
    "\n",
    "\n",
    "- - Model 2: Injured vs. School Type (Binary Logistic Regression)\n",
    "\n",
    "    -  Dependent Variable: School Type (Public or Private)\n",
    "    -  Predictor Variable: Injured\n",
    "    Results:\n",
    "    -  Intercept (β0): 2.3047\n",
    "    -  Coefficient for Injured (β1): 0.6316\n",
    "\n",
    "    Interpretation: An increase in the number of injured cases is associated with an increase in the log-odds of a school being public instead of private. The model suggests that the number of injured cases has a positive impact on predicting public schools.\n",
    "\n",
    "\n",
    "- - Model 3: Casualties vs. School Type (Binary Logistic Regression)\n",
    "\n",
    "    -  Dependent Variable: School Type (Public or Private)\n",
    "    -   Predictor Variable: Casualties\n",
    "    Results:\n",
    "    -  Intercept (β0): 2.5432\n",
    "    -  Coefficient for Casualties (β1): 0.1417\n",
    "    \n",
    "    Interpretation: An increase in the number of casualties is weakly associated with an increase in the log-odds of a school being public instead of private. The coefficient is small, indicating limited predictive power based on casualties.\n",
    "\n",
    "\n",
    "- - Model 4: Killed and Injured vs. School Type (Binary Logistic Regression)\n",
    "\n",
    "    - Dependent Variable: School Type (Public or Private)\n",
    "    - Predictor Variables: Killed and Injured\n",
    "    Results:\n",
    "    - Intercept (β0): 2.4561\n",
    "    - Coefficient for Killed (β1): -0.4016\n",
    "    - Coefficient for Injured (β2): 0.6120\n",
    "    \n",
    "    Interpretation: The combined model considers both killed and injured cases. An increase in killed cases is associated with a decrease in the log-odds of a school being public. An increase in injured cases is associated with an increase in the log-odds of a school being public. The model suggests that injured cases have a stronger positive impact on predicting public schools than killed cases have on predicting private schools.\n",
    "\n",
    "\n",
    "- - Model 5: Killed, Injured, and Casualties vs. School Type (Binary Logistic Regression)\n",
    "\n",
    "    - Dependent Variable: School Type (Public or Private)\n",
    "    - Predictor Variables: Killed, Injured, and Casualties\n",
    "    Results:\n",
    "    - Intercept (β0): 2.4562\n",
    "    - Coefficient for Killed (β1): -0.3665\n",
    "    - Coefficient for Injured (β2): 0.6469\n",
    "    - Coefficient for Casualties (β3): -0.0350\n",
    "    \n",
    "    Interpretation: This model includes all three variables. Similar to Model 4, killed cases have a negative impact on predicting public schools, injured cases have a positive impact, and casualties have little impact on predicting school type.\n",
    "\n",
    "\n",
    "- - Model 6: Injured and Casualties vs. School Type (Binary Logistic Regression)\n",
    "\n",
    "    - Dependent Variable: School Type (Public or Private)\n",
    "    - Predictor Variables: Injured and Casualties\n",
    "    Results:\n",
    "    - Intercept (β0): 2.4559\n",
    "    - Coefficient for Injured (β1): 1.0097\n",
    "    - Coefficient for Casualties (β2): -0.3989\n",
    "    \n",
    "    Interpretation: In this model, injured cases have a strong positive impact on predicting public schools, while casualties have a limited negative impact."
   ]
  },
  {
   "cell_type": "markdown",
   "metadata": {},
   "source": [
    "#### Analysis of Variance (ANOVA test on training set). "
   ]
  },
  {
   "cell_type": "markdown",
   "metadata": {},
   "source": [
    "- Model 1: ANOVA test on \"Age_shooter vs State\" . "
   ]
  },
  {
   "cell_type": "code",
   "execution_count": 36,
   "metadata": {},
   "outputs": [
    {
     "name": "stdout",
     "output_type": "stream",
     "text": [
      "                            OLS Regression Results                            \n",
      "==============================================================================\n",
      "Dep. Variable:           age_shooter1   R-squared:                       0.119\n",
      "Model:                            OLS   Adj. R-squared:                 -0.049\n",
      "Method:                 Least Squares   F-statistic:                    0.7085\n",
      "Date:                Fri, 20 Oct 2023   Prob (F-statistic):              0.912\n",
      "Time:                        20:12:03   Log-Likelihood:                -939.50\n",
      "No. Observations:                 270   AIC:                             1967.\n",
      "Df Residuals:                     226   BIC:                             2125.\n",
      "Df Model:                          43                                         \n",
      "Covariance Type:            nonrobust                                         \n",
      "=================================================================================================\n",
      "                                    coef    std err          t      P>|t|      [0.025      0.975]\n",
      "-------------------------------------------------------------------------------------------------\n",
      "Intercept                        23.1569      2.714      8.533      0.000      17.809      28.505\n",
      "state[T.Arizona]                 -1.0858      5.077     -0.214      0.831     -11.090       8.919\n",
      "state[T.Arkansas]                -6.3954      5.649     -1.132      0.259     -17.527       4.736\n",
      "state[T.California]              -2.4075      3.161     -0.761      0.447      -8.637       3.822\n",
      "state[T.Colorado]                -2.8358      5.077     -0.559      0.577     -12.840       7.169\n",
      "state[T.Connecticut]             -4.3005      5.649     -0.761      0.447     -15.432       6.831\n",
      "state[T.Delaware]                23.8431      9.001      2.649      0.009       6.107      41.579\n",
      "state[T.District of Columbia]    -4.3005      5.649     -0.761      0.447     -15.432       6.831\n",
      "state[T.Florida]                 -1.7948      3.610     -0.497      0.620      -8.908       5.318\n",
      "state[T.Georgia]                 -4.7766      3.943     -1.211      0.227     -12.546       2.993\n",
      "state[T.Hawaii]                  -3.8723      9.001     -0.430      0.667     -21.608      13.864\n",
      "state[T.Idaho]                   -3.8723      9.001     -0.430      0.667     -21.608      13.864\n",
      "state[T.Illinois]                -6.6639      3.750     -1.777      0.077     -14.053       0.725\n",
      "state[T.Indiana]                 -3.6813      4.432     -0.831      0.407     -12.414       5.051\n",
      "state[T.Iowa]                    -3.8723      9.001     -0.430      0.667     -21.608      13.864\n",
      "state[T.Kansas]                   2.8431      9.001      0.316      0.752     -14.893      20.579\n",
      "state[T.Kentucky]                -0.6569      6.647     -0.099      0.921     -13.756      12.442\n",
      "state[T.Louisiana]               -7.4252      4.071     -1.824      0.069     -15.447       0.596\n",
      "state[T.Maryland]                -5.3954      4.432     -1.217      0.225     -14.128       3.337\n",
      "state[T.Massachusetts]           -4.6338      5.649     -0.820      0.413     -15.766       6.498\n",
      "state[T.Michigan]                -3.0810      3.503     -0.879      0.380      -9.985       3.823\n",
      "state[T.Minnesota]               -0.3000      4.700     -0.064      0.949      -9.562       8.962\n",
      "state[T.Mississippi]             -3.5861      4.700     -0.763      0.446     -12.848       5.676\n",
      "state[T.Missouri]                 2.0572      4.432      0.464      0.643      -6.675      10.790\n",
      "state[T.Montana]                 -3.8723      9.001     -0.430      0.667     -21.608      13.864\n",
      "state[T.Nebraska]                -6.1569      9.001     -0.684      0.495     -23.893      11.579\n",
      "state[T.Nevada]                  -5.3954      5.649     -0.955      0.341     -16.527       5.736\n",
      "state[T.New Jersey]              -6.0146      6.647     -0.905      0.367     -19.113       7.084\n",
      "state[T.New Mexico]              -4.3954      5.649     -0.778      0.437     -15.527       6.736\n",
      "state[T.New York]                -2.0715      3.838     -0.540      0.590      -9.634       5.491\n",
      "state[T.North Carolina]          -6.1234      3.420     -1.790      0.075     -12.863       0.616\n",
      "state[T.North Dakota]            -3.8723      9.001     -0.430      0.667     -21.608      13.864\n",
      "state[T.Ohio]                    -0.2591      4.229     -0.061      0.951      -8.593       8.074\n",
      "state[T.Oklahoma]                -2.0858      5.077     -0.411      0.682     -12.090       7.919\n",
      "state[T.Oregon]                  -3.9069      5.077     -0.770      0.442     -13.911       6.097\n",
      "state[T.Pennsylvania]            -5.5146      3.838     -1.437      0.152     -13.077       2.048\n",
      "state[T.Rhode Island]            -3.8723      9.001     -0.430      0.667     -21.608      13.864\n",
      "state[T.South Carolina]          -2.9608      4.071     -0.727      0.468     -10.982       5.061\n",
      "state[T.Tennessee]               -6.7933      3.750     -1.812      0.071     -14.182       0.595\n",
      "state[T.Texas]                   -4.5181      3.353     -1.348      0.179     -11.125       2.089\n",
      "state[T.Utah]                    -6.2646      5.077     -1.234      0.219     -16.269       3.740\n",
      "state[T.Virginia]                -6.0146      6.647     -0.905      0.367     -19.113       7.084\n",
      "state[T.Washington]              -8.4069      4.071     -2.065      0.040     -16.428      -0.386\n",
      "state[T.Wisconsin]               -5.8431      4.700     -1.243      0.215     -15.105       3.419\n",
      "==============================================================================\n",
      "Omnibus:                      185.357   Durbin-Watson:                   1.769\n",
      "Prob(Omnibus):                  0.000   Jarque-Bera (JB):             1575.670\n",
      "Skew:                           2.794   Prob(JB):                         0.00\n",
      "Kurtosis:                      13.432   Cond. No.                         36.7\n",
      "==============================================================================\n",
      "\n",
      "Notes:\n",
      "[1] Standard Errors assume that the covariance matrix of the errors is correctly specified.\n"
     ]
    }
   ],
   "source": [
    "fit2_train= smf.ols(formula= ' age_shooter1 ~ state',  data= Shooting_train).fit()\n",
    "print(fit2_train.summary())"
   ]
  },
  {
   "cell_type": "code",
   "execution_count": 37,
   "metadata": {},
   "outputs": [
    {
     "name": "stdout",
     "output_type": "stream",
     "text": [
      "                sum_sq     df         F    PR(>F)\n",
      "state      2243.558297   43.0  0.708459  0.911668\n",
      "Residual  16644.196460  226.0       NaN       NaN\n",
      "No significant differences in shooter age across states.\n"
     ]
    }
   ],
   "source": [
    "# Performing  ANOVA\n",
    "model_train = ols('age_shooter1 ~ state', data=Shooting_train).fit()\n",
    "anova_table = sm.stats.anova_lm(model_train, typ=2)\n",
    "\n",
    "# Printing  ANOVA results\n",
    "print(anova_table)\n",
    "\n",
    "# Interpret the results based on p-value\n",
    "if anova_table['PR(>F)'][0] < 0.05:\n",
    "    print(\"There are significant differences in shooter age across states.\")\n",
    "else:\n",
    "    print(\"No significant differences in shooter age across states.\")"
   ]
  },
  {
   "cell_type": "markdown",
   "metadata": {},
   "source": [
    "- Model 2: ANOVA test on \"Killed average cases vs State\" . "
   ]
  },
  {
   "cell_type": "code",
   "execution_count": 38,
   "metadata": {},
   "outputs": [
    {
     "name": "stdout",
     "output_type": "stream",
     "text": [
      "                            OLS Regression Results                            \n",
      "==============================================================================\n",
      "Dep. Variable:                 killed   R-squared:                       0.114\n",
      "Model:                            OLS   Adj. R-squared:                 -0.055\n",
      "Method:                 Least Squares   F-statistic:                    0.6746\n",
      "Date:                Fri, 20 Oct 2023   Prob (F-statistic):              0.938\n",
      "Time:                        20:12:04   Log-Likelihood:                -362.75\n",
      "No. Observations:                 270   AIC:                             813.5\n",
      "Df Residuals:                     226   BIC:                             971.8\n",
      "Df Model:                          43                                         \n",
      "Covariance Type:            nonrobust                                         \n",
      "=================================================================================================\n",
      "                                    coef    std err          t      P>|t|      [0.025      0.975]\n",
      "-------------------------------------------------------------------------------------------------\n",
      "Intercept                         0.1000      0.321      0.312      0.755      -0.532       0.732\n",
      "state[T.Arizona]                  0.4000      0.600      0.667      0.505      -0.782       1.582\n",
      "state[T.Arkansas]                -0.1000      0.667     -0.150      0.881      -1.415       1.215\n",
      "state[T.California]               0.1857      0.373      0.497      0.619      -0.550       0.922\n",
      "state[T.Colorado]                 0.1500      0.600      0.250      0.803      -1.032       1.332\n",
      "state[T.Connecticut]             -0.1000      0.667     -0.150      0.881      -1.415       1.215\n",
      "state[T.Delaware]                 0.9000      1.063      0.847      0.398      -1.195       2.995\n",
      "state[T.District of Columbia]     0.2333      0.667      0.350      0.727      -1.081       1.548\n",
      "state[T.Florida]                  0.0538      0.426      0.126      0.900      -0.786       0.894\n",
      "state[T.Georgia]                 -0.1000      0.466     -0.215      0.830      -1.018       0.818\n",
      "state[T.Hawaii]                  -0.1000      1.063     -0.094      0.925      -2.195       1.995\n",
      "state[T.Idaho]                   -0.1000      1.063     -0.094      0.925      -2.195       1.995\n",
      "state[T.Illinois]                -0.0091      0.443     -0.021      0.984      -0.882       0.864\n",
      "state[T.Indiana]                 -0.1000      0.523     -0.191      0.849      -1.131       0.931\n",
      "state[T.Iowa]                     0.9000      1.063      0.847      0.398      -1.195       2.995\n",
      "state[T.Kansas]                  -0.1000      1.063     -0.094      0.925      -2.195       1.995\n",
      "state[T.Kentucky]                 1.4000      0.785      1.783      0.076      -0.147       2.947\n",
      "state[T.Louisiana]                0.0250      0.481      0.052      0.959      -0.922       0.972\n",
      "state[T.Maryland]                 0.4000      0.523      0.764      0.446      -0.631       1.431\n",
      "state[T.Massachusetts]           -0.1000      0.667     -0.150      0.881      -1.415       1.215\n",
      "state[T.Michigan]                 0.2333      0.414      0.564      0.573      -0.582       1.049\n",
      "state[T.Minnesota]                1.5000      0.555      2.702      0.007       0.406       2.594\n",
      "state[T.Mississippi]              0.1000      0.555      0.180      0.857      -0.994       1.194\n",
      "state[T.Missouri]                 0.5667      0.523      1.083      0.280      -0.465       1.598\n",
      "state[T.Montana]                 -0.1000      1.063     -0.094      0.925      -2.195       1.995\n",
      "state[T.Nebraska]                 0.9000      1.063      0.847      0.398      -1.195       2.995\n",
      "state[T.Nevada]                   0.2333      0.667      0.350      0.727      -1.081       1.548\n",
      "state[T.New Jersey]              -0.1000      0.785     -0.127      0.899      -1.647       1.447\n",
      "state[T.New Mexico]               0.5667      0.667      0.849      0.397      -0.748       1.881\n",
      "state[T.New York]              4.583e-15      0.453   1.01e-14      1.000      -0.893       0.893\n",
      "state[T.North Carolina]           0.0176      0.404      0.044      0.965      -0.778       0.814\n",
      "state[T.North Dakota]             0.9000      1.063      0.847      0.398      -1.195       2.995\n",
      "state[T.Ohio]                     0.3286      0.500      0.658      0.511      -0.656       1.313\n",
      "state[T.Oklahoma]                -0.1000      0.600     -0.167      0.868      -1.282       1.082\n",
      "state[T.Oregon]                   0.1500      0.600      0.250      0.803      -1.032       1.332\n",
      "state[T.Pennsylvania]             0.1000      0.453      0.221      0.826      -0.793       0.993\n",
      "state[T.Rhode Island]            -0.1000      1.063     -0.094      0.925      -2.195       1.995\n",
      "state[T.South Carolina]           0.2750      0.481      0.572      0.568      -0.672       1.222\n",
      "state[T.Tennessee]                0.6273      0.443      1.416      0.158      -0.245       1.500\n",
      "state[T.Texas]                    0.5842      0.396      1.475      0.142      -0.196       1.365\n",
      "state[T.Utah]                    -0.1000      0.600     -0.167      0.868      -1.282       1.082\n",
      "state[T.Virginia]                -0.1000      0.785     -0.127      0.899      -1.647       1.447\n",
      "state[T.Washington]               0.9000      0.481      1.872      0.063      -0.047       1.847\n",
      "state[T.Wisconsin]                0.1000      0.555      0.180      0.857      -0.994       1.194\n",
      "==============================================================================\n",
      "Omnibus:                      339.515   Durbin-Watson:                   2.015\n",
      "Prob(Omnibus):                  0.000   Jarque-Bera (JB):            23881.135\n",
      "Skew:                           5.597   Prob(JB):                         0.00\n",
      "Kurtosis:                      47.693   Cond. No.                         36.7\n",
      "==============================================================================\n",
      "\n",
      "Notes:\n",
      "[1] Standard Errors assume that the covariance matrix of the errors is correctly specified.\n"
     ]
    }
   ],
   "source": [
    "fit3_train= smf.ols(formula= 'killed ~ state',  data= Shooting_train).fit()\n",
    "print(fit3_train.summary())"
   ]
  },
  {
   "cell_type": "code",
   "execution_count": 39,
   "metadata": {},
   "outputs": [
    {
     "name": "stdout",
     "output_type": "stream",
     "text": [
      "              sum_sq     df         F    PR(>F)\n",
      "state      29.801576   43.0  0.674559  0.938445\n",
      "Residual  232.198424  226.0       NaN       NaN\n",
      "No significant differences in killed cases average across states.\n"
     ]
    }
   ],
   "source": [
    "# Performing  ANOVA\n",
    "model_train_killed = ols('killed ~ state', data=Shooting_train).fit()\n",
    "anova_table_killed = sm.stats.anova_lm(model_train_killed, typ=2)\n",
    "\n",
    "# Printing  ANOVA results\n",
    "print(anova_table_killed)\n",
    "\n",
    "# Interpret the results based on p-value\n",
    "if anova_table_killed['PR(>F)'][0] < 0.05:\n",
    "    print(\"There are significant differences in killed cases average across states.\")\n",
    "else:\n",
    "    print(\"No significant differences in killed cases average across states.\")"
   ]
  },
  {
   "cell_type": "markdown",
   "metadata": {},
   "source": [
    "- Model 3: ANOVA test on \"Injured average cases vs State\" . "
   ]
  },
  {
   "cell_type": "code",
   "execution_count": 40,
   "metadata": {},
   "outputs": [
    {
     "name": "stdout",
     "output_type": "stream",
     "text": [
      "                            OLS Regression Results                            \n",
      "==============================================================================\n",
      "Dep. Variable:           age_shooter1   R-squared:                       0.119\n",
      "Model:                            OLS   Adj. R-squared:                 -0.049\n",
      "Method:                 Least Squares   F-statistic:                    0.7085\n",
      "Date:                Fri, 20 Oct 2023   Prob (F-statistic):              0.912\n",
      "Time:                        20:12:04   Log-Likelihood:                -939.50\n",
      "No. Observations:                 270   AIC:                             1967.\n",
      "Df Residuals:                     226   BIC:                             2125.\n",
      "Df Model:                          43                                         \n",
      "Covariance Type:            nonrobust                                         \n",
      "=================================================================================================\n",
      "                                    coef    std err          t      P>|t|      [0.025      0.975]\n",
      "-------------------------------------------------------------------------------------------------\n",
      "Intercept                        23.1569      2.714      8.533      0.000      17.809      28.505\n",
      "state[T.Arizona]                 -1.0858      5.077     -0.214      0.831     -11.090       8.919\n",
      "state[T.Arkansas]                -6.3954      5.649     -1.132      0.259     -17.527       4.736\n",
      "state[T.California]              -2.4075      3.161     -0.761      0.447      -8.637       3.822\n",
      "state[T.Colorado]                -2.8358      5.077     -0.559      0.577     -12.840       7.169\n",
      "state[T.Connecticut]             -4.3005      5.649     -0.761      0.447     -15.432       6.831\n",
      "state[T.Delaware]                23.8431      9.001      2.649      0.009       6.107      41.579\n",
      "state[T.District of Columbia]    -4.3005      5.649     -0.761      0.447     -15.432       6.831\n",
      "state[T.Florida]                 -1.7948      3.610     -0.497      0.620      -8.908       5.318\n",
      "state[T.Georgia]                 -4.7766      3.943     -1.211      0.227     -12.546       2.993\n",
      "state[T.Hawaii]                  -3.8723      9.001     -0.430      0.667     -21.608      13.864\n",
      "state[T.Idaho]                   -3.8723      9.001     -0.430      0.667     -21.608      13.864\n",
      "state[T.Illinois]                -6.6639      3.750     -1.777      0.077     -14.053       0.725\n",
      "state[T.Indiana]                 -3.6813      4.432     -0.831      0.407     -12.414       5.051\n",
      "state[T.Iowa]                    -3.8723      9.001     -0.430      0.667     -21.608      13.864\n",
      "state[T.Kansas]                   2.8431      9.001      0.316      0.752     -14.893      20.579\n",
      "state[T.Kentucky]                -0.6569      6.647     -0.099      0.921     -13.756      12.442\n",
      "state[T.Louisiana]               -7.4252      4.071     -1.824      0.069     -15.447       0.596\n",
      "state[T.Maryland]                -5.3954      4.432     -1.217      0.225     -14.128       3.337\n",
      "state[T.Massachusetts]           -4.6338      5.649     -0.820      0.413     -15.766       6.498\n",
      "state[T.Michigan]                -3.0810      3.503     -0.879      0.380      -9.985       3.823\n",
      "state[T.Minnesota]               -0.3000      4.700     -0.064      0.949      -9.562       8.962\n",
      "state[T.Mississippi]             -3.5861      4.700     -0.763      0.446     -12.848       5.676\n",
      "state[T.Missouri]                 2.0572      4.432      0.464      0.643      -6.675      10.790\n",
      "state[T.Montana]                 -3.8723      9.001     -0.430      0.667     -21.608      13.864\n",
      "state[T.Nebraska]                -6.1569      9.001     -0.684      0.495     -23.893      11.579\n",
      "state[T.Nevada]                  -5.3954      5.649     -0.955      0.341     -16.527       5.736\n",
      "state[T.New Jersey]              -6.0146      6.647     -0.905      0.367     -19.113       7.084\n",
      "state[T.New Mexico]              -4.3954      5.649     -0.778      0.437     -15.527       6.736\n",
      "state[T.New York]                -2.0715      3.838     -0.540      0.590      -9.634       5.491\n",
      "state[T.North Carolina]          -6.1234      3.420     -1.790      0.075     -12.863       0.616\n",
      "state[T.North Dakota]            -3.8723      9.001     -0.430      0.667     -21.608      13.864\n",
      "state[T.Ohio]                    -0.2591      4.229     -0.061      0.951      -8.593       8.074\n",
      "state[T.Oklahoma]                -2.0858      5.077     -0.411      0.682     -12.090       7.919\n",
      "state[T.Oregon]                  -3.9069      5.077     -0.770      0.442     -13.911       6.097\n",
      "state[T.Pennsylvania]            -5.5146      3.838     -1.437      0.152     -13.077       2.048\n",
      "state[T.Rhode Island]            -3.8723      9.001     -0.430      0.667     -21.608      13.864\n",
      "state[T.South Carolina]          -2.9608      4.071     -0.727      0.468     -10.982       5.061\n",
      "state[T.Tennessee]               -6.7933      3.750     -1.812      0.071     -14.182       0.595\n",
      "state[T.Texas]                   -4.5181      3.353     -1.348      0.179     -11.125       2.089\n",
      "state[T.Utah]                    -6.2646      5.077     -1.234      0.219     -16.269       3.740\n",
      "state[T.Virginia]                -6.0146      6.647     -0.905      0.367     -19.113       7.084\n",
      "state[T.Washington]              -8.4069      4.071     -2.065      0.040     -16.428      -0.386\n",
      "state[T.Wisconsin]               -5.8431      4.700     -1.243      0.215     -15.105       3.419\n",
      "==============================================================================\n",
      "Omnibus:                      185.357   Durbin-Watson:                   1.769\n",
      "Prob(Omnibus):                  0.000   Jarque-Bera (JB):             1575.670\n",
      "Skew:                           2.794   Prob(JB):                         0.00\n",
      "Kurtosis:                      13.432   Cond. No.                         36.7\n",
      "==============================================================================\n",
      "\n",
      "Notes:\n",
      "[1] Standard Errors assume that the covariance matrix of the errors is correctly specified.\n"
     ]
    }
   ],
   "source": [
    "fit3_train= smf.ols(formula= ' injured ~ state',  data= Shooting_train).fit()\n",
    "print(fit2_train.summary())"
   ]
  },
  {
   "cell_type": "code",
   "execution_count": 41,
   "metadata": {},
   "outputs": [
    {
     "name": "stdout",
     "output_type": "stream",
     "text": [
      "              sum_sq     df         F    PR(>F)\n",
      "state     132.677639   43.0  1.044989  0.404806\n",
      "Residual  667.307546  226.0       NaN       NaN\n",
      "No significant differences in injured cases average across states.\n"
     ]
    }
   ],
   "source": [
    "# Performing  ANOVA\n",
    "model_train_injured = ols('injured ~ state', data=Shooting_train).fit()\n",
    "anova_table_injured = sm.stats.anova_lm(model_train_injured, typ=2)\n",
    "\n",
    "# Printing  ANOVA results\n",
    "print(anova_table_injured)\n",
    "\n",
    "# Interpret the results based on p-value\n",
    "if anova_table_injured['PR(>F)'][0] < 0.05:\n",
    "    print(\"There are significant differences in injured cases average across states.\")\n",
    "else:\n",
    "    print(\"No significant differences in injured cases average across states.\")"
   ]
  },
  {
   "cell_type": "markdown",
   "metadata": {},
   "source": [
    "- Model 4: ANOVA test on \"Casualties average cases vs State\" . "
   ]
  },
  {
   "cell_type": "code",
   "execution_count": 42,
   "metadata": {},
   "outputs": [
    {
     "name": "stdout",
     "output_type": "stream",
     "text": [
      "                            OLS Regression Results                            \n",
      "==============================================================================\n",
      "Dep. Variable:             casualties   R-squared:                       0.146\n",
      "Model:                            OLS   Adj. R-squared:                 -0.017\n",
      "Method:                 Least Squares   F-statistic:                    0.8961\n",
      "Date:                Fri, 20 Oct 2023   Prob (F-statistic):              0.658\n",
      "Time:                        20:12:04   Log-Likelihood:                -589.92\n",
      "No. Observations:                 270   AIC:                             1268.\n",
      "Df Residuals:                     226   BIC:                             1426.\n",
      "Df Model:                          43                                         \n",
      "Covariance Type:            nonrobust                                         \n",
      "=================================================================================================\n",
      "                                    coef    std err          t      P>|t|      [0.025      0.975]\n",
      "-------------------------------------------------------------------------------------------------\n",
      "Intercept                         0.6000      0.744      0.807      0.421      -0.865       2.065\n",
      "state[T.Arizona]                  0.6500      1.391      0.467      0.641      -2.091       3.391\n",
      "state[T.Arkansas]                 0.0667      1.548      0.043      0.966      -2.983       3.116\n",
      "state[T.California]               1.1857      0.866      1.369      0.172      -0.521       2.892\n",
      "state[T.Colorado]                 0.9000      1.391      0.647      0.518      -1.841       3.641\n",
      "state[T.Connecticut]             -0.6000      1.548     -0.388      0.699      -3.650       2.450\n",
      "state[T.Delaware]                 0.4000      2.466      0.162      0.871      -4.459       5.259\n",
      "state[T.District of Columbia]     0.0667      1.548      0.043      0.966      -2.983       3.116\n",
      "state[T.Florida]                  0.4000      0.989      0.404      0.686      -1.549       2.349\n",
      "state[T.Georgia]                  0.5111      1.080      0.473      0.637      -1.618       2.640\n",
      "state[T.Hawaii]                   0.4000      2.466      0.162      0.871      -4.459       5.259\n",
      "state[T.Idaho]                    2.4000      2.466      0.973      0.331      -2.459       7.259\n",
      "state[T.Illinois]                 0.4000      1.027      0.389      0.697      -1.624       2.424\n",
      "state[T.Indiana]                  0.0667      1.214      0.055      0.956      -2.326       2.459\n",
      "state[T.Iowa]                     2.4000      2.466      0.973      0.331      -2.459       7.259\n",
      "state[T.Kansas]                  -0.6000      2.466     -0.243      0.808      -5.459       4.259\n",
      "state[T.Kentucky]                 7.9000      1.821      4.338      0.000       4.311      11.489\n",
      "state[T.Louisiana]                0.5250      1.115      0.471      0.638      -1.673       2.723\n",
      "state[T.Maryland]                 0.5667      1.214      0.467      0.641      -1.826       2.959\n",
      "state[T.Massachusetts]            0.0667      1.548      0.043      0.966      -2.983       3.116\n",
      "state[T.Michigan]                 0.7333      0.960      0.764      0.446      -1.158       2.625\n",
      "state[T.Minnesota]                2.6000      1.288      2.019      0.045       0.062       5.138\n",
      "state[T.Mississippi]             -0.2000      1.288     -0.155      0.877      -2.738       2.338\n",
      "state[T.Missouri]                 1.5667      1.214      1.290      0.198      -0.826       3.959\n",
      "state[T.Montana]                 -0.6000      2.466     -0.243      0.808      -5.459       4.259\n",
      "state[T.Nebraska]                 2.4000      2.466      0.973      0.331      -2.459       7.259\n",
      "state[T.Nevada]                   0.0667      1.548      0.043      0.966      -2.983       3.116\n",
      "state[T.New Jersey]              -0.1000      1.821     -0.055      0.956      -3.689       3.489\n",
      "state[T.New Mexico]               0.4000      1.548      0.258      0.796      -2.650       3.450\n",
      "state[T.New York]              6.081e-15      1.051   5.78e-15      1.000      -2.072       2.072\n",
      "state[T.North Carolina]           0.1647      0.937      0.176      0.861      -1.682       2.011\n",
      "state[T.North Dakota]             0.4000      2.466      0.162      0.871      -4.459       5.259\n",
      "state[T.Ohio]                     0.9714      1.159      0.838      0.403      -1.312       3.255\n",
      "state[T.Oklahoma]                 0.9000      1.391      0.647      0.518      -1.841       3.641\n",
      "state[T.Oregon]                   2.4000      1.391      1.725      0.086      -0.341       5.141\n",
      "state[T.Pennsylvania]             0.6000      1.051      0.571      0.569      -1.472       2.672\n",
      "state[T.Rhode Island]            -0.6000      2.466     -0.243      0.808      -5.459       4.259\n",
      "state[T.South Carolina]           0.6500      1.115      0.583      0.561      -1.548       2.848\n",
      "state[T.Tennessee]                1.0364      1.027      1.009      0.314      -0.988       3.061\n",
      "state[T.Texas]                    1.4526      0.919      1.581      0.115      -0.357       3.263\n",
      "state[T.Utah]                    -0.3500      1.391     -0.252      0.802      -3.091       2.391\n",
      "state[T.Virginia]                 0.9000      1.821      0.494      0.622      -2.689       4.489\n",
      "state[T.Washington]               1.0250      1.115      0.919      0.359      -1.173       3.223\n",
      "state[T.Wisconsin]                0.2000      1.288      0.155      0.877      -2.338       2.738\n",
      "==============================================================================\n",
      "Omnibus:                      299.141   Durbin-Watson:                   2.121\n",
      "Prob(Omnibus):                  0.000   Jarque-Bera (JB):            16022.197\n",
      "Skew:                           4.575   Prob(JB):                         0.00\n",
      "Kurtosis:                      39.613   Cond. No.                         36.7\n",
      "==============================================================================\n",
      "\n",
      "Notes:\n",
      "[1] Standard Errors assume that the covariance matrix of the errors is correctly specified.\n"
     ]
    }
   ],
   "source": [
    "fit5_train= smf.ols(formula= ' casualties ~ state',  data= Shooting_train).fit()\n",
    "print(fit5_train.summary())"
   ]
  },
  {
   "cell_type": "code",
   "execution_count": 43,
   "metadata": {},
   "outputs": [
    {
     "name": "stdout",
     "output_type": "stream",
     "text": [
      "               sum_sq     df         F    PR(>F)\n",
      "state      213.010523   43.0  0.896123  0.657531\n",
      "Residual  1249.319107  226.0       NaN       NaN\n",
      "No significant differences in casaulties cases average across states.\n"
     ]
    }
   ],
   "source": [
    "# Performing  ANOVA\n",
    "model_train_casualties = ols('casualties ~ state', data=Shooting_train).fit()\n",
    "anova_table_casualties = sm.stats.anova_lm(model_train_casualties, typ=2)\n",
    "\n",
    "# Printing  ANOVA results\n",
    "print(anova_table_casualties)\n",
    "\n",
    "# Interpret the results based on p-value\n",
    "if anova_table_casualties['PR(>F)'][0] < 0.05:\n",
    "    print(\"There are significant differences in casualties cases average across states.\")\n",
    "else:\n",
    "    print(\"No significant differences in casaulties cases average across states.\")"
   ]
  },
  {
   "cell_type": "markdown",
   "metadata": {},
   "source": [
    "- Model 5: ANOVA test on \"Killed average cases vs Day of the Week\" . "
   ]
  },
  {
   "cell_type": "code",
   "execution_count": 44,
   "metadata": {},
   "outputs": [
    {
     "name": "stdout",
     "output_type": "stream",
     "text": [
      "                            OLS Regression Results                            \n",
      "==============================================================================\n",
      "Dep. Variable:                 killed   R-squared:                       0.012\n",
      "Model:                            OLS   Adj. R-squared:                 -0.003\n",
      "Method:                 Least Squares   F-statistic:                    0.7945\n",
      "Date:                Fri, 20 Oct 2023   Prob (F-statistic):              0.530\n",
      "Time:                        20:12:04   Log-Likelihood:                -377.44\n",
      "No. Observations:                 270   AIC:                             764.9\n",
      "Df Residuals:                     265   BIC:                             782.9\n",
      "Df Model:                           4                                         \n",
      "Covariance Type:            nonrobust                                         \n",
      "============================================================================================\n",
      "                               coef    std err          t      P>|t|      [0.025      0.975]\n",
      "--------------------------------------------------------------------------------------------\n",
      "Intercept                    0.5278      0.165      3.204      0.002       0.203       0.852\n",
      "day_of_week[T.Monday]       -0.1124      0.205     -0.547      0.585      -0.517       0.292\n",
      "day_of_week[T.Thursday]     -0.3441      0.217     -1.586      0.114      -0.771       0.083\n",
      "day_of_week[T.Tuesday]      -0.2355      0.205     -1.147      0.253      -0.640       0.169\n",
      "day_of_week[T.Wednesday]    -0.2369      0.212     -1.118      0.265      -0.654       0.180\n",
      "==============================================================================\n",
      "Omnibus:                      341.702   Durbin-Watson:                   1.967\n",
      "Prob(Omnibus):                  0.000   Jarque-Bera (JB):            21961.903\n",
      "Skew:                           5.716   Prob(JB):                         0.00\n",
      "Kurtosis:                      45.679   Cond. No.                         7.03\n",
      "==============================================================================\n",
      "\n",
      "Notes:\n",
      "[1] Standard Errors assume that the covariance matrix of the errors is correctly specified.\n"
     ]
    }
   ],
   "source": [
    "fit6_train= smf.ols(formula= ' killed ~ day_of_week',  data= Shooting_train).fit()\n",
    "print(fit6_train.summary())"
   ]
  },
  {
   "cell_type": "code",
   "execution_count": 45,
   "metadata": {},
   "outputs": [
    {
     "name": "stdout",
     "output_type": "stream",
     "text": [
      "                 sum_sq     df         F   PR(>F)\n",
      "day_of_week    3.104615    4.0  0.794455  0.52966\n",
      "Residual     258.895385  265.0       NaN      NaN\n",
      "No significant differences in killed cases average across days of the week.\n"
     ]
    }
   ],
   "source": [
    "# Performing  ANOVA\n",
    "model_train_killed_week = ols('killed ~ day_of_week', data=Shooting_train).fit()\n",
    "anova_table_killed_week = sm.stats.anova_lm(model_train_killed_week, typ=2)\n",
    "\n",
    "# Printing  ANOVA results\n",
    "print(anova_table_killed_week)\n",
    "\n",
    "# Interpret the results based on p-value\n",
    "if anova_table_killed_week['PR(>F)'][0] < 0.05:\n",
    "    print(\"There are significant differences in killed cases average across days of the week.\")\n",
    "else:\n",
    "    print(\"No significant differences in killed cases average across days of the week.\")"
   ]
  },
  {
   "cell_type": "markdown",
   "metadata": {},
   "source": [
    "- Model 6: ANOVA test on \"Casualties average cases vs day of the week\".  "
   ]
  },
  {
   "cell_type": "code",
   "execution_count": 46,
   "metadata": {},
   "outputs": [
    {
     "name": "stdout",
     "output_type": "stream",
     "text": [
      "                            OLS Regression Results                            \n",
      "==============================================================================\n",
      "Dep. Variable:             casualties   R-squared:                       0.009\n",
      "Model:                            OLS   Adj. R-squared:                 -0.006\n",
      "Method:                 Least Squares   F-statistic:                    0.6158\n",
      "Date:                Fri, 20 Oct 2023   Prob (F-statistic):              0.652\n",
      "Time:                        20:12:04   Log-Likelihood:                -609.93\n",
      "No. Observations:                 270   AIC:                             1230.\n",
      "Df Residuals:                     265   BIC:                             1248.\n",
      "Df Model:                           4                                         \n",
      "Covariance Type:            nonrobust                                         \n",
      "============================================================================================\n",
      "                               coef    std err          t      P>|t|      [0.025      0.975]\n",
      "--------------------------------------------------------------------------------------------\n",
      "Intercept                    1.6389      0.390      4.205      0.000       0.872       2.406\n",
      "day_of_week[T.Monday]       -0.3312      0.486     -0.682      0.496      -1.288       0.625\n",
      "day_of_week[T.Thursday]     -0.5777      0.513     -1.125      0.261      -1.588       0.433\n",
      "day_of_week[T.Tuesday]      -0.0543      0.486     -0.112      0.911      -1.011       0.902\n",
      "day_of_week[T.Wednesday]    -0.5116      0.501     -1.021      0.308      -1.499       0.475\n",
      "==============================================================================\n",
      "Omnibus:                      317.161   Durbin-Watson:                   2.029\n",
      "Prob(Omnibus):                  0.000   Jarque-Bera (JB):            15162.330\n",
      "Skew:                           5.143   Prob(JB):                         0.00\n",
      "Kurtosis:                      38.241   Cond. No.                         7.03\n",
      "==============================================================================\n",
      "\n",
      "Notes:\n",
      "[1] Standard Errors assume that the covariance matrix of the errors is correctly specified.\n"
     ]
    }
   ],
   "source": [
    "fit7_train= smf.ols(formula= ' casualties ~ day_of_week',  data= Shooting_train).fit()\n",
    "print(fit7_train.summary())"
   ]
  },
  {
   "cell_type": "code",
   "execution_count": 47,
   "metadata": {},
   "outputs": [
    {
     "name": "stdout",
     "output_type": "stream",
     "text": [
      "                  sum_sq     df         F    PR(>F)\n",
      "day_of_week    13.467887    4.0  0.615827  0.651605\n",
      "Residual     1448.861742  265.0       NaN       NaN\n",
      "No significant differences in casualties cases average across days of the week.\n"
     ]
    }
   ],
   "source": [
    "# Performing  ANOVA\n",
    "model_train_casualties_week = ols('casualties ~ day_of_week', data=Shooting_train).fit()\n",
    "anova_table_casualties_week = sm.stats.anova_lm(model_train_casualties_week, typ=2)\n",
    "\n",
    "# Printing  ANOVA results\n",
    "print(anova_table_casualties_week)\n",
    "\n",
    "# Interpret the results based on p-value\n",
    "if anova_table_casualties_week['PR(>F)'][0] < 0.05:\n",
    "    print(\"There are significant differences in casualties cases average across days of the week.\")\n",
    "else:\n",
    "    print(\"No significant differences in casualties cases average across days of the week.\")"
   ]
  },
  {
   "cell_type": "markdown",
   "metadata": {},
   "source": [
    "- Model 7: ANOVA test on \"Injured average cases vs day of the week\" . "
   ]
  },
  {
   "cell_type": "code",
   "execution_count": 48,
   "metadata": {},
   "outputs": [
    {
     "name": "stdout",
     "output_type": "stream",
     "text": [
      "                            OLS Regression Results                            \n",
      "==============================================================================\n",
      "Dep. Variable:                injured   R-squared:                       0.013\n",
      "Model:                            OLS   Adj. R-squared:                 -0.002\n",
      "Method:                 Least Squares   F-statistic:                    0.8829\n",
      "Date:                Fri, 20 Oct 2023   Prob (F-statistic):              0.475\n",
      "Time:                        20:12:04   Log-Likelihood:                -527.96\n",
      "No. Observations:                 270   AIC:                             1066.\n",
      "Df Residuals:                     265   BIC:                             1084.\n",
      "Df Model:                           4                                         \n",
      "Covariance Type:            nonrobust                                         \n",
      "============================================================================================\n",
      "                               coef    std err          t      P>|t|      [0.025      0.975]\n",
      "--------------------------------------------------------------------------------------------\n",
      "Intercept                    1.1111      0.288      3.862      0.000       0.545       1.678\n",
      "day_of_week[T.Monday]       -0.2188      0.359     -0.610      0.542      -0.925       0.487\n",
      "day_of_week[T.Thursday]     -0.2336      0.379     -0.616      0.538      -0.980       0.512\n",
      "day_of_week[T.Tuesday]       0.2120      0.359      0.591      0.555      -0.494       0.918\n",
      "day_of_week[T.Wednesday]    -0.2929      0.370     -0.792      0.429      -1.021       0.436\n",
      "==============================================================================\n",
      "Omnibus:                      263.065   Durbin-Watson:                   2.045\n",
      "Prob(Omnibus):                  0.000   Jarque-Bera (JB):             6214.354\n",
      "Skew:                           4.057   Prob(JB):                         0.00\n",
      "Kurtosis:                      25.058   Cond. No.                         7.03\n",
      "==============================================================================\n",
      "\n",
      "Notes:\n",
      "[1] Standard Errors assume that the covariance matrix of the errors is correctly specified.\n"
     ]
    }
   ],
   "source": [
    "fit8_train= smf.ols(formula= ' injured ~ day_of_week',  data= Shooting_train).fit()\n",
    "print(fit8_train.summary())"
   ]
  },
  {
   "cell_type": "code",
   "execution_count": 49,
   "metadata": {},
   "outputs": [
    {
     "name": "stdout",
     "output_type": "stream",
     "text": [
      "                 sum_sq     df         F    PR(>F)\n",
      "day_of_week   10.520967    4.0  0.882895  0.474624\n",
      "Residual     789.464218  265.0       NaN       NaN\n",
      "No significant differences in injured cases average across days of the week.\n"
     ]
    }
   ],
   "source": [
    "# Performing  ANOVA\n",
    "model_train_injured_week = ols('injured ~ day_of_week', data=Shooting_train).fit()\n",
    "anova_table_injured_week = sm.stats.anova_lm(model_train_injured_week, typ=2)\n",
    "\n",
    "# Printing  ANOVA results\n",
    "print(anova_table_injured_week)\n",
    "\n",
    "# Interpret the results based on p-value\n",
    "if anova_table_injured_week['PR(>F)'][0] < 0.05:\n",
    "    print(\"There are significant differences in injured cases average across days of the week.\")\n",
    "else:\n",
    "    print(\"No significant differences in injured cases average across days of the week.\")"
   ]
  },
  {
   "cell_type": "markdown",
   "metadata": {},
   "source": [
    "- Model 8: ANOVA test on \"Killed average cases vs State and day of the week\". "
   ]
  },
  {
   "cell_type": "code",
   "execution_count": 50,
   "metadata": {},
   "outputs": [
    {
     "name": "stdout",
     "output_type": "stream",
     "text": [
      "                            OLS Regression Results                            \n",
      "==============================================================================\n",
      "Dep. Variable:                 killed   R-squared:                       0.127\n",
      "Model:                            OLS   Adj. R-squared:                 -0.058\n",
      "Method:                 Least Squares   F-statistic:                    0.6875\n",
      "Date:                Fri, 20 Oct 2023   Prob (F-statistic):              0.937\n",
      "Time:                        20:12:04   Log-Likelihood:                -360.71\n",
      "No. Observations:                 270   AIC:                             817.4\n",
      "Df Residuals:                     222   BIC:                             990.1\n",
      "Df Model:                          47                                         \n",
      "Covariance Type:            nonrobust                                         \n",
      "=================================================================================================\n",
      "                                    coef    std err          t      P>|t|      [0.025      0.975]\n",
      "-------------------------------------------------------------------------------------------------\n",
      "Intercept                         0.4218      0.369      1.143      0.254      -0.305       1.149\n",
      "day_of_week[T.Monday]            -0.2371      0.234     -1.014      0.312      -0.698       0.224\n",
      "day_of_week[T.Thursday]          -0.3775      0.248     -1.523      0.129      -0.866       0.111\n",
      "day_of_week[T.Tuesday]           -0.3348      0.227     -1.475      0.142      -0.782       0.113\n",
      "day_of_week[T.Wednesday]         -0.3746      0.236     -1.586      0.114      -0.840       0.091\n",
      "state[T.Arizona]                  0.2904      0.609      0.477      0.634      -0.909       1.490\n",
      "state[T.Arkansas]                -0.1388      0.678     -0.205      0.838      -1.475       1.197\n",
      "state[T.California]               0.1706      0.376      0.454      0.650      -0.570       0.911\n",
      "state[T.Colorado]                 0.0892      0.602      0.148      0.882      -1.098       1.276\n",
      "state[T.Connecticut]             -0.1379      0.680     -0.203      0.839      -1.478       1.202\n",
      "state[T.Delaware]                 0.9130      1.069      0.854      0.394      -1.194       3.020\n",
      "state[T.District of Columbia]     0.2403      0.675      0.356      0.722      -1.090       1.571\n",
      "state[T.Florida]                 -0.0128      0.429     -0.030      0.976      -0.858       0.833\n",
      "state[T.Georgia]                 -0.0958      0.478     -0.201      0.841      -1.037       0.845\n",
      "state[T.Hawaii]                  -0.0870      1.069     -0.081      0.935      -2.194       2.020\n",
      "state[T.Idaho]                   -0.0443      1.075     -0.041      0.967      -2.164       2.075\n",
      "state[T.Illinois]                -0.0639      0.446     -0.143      0.886      -0.942       0.814\n",
      "state[T.Indiana]                 -0.2335      0.533     -0.438      0.662      -1.284       0.816\n",
      "state[T.Iowa]                     0.8153      1.077      0.757      0.450      -1.307       2.938\n",
      "state[T.Kansas]                  -0.4218      1.080     -0.391      0.696      -2.550       1.706\n",
      "state[T.Kentucky]                 1.4329      0.788      1.819      0.070      -0.120       2.986\n",
      "state[T.Louisiana]               -0.0474      0.490     -0.097      0.923      -1.012       0.917\n",
      "state[T.Maryland]                 0.3150      0.531      0.593      0.554      -0.732       1.362\n",
      "state[T.Massachusetts]           -0.1063      0.671     -0.158      0.874      -1.428       1.216\n",
      "state[T.Michigan]                 0.1865      0.415      0.449      0.654      -0.632       1.005\n",
      "state[T.Minnesota]                1.4624      0.564      2.591      0.010       0.350       2.575\n",
      "state[T.Mississippi]              0.1375      0.556      0.247      0.805      -0.959       1.234\n",
      "state[T.Missouri]                 0.5613      0.529      1.060      0.290      -0.482       1.605\n",
      "state[T.Montana]                 -0.4218      1.080     -0.391      0.696      -2.550       1.706\n",
      "state[T.Nebraska]                 0.9528      1.072      0.889      0.375      -1.159       3.065\n",
      "state[T.Nevada]                   0.2138      0.673      0.318      0.751      -1.113       1.540\n",
      "state[T.New Jersey]              -0.0870      0.792     -0.110      0.913      -1.649       1.475\n",
      "state[T.New Mexico]               0.6214      0.675      0.921      0.358      -0.709       1.952\n",
      "state[T.New York]                -0.0090      0.463     -0.019      0.985      -0.921       0.903\n",
      "state[T.North Carolina]          -0.0263      0.410     -0.064      0.949      -0.834       0.781\n",
      "state[T.North Dakota]             0.9528      1.072      0.889      0.375      -1.159       3.065\n",
      "state[T.Ohio]                     0.2163      0.511      0.424      0.672      -0.790       1.222\n",
      "state[T.Oklahoma]                -0.0901      0.606     -0.149      0.882      -1.285       1.105\n",
      "state[T.Oregon]                  -0.0044      0.608     -0.007      0.994      -1.202       1.193\n",
      "state[T.Pennsylvania]             0.0565      0.456      0.124      0.902      -0.842       0.955\n",
      "state[T.Rhode Island]            -0.0472      1.072     -0.044      0.965      -2.159       2.065\n",
      "state[T.South Carolina]           0.2546      0.482      0.528      0.598      -0.696       1.205\n",
      "state[T.Tennessee]                0.5810      0.454      1.280      0.202      -0.314       1.476\n",
      "state[T.Texas]                    0.5368      0.399      1.347      0.179      -0.249       1.322\n",
      "state[T.Utah]                    -0.0550      0.610     -0.090      0.928      -1.257       1.147\n",
      "state[T.Virginia]                -0.1847      0.803     -0.230      0.818      -1.768       1.398\n",
      "state[T.Washington]               0.8617      0.484      1.779      0.077      -0.093       1.816\n",
      "state[T.Wisconsin]                0.0149      0.561      0.027      0.979      -1.090       1.120\n",
      "==============================================================================\n",
      "Omnibus:                      328.804   Durbin-Watson:                   2.037\n",
      "Prob(Omnibus):                  0.000   Jarque-Bera (JB):            20624.520\n",
      "Skew:                           5.336   Prob(JB):                         0.00\n",
      "Kurtosis:                      44.466   Cond. No.                         40.4\n",
      "==============================================================================\n",
      "\n",
      "Notes:\n",
      "[1] Standard Errors assume that the covariance matrix of the errors is correctly specified.\n"
     ]
    }
   ],
   "source": [
    "fit9_train= smf.ols(formula= ' killed ~ day_of_week + state',  data= Shooting_train).fit()\n",
    "print(fit9_train.summary())"
   ]
  },
  {
   "cell_type": "code",
   "execution_count": 51,
   "metadata": {},
   "outputs": [
    {
     "name": "stdout",
     "output_type": "stream",
     "text": [
      "                 sum_sq     df         F    PR(>F)\n",
      "day_of_week    3.486804    4.0  0.846121  0.497290\n",
      "state         30.183765   43.0  0.681349  0.933391\n",
      "Residual     228.711620  222.0       NaN       NaN\n",
      "No significant differences in killed cases average across days of the week and states.\n"
     ]
    }
   ],
   "source": [
    "# Performing  ANOVA\n",
    "model_train_killed_week_state = ols('killed ~ day_of_week + state', data=Shooting_train).fit()\n",
    "anova_table_killed_week_state  = sm.stats.anova_lm(model_train_killed_week_state , typ=2)\n",
    "\n",
    "# Printing  ANOVA results\n",
    "print(anova_table_killed_week_state)\n",
    "\n",
    "# Interpret the results based on p-value\n",
    "if anova_table_killed_week_state['PR(>F)'][0] < 0.05:\n",
    "    print(\"There are significant differences in killed cases average across days of the week and states.\")\n",
    "else:\n",
    "    print(\"No significant differences in killed cases average across days of the week and states.\")"
   ]
  },
  {
   "cell_type": "markdown",
   "metadata": {},
   "source": [
    "- Model 9: ANOVA test on \"Injured average cases vs State and day of the week\". "
   ]
  },
  {
   "cell_type": "code",
   "execution_count": 52,
   "metadata": {},
   "outputs": [
    {
     "name": "stdout",
     "output_type": "stream",
     "text": [
      "                            OLS Regression Results                            \n",
      "==============================================================================\n",
      "Dep. Variable:                injured   R-squared:                       0.176\n",
      "Model:                            OLS   Adj. R-squared:                  0.001\n",
      "Method:                 Least Squares   F-statistic:                     1.008\n",
      "Date:                Fri, 20 Oct 2023   Prob (F-statistic):              0.467\n",
      "Time:                        20:12:04   Log-Likelihood:                -503.64\n",
      "No. Observations:                 270   AIC:                             1103.\n",
      "Df Residuals:                     222   BIC:                             1276.\n",
      "Df Model:                          47                                         \n",
      "Covariance Type:            nonrobust                                         \n",
      "=================================================================================================\n",
      "                                    coef    std err          t      P>|t|      [0.025      0.975]\n",
      "-------------------------------------------------------------------------------------------------\n",
      "Intercept                         0.5978      0.626      0.954      0.341      -0.636       1.832\n",
      "day_of_week[T.Monday]            -0.2257      0.397     -0.568      0.570      -1.008       0.557\n",
      "day_of_week[T.Thursday]          -0.2016      0.421     -0.479      0.632      -1.031       0.628\n",
      "day_of_week[T.Tuesday]            0.1380      0.385      0.358      0.721      -0.622       0.898\n",
      "day_of_week[T.Wednesday]         -0.3755      0.401     -0.936      0.350      -1.166       0.415\n",
      "state[T.Arizona]                  0.3589      1.033      0.347      0.729      -1.677       2.395\n",
      "state[T.Arkansas]                 0.3445      1.151      0.299      0.765      -1.924       2.613\n",
      "state[T.California]               1.0455      0.638      1.639      0.103      -0.212       2.303\n",
      "state[T.Colorado]                 0.6771      1.022      0.662      0.509      -1.338       2.692\n",
      "state[T.Connecticut]             -0.3801      1.154     -0.329      0.742      -2.655       1.895\n",
      "state[T.Delaware]                -0.7358      1.815     -0.405      0.686      -4.313       2.842\n",
      "state[T.District of Columbia]     0.0611      1.146      0.053      0.958      -2.198       2.321\n",
      "state[T.Florida]                  0.3294      0.728      0.452      0.651      -1.106       1.765\n",
      "state[T.Georgia]                  0.6852      0.811      0.845      0.399      -0.913       2.283\n",
      "state[T.Hawaii]                   0.2642      1.815      0.146      0.884      -3.313       3.842\n",
      "state[T.Idaho]                    2.6039      1.826      1.426      0.155      -0.995       6.202\n",
      "state[T.Illinois]                 0.4046      0.757      0.535      0.593      -1.087       1.896\n",
      "state[T.Indiana]                  0.1987      0.905      0.220      0.826      -1.584       1.981\n",
      "state[T.Iowa]                     1.6279      1.829      0.890      0.374      -1.976       5.232\n",
      "state[T.Kansas]                  -0.5978      1.834     -0.326      0.745      -4.211       3.016\n",
      "state[T.Kentucky]                 6.5210      1.338      4.875      0.000       3.885       9.157\n",
      "state[T.Louisiana]                0.5058      0.831      0.609      0.543      -1.132       2.144\n",
      "state[T.Maryland]                 0.2213      0.902      0.245      0.806      -1.556       1.999\n",
      "state[T.Massachusetts]            0.2233      1.139      0.196      0.845      -2.021       2.468\n",
      "state[T.Michigan]                 0.4641      0.705      0.658      0.511      -0.925       1.854\n",
      "state[T.Minnesota]                1.1851      0.958      1.237      0.218      -0.704       3.074\n",
      "state[T.Mississippi]             -0.2625      0.945     -0.278      0.781      -2.124       1.599\n",
      "state[T.Missouri]                 0.9987      0.899      1.111      0.268      -0.773       2.770\n",
      "state[T.Montana]                 -0.5978      1.834     -0.326      0.745      -4.211       3.016\n",
      "state[T.Nebraska]                 1.7777      1.820      0.977      0.330      -1.809       5.364\n",
      "state[T.Nevada]                   0.3854      1.143      0.337      0.736      -1.867       2.638\n",
      "state[T.New Jersey]              -0.2358      1.345     -0.175      0.861      -2.887       2.416\n",
      "state[T.New Mexico]              -0.0049      1.146     -0.004      0.997      -2.264       2.254\n",
      "state[T.New York]                 0.0455      0.786      0.058      0.954      -1.503       1.594\n",
      "state[T.North Carolina]           0.2366      0.696      0.340      0.734      -1.134       1.607\n",
      "state[T.North Dakota]            -0.2223      1.820     -0.122      0.903      -3.809       3.364\n",
      "state[T.Ohio]                     0.6994      0.867      0.807      0.421      -1.009       2.408\n",
      "state[T.Oklahoma]                 1.0250      1.030      0.996      0.321      -1.004       3.054\n",
      "state[T.Oregon]                   2.0832      1.032      2.019      0.045       0.050       4.116\n",
      "state[T.Pennsylvania]             0.5676      0.774      0.733      0.464      -0.958       2.093\n",
      "state[T.Rhode Island]            -0.2223      1.820     -0.122      0.903      -3.809       3.364\n",
      "state[T.South Carolina]           0.4152      0.819      0.507      0.613      -1.199       2.029\n",
      "state[T.Tennessee]                0.4747      0.771      0.616      0.539      -1.044       1.994\n",
      "state[T.Texas]                    0.8657      0.677      1.279      0.202      -0.468       2.199\n",
      "state[T.Utah]                    -0.2311      1.036     -0.223      0.824      -2.272       1.810\n",
      "state[T.Virginia]                 1.1279      1.364      0.827      0.409      -1.559       3.815\n",
      "state[T.Washington]               0.1900      0.822      0.231      0.818      -1.431       1.811\n",
      "state[T.Wisconsin]                0.1400      0.952      0.147      0.883      -1.737       2.017\n",
      "==============================================================================\n",
      "Omnibus:                      192.609   Durbin-Watson:                   2.151\n",
      "Prob(Omnibus):                  0.000   Jarque-Bera (JB):             2975.314\n",
      "Skew:                           2.657   Prob(JB):                         0.00\n",
      "Kurtosis:                      18.370   Cond. No.                         40.4\n",
      "==============================================================================\n",
      "\n",
      "Notes:\n",
      "[1] Standard Errors assume that the covariance matrix of the errors is correctly specified.\n"
     ]
    }
   ],
   "source": [
    "fit10_train= smf.ols(formula= ' injured ~ day_of_week + state',  data= Shooting_train).fit()\n",
    "print(fit10_train.summary())"
   ]
  },
  {
   "cell_type": "code",
   "execution_count": 53,
   "metadata": {},
   "outputs": [
    {
     "name": "stdout",
     "output_type": "stream",
     "text": [
      "                 sum_sq     df         F    PR(>F)\n",
      "day_of_week    8.000672    4.0  0.673491  0.611005\n",
      "state        130.157344   43.0  1.019214  0.446749\n",
      "Residual     659.306874  222.0       NaN       NaN\n",
      "No significant differences in injured cases average across days of the week and states.\n"
     ]
    }
   ],
   "source": [
    "# Performing  ANOVA\n",
    "model_train_injured_week_state = ols('injured ~ day_of_week + state', data=Shooting_train).fit()\n",
    "anova_table_injured_week_state  = sm.stats.anova_lm(model_train_injured_week_state  , typ=2)\n",
    "\n",
    "# Printing  ANOVA results\n",
    "print(anova_table_injured_week_state )\n",
    "\n",
    "# Interpret the results based on p-value\n",
    "if anova_table_injured_week_state ['PR(>F)'][0] < 0.05:\n",
    "    print(\"There are significant differences in injured cases average across days of the week and states.\")\n",
    "else:\n",
    "    print(\"No significant differences in injured cases average across days of the week and states.\")"
   ]
  },
  {
   "cell_type": "markdown",
   "metadata": {},
   "source": [
    "- Model 10: ANOVA test on \"Casualties average cases vs State and day of the week\". "
   ]
  },
  {
   "cell_type": "code",
   "execution_count": 54,
   "metadata": {},
   "outputs": [
    {
     "name": "stdout",
     "output_type": "stream",
     "text": [
      "                            OLS Regression Results                            \n",
      "==============================================================================\n",
      "Dep. Variable:             casualties   R-squared:                       0.155\n",
      "Model:                            OLS   Adj. R-squared:                 -0.024\n",
      "Method:                 Least Squares   F-statistic:                    0.8658\n",
      "Date:                Fri, 20 Oct 2023   Prob (F-statistic):              0.717\n",
      "Time:                        20:12:04   Log-Likelihood:                -588.46\n",
      "No. Observations:                 270   AIC:                             1273.\n",
      "Df Residuals:                     222   BIC:                             1446.\n",
      "Df Model:                          47                                         \n",
      "Covariance Type:            nonrobust                                         \n",
      "=================================================================================================\n",
      "                                    coef    std err          t      P>|t|      [0.025      0.975]\n",
      "-------------------------------------------------------------------------------------------------\n",
      "Intercept                         1.0194      0.857      1.189      0.236      -0.670       2.709\n",
      "day_of_week[T.Monday]            -0.4488      0.543     -0.826      0.410      -1.520       0.622\n",
      "day_of_week[T.Thursday]          -0.5789      0.576     -1.005      0.316      -1.714       0.557\n",
      "day_of_week[T.Tuesday]           -0.2089      0.528     -0.396      0.693      -1.249       0.831\n",
      "day_of_week[T.Wednesday]         -0.7335      0.549     -1.336      0.183      -1.816       0.349\n",
      "state[T.Arizona]                  0.6384      1.415      0.451      0.652      -2.149       3.426\n",
      "state[T.Arkansas]                 0.1910      1.576      0.121      0.904      -2.915       3.297\n",
      "state[T.California]               1.2461      0.873      1.427      0.155      -0.475       2.967\n",
      "state[T.Colorado]                 0.7684      1.400      0.549      0.584      -1.990       3.527\n",
      "state[T.Connecticut]             -0.5272      1.580     -0.334      0.739      -3.642       2.587\n",
      "state[T.Delaware]                 0.1895      2.485      0.076      0.939      -4.708       5.087\n",
      "state[T.District of Columbia]     0.2859      1.570      0.182      0.856      -2.807       3.379\n",
      "state[T.Florida]                  0.3158      0.997      0.317      0.752      -1.649       2.281\n",
      "state[T.Georgia]                  0.5861      1.110      0.528      0.598      -1.601       2.774\n",
      "state[T.Hawaii]                   0.1895      2.485      0.076      0.939      -4.708       5.087\n",
      "state[T.Idaho]                    2.5595      2.500      1.024      0.307      -2.367       7.486\n",
      "state[T.Illinois]                 0.3382      1.036      0.327      0.744      -1.703       2.380\n",
      "state[T.Indiana]                 -0.0375      1.238     -0.030      0.976      -2.478       2.403\n",
      "state[T.Iowa]                     2.4294      2.504      0.970      0.333      -2.505       7.364\n",
      "state[T.Kansas]                  -1.0194      2.510     -0.406      0.685      -5.967       3.928\n",
      "state[T.Kentucky]                 7.9518      1.831      4.342      0.000       4.343      11.561\n",
      "state[T.Louisiana]                0.4546      1.138      0.400      0.690      -1.788       2.697\n",
      "state[T.Maryland]                 0.5287      1.235      0.428      0.669      -1.905       2.963\n",
      "state[T.Massachusetts]            0.1110      1.559      0.071      0.943      -2.962       3.184\n",
      "state[T.Michigan]                 0.6513      0.965      0.675      0.501      -1.251       2.554\n",
      "state[T.Minnesota]                2.6384      1.312      2.011      0.046       0.053       5.224\n",
      "state[T.Mississippi]             -0.1266      1.293     -0.098      0.922      -2.676       2.422\n",
      "state[T.Missouri]                 1.5595      1.231      1.267      0.206      -0.866       3.985\n",
      "state[T.Montana]                 -1.0194      2.510     -0.406      0.685      -5.967       3.928\n",
      "state[T.Nebraska]                 2.7141      2.491      1.089      0.277      -2.196       7.624\n",
      "state[T.Nevada]                  -0.0639      1.565     -0.041      0.967      -3.148       3.020\n",
      "state[T.New Jersey]              -0.3105      1.842     -0.169      0.866      -3.941       3.320\n",
      "state[T.New Mexico]               0.6110      1.569      0.389      0.697      -2.481       3.703\n",
      "state[T.New York]                 0.0335      1.076      0.031      0.975      -2.087       2.154\n",
      "state[T.North Carolina]           0.2030      0.952      0.213      0.831      -1.674       2.080\n",
      "state[T.North Dakota]             0.7141      2.491      0.287      0.775      -4.196       5.624\n",
      "state[T.Ohio]                     0.9098      1.187      0.767      0.444      -1.429       3.249\n",
      "state[T.Oklahoma]                 0.9345      1.410      0.663      0.508      -1.843       3.712\n",
      "state[T.Oregon]                   2.0851      1.412      1.476      0.141      -0.698       4.868\n",
      "state[T.Pennsylvania]             0.6186      1.060      0.584      0.560      -1.470       2.707\n",
      "state[T.Rhode Island]            -0.2859      2.491     -0.115      0.909      -5.196       4.624\n",
      "state[T.South Carolina]           0.6670      1.121      0.595      0.553      -1.543       2.877\n",
      "state[T.Tennessee]                1.0505      1.055      0.995      0.321      -1.029       3.130\n",
      "state[T.Texas]                    1.4009      0.927      1.512      0.132      -0.425       3.227\n",
      "state[T.Utah]                    -0.2830      1.418     -0.200      0.842      -3.077       2.511\n",
      "state[T.Virginia]                 0.9294      1.867      0.498      0.619      -2.750       4.609\n",
      "state[T.Washington]               1.0451      1.126      0.928      0.354      -1.174       3.264\n",
      "state[T.Wisconsin]                0.1486      1.304      0.114      0.909      -2.421       2.718\n",
      "==============================================================================\n",
      "Omnibus:                      293.967   Durbin-Watson:                   2.127\n",
      "Prob(Omnibus):                  0.000   Jarque-Bera (JB):            14672.634\n",
      "Skew:                           4.471   Prob(JB):                         0.00\n",
      "Kurtosis:                      37.990   Cond. No.                         40.4\n",
      "==============================================================================\n",
      "\n",
      "Notes:\n",
      "[1] Standard Errors assume that the covariance matrix of the errors is correctly specified.\n"
     ]
    }
   ],
   "source": [
    "fit11_train= smf.ols(formula= ' casualties ~ day_of_week + state',  data= Shooting_train).fit()\n",
    "print(fit11_train.summary())"
   ]
  },
  {
   "cell_type": "code",
   "execution_count": 55,
   "metadata": {},
   "outputs": [
    {
     "name": "stdout",
     "output_type": "stream",
     "text": [
      "                  sum_sq     df         F    PR(>F)\n",
      "day_of_week    13.522664    4.0  0.607307  0.657775\n",
      "state         213.065299   43.0  0.890124  0.667536\n",
      "Residual     1235.796443  222.0       NaN       NaN\n",
      "No significant differences in casualties cases average across days of the week and states.\n"
     ]
    }
   ],
   "source": [
    "# Performing  ANOVA\n",
    "model_train_casualies_week_state = ols('casualties ~ day_of_week + state', data=Shooting_train).fit()\n",
    "anova_table_casualies_week_state  = sm.stats.anova_lm(model_train_casualies_week_state   , typ=2)\n",
    "\n",
    "# Printing  ANOVA results\n",
    "print(anova_table_casualies_week_state )\n",
    "\n",
    "# Interpret the results based on p-value\n",
    "if anova_table_casualies_week_state  ['PR(>F)'][0] < 0.05:\n",
    "    print(\"There are significant differences in casualties cases average across days of the week and states.\")\n",
    "else:\n",
    "    print(\"No significant differences in casualties cases average across days of the week and states.\")"
   ]
  },
  {
   "cell_type": "markdown",
   "metadata": {},
   "source": [
    "##### Summary of Analysis of Variance (ANOVA test on Training set). \n",
    "\n",
    "In this analysis, we performed a series of Analysis of Variance (ANOVA) tests on the training dataset to investigate potential relationships between various factors and the number of killed, injured, and casualty cases. The tests were conducted separately for each factor to evaluate its influence on these outcome variables.\n",
    "\n",
    "- Here are the key findings for each ANOVA model:\n",
    "\n",
    "    Model 1: ANOVA Test on \"Age of Shooter vs State\"\n",
    "\n",
    "    - The ANOVA test was used to assess whether the state in which an incident occurred has a significant impact on the age of the shooter.\n",
    "    - Results: No significant differences in shooter age were observed across states.\n",
    "\n",
    "    Model 2: ANOVA Test on \"Killed Average Cases vs State\"\n",
    "\n",
    "    - This analysis aimed to determine if there were significant differences in the average number of killed cases based on the state in which the incident took place.\n",
    "    - Results: No significant differences in the average number of killed cases were found across states.\n",
    "\n",
    "    Model 3: ANOVA Test on \"Injured Average Cases vs State\"\n",
    "\n",
    "    - An ANOVA test was conducted to investigate whether the state had a significant influence on the average number of injured cases in incidents.\n",
    "    - Results: No significant differences in the average number of injured cases were observed across states.\n",
    "\n",
    "    Model 4: ANOVA Test on \"Casualties Average Cases vs State\"\n",
    "\n",
    "    - This analysis aimed to explore whether there were significant differences in the average number of casualties across states.\n",
    "    - Results: No significant differences in the average number of casualties were identified based on states.\n",
    "\n",
    "    Model 5: ANOVA Test on \"Killed Average Cases vs Day of the Week\"\n",
    "\n",
    "    - The ANOVA test assessed if the day of the week had a significant impact on the average number of killed cases.\n",
    "    - Results: No significant differences in the average number of killed cases were found across days of the week.\n",
    "\n",
    "    Model 6: ANOVA Test on \"Casualties Average Cases vs Day of the Week\"\n",
    "\n",
    "    - This analysis investigated if the day of the week influenced the average number of casualties.\n",
    "    - Results: No significant differences in the average number of casualties were identified across different days of the week.\n",
    "\n",
    "    Model 7: ANOVA Test on \"Injured Average Cases vs Day of the Week\"\n",
    "\n",
    "    - The ANOVA test evaluated whether the day of the week had a significant effect on the average number of injured cases.\n",
    "    - Results: No significant differences in the average number of injured cases were observed across days of the week.\n",
    "\n",
    "    Model 8: ANOVA Test on \"Killed Average Cases vs State and Day of the Week\"\n",
    "\n",
    "    - This analysis considered both the state and the day of the week as factors to investigate their combined influence on the average number of killed cases.\n",
    "    - Results: No significant differences in the average number of killed cases were found when considering both states and days of the week.\n",
    "\n",
    "    Model 9: ANOVA Test on \"Injured Average Cases vs State and Day of the Week\"\n",
    "\n",
    "    - An ANOVA test was conducted to assess the combined influence of state and day of the week on the average number of injured cases.\n",
    "    - Results: No significant differences in the average number of injured cases were identified when considering both states and days of the week.\n",
    "\n",
    "    Model 10: ANOVA Test on \"Casualties Average Cases vs State and Day of the Week\"\n",
    "\n",
    "    - The analysis investigated the combined effect of state and day of the week on the average number of casualties.\n",
    "    - Results: No significant differences in the average number of casualties were found when considering both states and days of the week.\n",
    "\n",
    "Overall, the ANOVA tests on the training set did not reveal significant variations in the outcome variables (killed, injured, and casualties) based on the factors (state and day of the week) analyzed. This suggests that these factors may not be strong predictors of the number of cases in school shooting incidents.\n"
   ]
  },
  {
   "cell_type": "markdown",
   "metadata": {},
   "source": [
    "#### Logistic Regression: Login Link with Binary Data on testing Set."
   ]
  },
  {
   "cell_type": "markdown",
   "metadata": {},
   "source": [
    "- Applying Analysis for the Testing set ( 30 %) of the Dataset"
   ]
  },
  {
   "cell_type": "code",
   "execution_count": 56,
   "metadata": {},
   "outputs": [
    {
     "name": "stdout",
     "output_type": "stream",
     "text": [
      "                 Generalized Linear Model Regression Results                  \n",
      "==============================================================================\n",
      "Dep. Variable:            school_type   No. Observations:                  117\n",
      "Model:                            GLM   Df Residuals:                      115\n",
      "Model Family:                Binomial   Df Model:                            1\n",
      "Link Function:                  Logit   Scale:                          1.0000\n",
      "Method:                          IRLS   Log-Likelihood:                -26.498\n",
      "Date:                Fri, 20 Oct 2023   Deviance:                       52.995\n",
      "Time:                        20:12:04   Pearson chi2:                     117.\n",
      "No. Iterations:                     5   Pseudo R-squ. (CS):          4.274e-05\n",
      "Covariance Type:            nonrobust                                         \n",
      "==============================================================================\n",
      "                 coef    std err          z      P>|z|      [0.025      0.975]\n",
      "------------------------------------------------------------------------------\n",
      "Intercept      2.7473      0.402      6.828      0.000       1.959       3.536\n",
      "killed         0.0080      0.116      0.069      0.945      -0.219       0.234\n",
      "==============================================================================\n"
     ]
    }
   ],
   "source": [
    "Shooting_train, Shooting_test = train_test_split(Shooting, test_size= 0.3, random_state=42)\n",
    "\n",
    "# Defining a mapping from string values to binary vlaues. \n",
    "school_type_mapping={'public': 1, 'private': 0}\n",
    "Shooting_test['school_type']= Shooting_test['school_type'].map(school_type_mapping)\n",
    "Shooting_test['school_type']\n",
    "\n",
    "# Running Generilized Linear Model Regression for Binary Data. \n",
    "\n",
    "fit_test= smf.glm(formula= 'school_type ~ killed ', family=sm.families.Binomial(), data= Shooting_test).fit()\n",
    "print(fit_test.summary())"
   ]
  },
  {
   "cell_type": "markdown",
   "metadata": {},
   "source": [
    "- - Model 2: Injured vs. School Type (Binary Logistic Regression)"
   ]
  },
  {
   "cell_type": "code",
   "execution_count": 57,
   "metadata": {},
   "outputs": [
    {
     "name": "stdout",
     "output_type": "stream",
     "text": [
      "                 Generalized Linear Model Regression Results                  \n",
      "==============================================================================\n",
      "Dep. Variable:            school_type   No. Observations:                  117\n",
      "Model:                            GLM   Df Residuals:                      115\n",
      "Model Family:                Binomial   Df Model:                            1\n",
      "Link Function:                  Logit   Scale:                          1.0000\n",
      "Method:                          IRLS   Log-Likelihood:                -26.452\n",
      "Date:                Fri, 20 Oct 2023   Deviance:                       52.904\n",
      "Time:                        20:12:04   Pearson chi2:                     116.\n",
      "No. Iterations:                     5   Pseudo R-squ. (CS):          0.0008232\n",
      "Covariance Type:            nonrobust                                         \n",
      "==============================================================================\n",
      "                 coef    std err          z      P>|z|      [0.025      0.975]\n",
      "------------------------------------------------------------------------------\n",
      "Intercept      2.8066      0.428      6.559      0.000       1.968       3.645\n",
      "injured       -0.0347      0.105     -0.330      0.741      -0.240       0.171\n",
      "==============================================================================\n"
     ]
    }
   ],
   "source": [
    "Shooting_train, Shooting_test = train_test_split(Shooting, test_size= 0.3, random_state=42)\n",
    "\n",
    "# Defining a mapping from string values to binary vlaues. \n",
    "school_type_mapping={'public': 1, 'private': 0}\n",
    "Shooting_test['school_type']= Shooting_test['school_type'].map(school_type_mapping)\n",
    "Shooting_test['school_type']\n",
    "\n",
    "# Running Generilized Linear Model Regression for Binary Data. \n",
    "\n",
    "fit_test= smf.glm(formula= 'school_type ~ injured', family=sm.families.Binomial(), data= Shooting_test).fit()\n",
    "print(fit_test.summary())"
   ]
  },
  {
   "cell_type": "markdown",
   "metadata": {},
   "source": [
    "- -  Model 3: Casualties vs. School Type (Binary Logistic Regression)"
   ]
  },
  {
   "cell_type": "code",
   "execution_count": 58,
   "metadata": {},
   "outputs": [
    {
     "name": "stdout",
     "output_type": "stream",
     "text": [
      "                 Generalized Linear Model Regression Results                  \n",
      "==============================================================================\n",
      "Dep. Variable:            school_type   No. Observations:                  117\n",
      "Model:                            GLM   Df Residuals:                      115\n",
      "Model Family:                Binomial   Df Model:                            1\n",
      "Link Function:                  Logit   Scale:                          1.0000\n",
      "Method:                          IRLS   Log-Likelihood:                -26.492\n",
      "Date:                Fri, 20 Oct 2023   Deviance:                       52.984\n",
      "Time:                        20:12:04   Pearson chi2:                     117.\n",
      "No. Iterations:                     5   Pseudo R-squ. (CS):          0.0001400\n",
      "Covariance Type:            nonrobust                                         \n",
      "==============================================================================\n",
      "                 coef    std err          z      P>|z|      [0.025      0.975]\n",
      "------------------------------------------------------------------------------\n",
      "Intercept      2.7735      0.418      6.630      0.000       1.954       3.593\n",
      "casualties    -0.0079      0.060     -0.132      0.895      -0.125       0.109\n",
      "==============================================================================\n"
     ]
    }
   ],
   "source": [
    "Shooting_train, Shooting_test = train_test_split(Shooting, test_size= 0.3, random_state=42)\n",
    "\n",
    "# Defining a mapping from string values to binary vlaues. \n",
    "school_type_mapping={'public': 1, 'private': 0}\n",
    "Shooting_test['school_type']= Shooting_test['school_type'].map(school_type_mapping)\n",
    "Shooting_test['school_type']\n",
    "\n",
    "# Running Generilized Linear Model Regression for Binary Data. \n",
    "\n",
    "fit_test= smf.glm(formula= 'school_type ~ casualties', family=sm.families.Binomial(), data= Shooting_test).fit()\n",
    "print(fit_test.summary())"
   ]
  },
  {
   "cell_type": "markdown",
   "metadata": {},
   "source": [
    "- - Model 4: Killed and Injured vs. School Type (Binary Logistic Regression)"
   ]
  },
  {
   "cell_type": "code",
   "execution_count": 59,
   "metadata": {},
   "outputs": [
    {
     "name": "stdout",
     "output_type": "stream",
     "text": [
      "                 Generalized Linear Model Regression Results                  \n",
      "==============================================================================\n",
      "Dep. Variable:            school_type   No. Observations:                  117\n",
      "Model:                            GLM   Df Residuals:                      114\n",
      "Model Family:                Binomial   Df Model:                            2\n",
      "Link Function:                  Logit   Scale:                          1.0000\n",
      "Method:                          IRLS   Log-Likelihood:                -26.381\n",
      "Date:                Fri, 20 Oct 2023   Deviance:                       52.763\n",
      "Time:                        20:12:04   Pearson chi2:                     116.\n",
      "No. Iterations:                     6   Pseudo R-squ. (CS):           0.002028\n",
      "Covariance Type:            nonrobust                                         \n",
      "==============================================================================\n",
      "                 coef    std err          z      P>|z|      [0.025      0.975]\n",
      "------------------------------------------------------------------------------\n",
      "Intercept      2.8144      0.430      6.543      0.000       1.971       3.657\n",
      "killed         0.1370      0.319      0.430      0.667      -0.488       0.762\n",
      "casualties    -0.0760      0.156     -0.487      0.626      -0.382       0.230\n",
      "==============================================================================\n"
     ]
    }
   ],
   "source": [
    "Shooting_train, Shooting_test = train_test_split(Shooting, test_size= 0.3, random_state=42)\n",
    "\n",
    "# Defining a mapping from string values to binary vlaues. \n",
    "school_type_mapping={'public': 1, 'private': 0}\n",
    "Shooting_test['school_type']= Shooting_test['school_type'].map(school_type_mapping)\n",
    "Shooting_test['school_type']\n",
    "\n",
    "# Running Generilized Linear Model Regression for Binary Data. \n",
    "\n",
    "fit_test= smf.glm(formula= 'school_type ~ killed + casualties', family=sm.families.Binomial(), data= Shooting_test).fit()\n",
    "print(fit_test.summary())"
   ]
  },
  {
   "cell_type": "markdown",
   "metadata": {},
   "source": [
    "- - Model 5: Killed, Injured, and Casualties vs. School Type (Binary Logistic Regression)"
   ]
  },
  {
   "cell_type": "code",
   "execution_count": 60,
   "metadata": {},
   "outputs": [
    {
     "name": "stdout",
     "output_type": "stream",
     "text": [
      "                 Generalized Linear Model Regression Results                  \n",
      "==============================================================================\n",
      "Dep. Variable:            school_type   No. Observations:                  117\n",
      "Model:                            GLM   Df Residuals:                      113\n",
      "Model Family:                Binomial   Df Model:                            3\n",
      "Link Function:                  Logit   Scale:                          1.0000\n",
      "Method:                          IRLS   Log-Likelihood:                -26.330\n",
      "Date:                Fri, 20 Oct 2023   Deviance:                       52.660\n",
      "Time:                        20:12:04   Pearson chi2:                     115.\n",
      "No. Iterations:                    19   Pseudo R-squ. (CS):           0.002904\n",
      "Covariance Type:            nonrobust                                         \n",
      "==============================================================================\n",
      "                 coef    std err          z      P>|z|      [0.025      0.975]\n",
      "------------------------------------------------------------------------------\n",
      "Intercept      2.8037      0.431      6.507      0.000       1.959       3.648\n",
      "killed        17.7624   1.77e+04      0.001      0.999   -3.47e+04    3.48e+04\n",
      "injured       17.6319   1.77e+04      0.001      0.999   -3.47e+04    3.48e+04\n",
      "casualties   -17.7045   1.77e+04     -0.001      0.999   -3.48e+04    3.47e+04\n",
      "==============================================================================\n"
     ]
    }
   ],
   "source": [
    "Shooting_train, Shooting_test = train_test_split(Shooting, test_size= 0.3, random_state=42)\n",
    "\n",
    "# Defining a mapping from string values to binary vlaues. \n",
    "school_type_mapping={'public': 1, 'private': 0}\n",
    "Shooting_test['school_type']= Shooting_test['school_type'].map(school_type_mapping)\n",
    "Shooting_test['school_type']\n",
    "\n",
    "# Running Generilized Linear Model Regression for Binary Data. \n",
    "\n",
    "fit_test= smf.glm(formula= 'school_type ~ killed +injured + casualties', family=sm.families.Binomial(), data= Shooting_test).fit()\n",
    "print(fit_test.summary())"
   ]
  },
  {
   "cell_type": "markdown",
   "metadata": {},
   "source": [
    "- - Model 6: Injured and Casualties vs. School Type (Binary Logistic Regression)"
   ]
  },
  {
   "cell_type": "code",
   "execution_count": 61,
   "metadata": {},
   "outputs": [
    {
     "name": "stdout",
     "output_type": "stream",
     "text": [
      "                 Generalized Linear Model Regression Results                  \n",
      "==============================================================================\n",
      "Dep. Variable:            school_type   No. Observations:                  117\n",
      "Model:                            GLM   Df Residuals:                      114\n",
      "Model Family:                Binomial   Df Model:                            2\n",
      "Link Function:                  Logit   Scale:                          1.0000\n",
      "Method:                          IRLS   Log-Likelihood:                -26.389\n",
      "Date:                Fri, 20 Oct 2023   Deviance:                       52.777\n",
      "Time:                        20:12:04   Pearson chi2:                     116.\n",
      "No. Iterations:                     6   Pseudo R-squ. (CS):           0.001906\n",
      "Covariance Type:            nonrobust                                         \n",
      "==============================================================================\n",
      "                 coef    std err          z      P>|z|      [0.025      0.975]\n",
      "------------------------------------------------------------------------------\n",
      "Intercept      2.8142      0.430      6.537      0.000       1.970       3.658\n",
      "injured       -0.1322      0.317     -0.417      0.677      -0.754       0.489\n",
      "casualties     0.0583      0.185      0.316      0.752      -0.303       0.420\n",
      "==============================================================================\n"
     ]
    }
   ],
   "source": [
    "Shooting_train, Shooting_test = train_test_split(Shooting, test_size= 0.3, random_state=42)\n",
    "\n",
    "# Defining a mapping from string values to binary vlaues. \n",
    "school_type_mapping={'public': 1, 'private': 0}\n",
    "Shooting_test['school_type']= Shooting_test['school_type'].map(school_type_mapping)\n",
    "Shooting_test['school_type']\n",
    "\n",
    "# Running Generilized Linear Model Regression for Binary Data. \n",
    "\n",
    "fit_test= smf.glm(formula= 'school_type ~ injured + casualties', family=sm.families.Binomial(), data= Shooting_test).fit()\n",
    "print(fit_test.summary())"
   ]
  },
  {
   "cell_type": "markdown",
   "metadata": {},
   "source": [
    "##### Summary of Logic Regression : Logit Link with Binary Data for the Shooting testing set. \n",
    "\n",
    "- Model 1:\n",
    "\n",
    "    - Dependent Variable: school_type\n",
    "    - Predictor Variable: killed\n",
    "    - Pseudo R-squared: 4.274e-05\n",
    "    - Interpretation: No significant differences in school type prediction based on the number of killed cases.\n",
    "\n",
    "- Model 2:\n",
    "\n",
    "    - Dependent Variable: school_type\n",
    "    - Predictor Variable: injured\n",
    "    - Pseudo R-squared: 0.0008232\n",
    "    - Interpretation: No significant differences in school type prediction based on the number of injured cases.\n",
    "\n",
    "- Model 3:\n",
    "\n",
    "    - Dependent Variable: school_type\n",
    "    - Predictor Variable: casualties\n",
    "    - Pseudo R-squared: 0.0001400\n",
    "    - Interpretation: No significant differences in school type prediction based on the number of casualties cases.\n",
    "\n",
    "- Model 4:\n",
    "\n",
    "    - Dependent Variable: school_type\n",
    "    - Predictor Variables: killed and injured\n",
    "    - Pseudo R-squared: 0.002028\n",
    "    - Interpretation: No significant differences in school type prediction based on the number of killed and injured cases.\n",
    "\n",
    "- Model 5:\n",
    "\n",
    "    - Dependent Variable: school_type\n",
    "    - Predictor Variables: killed and casualties\n",
    "    - Pseudo R-squared: 0.002904\n",
    "    - Interpretation: No significant differences in school type prediction based on the number of killed and casualties cases.\n",
    "\n",
    "- Model 6:\n",
    "\n",
    "    - Dependent Variable: school_type\n",
    "    - Predictor Variables: injured and casualties\n",
    "    - Pseudo R-squared: 0.001906\n",
    "    - Interpretation: No significant differences in school type prediction based on the number of injured and casualties cases.\n",
    "\n",
    "\n",
    "It's important to note that these models were developed and tested on a reduced dataset that comprises 30% of the original data. The pseudo R-squared values are all close to zero, indicating that the chosen predictor variables do not effectively predict the school_type. Additionally, the coefficients of the predictor variables are not statistically significant, suggesting that these variables are not helpful in distinguishing between different school types within this testing set.\n",
    "\n",
    "The reduced dataset for testing may impact the model performance compared to if the models were trained and tested on the full dataset."
   ]
  },
  {
   "cell_type": "markdown",
   "metadata": {},
   "source": [
    "#### Analysis of Variance (ANOVA test on testing set). "
   ]
  },
  {
   "cell_type": "markdown",
   "metadata": {},
   "source": [
    "- Model 1: ANOVA test on \"Age_shooter vs State\" . "
   ]
  },
  {
   "cell_type": "code",
   "execution_count": 62,
   "metadata": {},
   "outputs": [
    {
     "name": "stdout",
     "output_type": "stream",
     "text": [
      "                            OLS Regression Results                            \n",
      "==============================================================================\n",
      "Dep. Variable:           age_shooter1   R-squared:                       0.205\n",
      "Model:                            OLS   Adj. R-squared:                 -0.111\n",
      "Method:                 Least Squares   F-statistic:                    0.6493\n",
      "Date:                Fri, 20 Oct 2023   Prob (F-statistic):              0.917\n",
      "Time:                        20:12:04   Log-Likelihood:                -392.34\n",
      "No. Observations:                 117   AIC:                             852.7\n",
      "Df Residuals:                      83   BIC:                             946.6\n",
      "Df Model:                          33                                         \n",
      "Covariance Type:            nonrobust                                         \n",
      "=================================================================================================\n",
      "                                    coef    std err          t      P>|t|      [0.025      0.975]\n",
      "-------------------------------------------------------------------------------------------------\n",
      "Intercept                        20.6569      3.674      5.622      0.000      13.349      27.965\n",
      "state[T.Alaska]                   5.3431      9.000      0.594      0.554     -12.557      23.244\n",
      "state[T.Arkansas]                -3.5146      6.874     -0.511      0.610     -17.186      10.157\n",
      "state[T.California]              -1.1095      4.373     -0.254      0.800      -9.808       7.589\n",
      "state[T.Colorado]                 3.7431      5.196      0.720      0.473      -6.592      14.078\n",
      "state[T.Connecticut]             -2.6569      6.874     -0.387      0.700     -16.329      11.015\n",
      "state[T.Delaware]                -4.6569      9.000     -0.517      0.606     -22.557      13.244\n",
      "state[T.District of Columbia]    -1.5620      6.000     -0.260      0.795     -13.496      10.372\n",
      "state[T.Florida]                 -3.4884      4.431     -0.787      0.433     -12.302       5.325\n",
      "state[T.Georgia]                  9.8662      6.000      1.644      0.104      -2.067      21.800\n",
      "state[T.Illinois]                -2.9428      4.975     -0.592      0.556     -12.838       6.952\n",
      "state[T.Indiana]                 -4.6569      6.874     -0.677      0.500     -18.329       9.015\n",
      "state[T.Kansas]                  -2.6569      9.000     -0.295      0.769     -20.557      15.244\n",
      "state[T.Kentucky]                -4.6569      9.000     -0.517      0.606     -22.557      13.244\n",
      "state[T.Louisiana]               -0.4569      5.196     -0.088      0.930     -10.792       9.878\n",
      "state[T.Maryland]                -2.1569      5.511     -0.391      0.697     -13.119       8.805\n",
      "state[T.Michigan]                -3.6569      9.000     -0.406      0.686     -21.557      14.244\n",
      "state[T.Minnesota]               -3.5146      6.874     -0.511      0.610     -17.186      10.157\n",
      "state[T.Mississippi]              4.8431      6.874      0.705      0.483      -8.829      18.515\n",
      "state[T.Nevada]                  -7.6569      6.874     -1.114      0.269     -21.329       6.015\n",
      "state[T.New Hampshire]           -6.6569      9.000     -0.740      0.462     -24.557      11.244\n",
      "state[T.New Mexico]              -6.5858      5.511     -1.195      0.236     -17.548       4.376\n",
      "state[T.New York]                -1.3723      9.000     -0.152      0.879     -19.273      16.528\n",
      "state[T.North Carolina]           5.6642      5.511      1.028      0.307      -5.298      16.626\n",
      "state[T.Ohio]                    -4.2492      4.811     -0.883      0.380     -13.817       5.319\n",
      "state[T.Oregon]                  -4.0146      6.874     -0.584      0.561     -17.686       9.657\n",
      "state[T.Pennsylvania]             1.6288      4.811      0.339      0.736      -7.939      11.197\n",
      "state[T.South Carolina]          -5.6569      9.000     -0.629      0.531     -23.557      12.244\n",
      "state[T.South Dakota]            -4.6569      9.000     -0.517      0.606     -22.557      13.244\n",
      "state[T.Tennessee]               -3.8954      6.000     -0.649      0.518     -15.829       8.038\n",
      "state[T.Texas]                   -2.7287      4.975     -0.548      0.585     -12.624       7.166\n",
      "state[T.Virginia]                -3.0855      4.811     -0.641      0.523     -12.654       6.483\n",
      "state[T.Washington]              -7.6569      9.000     -0.851      0.397     -25.557      10.244\n",
      "state[T.Wisconsin]               -1.3723      9.000     -0.152      0.879     -19.273      16.528\n",
      "==============================================================================\n",
      "Omnibus:                       58.995   Durbin-Watson:                   2.077\n",
      "Prob(Omnibus):                  0.000   Jarque-Bera (JB):              200.037\n",
      "Skew:                           1.842   Prob(JB):                     3.65e-44\n",
      "Kurtosis:                       8.240   Cond. No.                         30.0\n",
      "==============================================================================\n",
      "\n",
      "Notes:\n",
      "[1] Standard Errors assume that the covariance matrix of the errors is correctly specified.\n"
     ]
    }
   ],
   "source": [
    "fit2_test= smf.ols(formula= ' age_shooter1 ~ state',  data= Shooting_test).fit()\n",
    "print(fit2_test.summary())"
   ]
  },
  {
   "cell_type": "code",
   "execution_count": 63,
   "metadata": {},
   "outputs": [
    {
     "name": "stdout",
     "output_type": "stream",
     "text": [
      "               sum_sq    df         F    PR(>F)\n",
      "state     1446.226701  33.0  0.649275  0.917216\n",
      "Residual  5602.374144  83.0       NaN       NaN\n",
      "No significant differences in shooter age across states.\n"
     ]
    }
   ],
   "source": [
    "# Performing  ANOVA\n",
    "model_test = ols('age_shooter1 ~ state', data=Shooting_test).fit()\n",
    "anova_table = sm.stats.anova_lm(model_test, typ=2)\n",
    "\n",
    "# Printing  ANOVA results\n",
    "print(anova_table)\n",
    "\n",
    "# Interpret the results based on p-value\n",
    "if anova_table['PR(>F)'][0] < 0.05:\n",
    "    print(\"There are significant differences in shooter age across states.\")\n",
    "else:\n",
    "    print(\"No significant differences in shooter age across states.\")"
   ]
  },
  {
   "cell_type": "markdown",
   "metadata": {},
   "source": [
    "- Model 2: ANOVA test on \"Killed average cases vs State\" . "
   ]
  },
  {
   "cell_type": "code",
   "execution_count": 64,
   "metadata": {},
   "outputs": [
    {
     "name": "stdout",
     "output_type": "stream",
     "text": [
      "                            OLS Regression Results                            \n",
      "==============================================================================\n",
      "Dep. Variable:                 killed   R-squared:                       0.279\n",
      "Model:                            OLS   Adj. R-squared:                 -0.008\n",
      "Method:                 Least Squares   F-statistic:                    0.9718\n",
      "Date:                Fri, 20 Oct 2023   Prob (F-statistic):              0.522\n",
      "Time:                        20:12:04   Log-Likelihood:                -297.21\n",
      "No. Observations:                 117   AIC:                             662.4\n",
      "Df Residuals:                      83   BIC:                             756.3\n",
      "Df Model:                          33                                         \n",
      "Covariance Type:            nonrobust                                         \n",
      "=================================================================================================\n",
      "                                    coef    std err          t      P>|t|      [0.025      0.975]\n",
      "-------------------------------------------------------------------------------------------------\n",
      "Intercept                         0.4000      1.630      0.245      0.807      -2.841       3.641\n",
      "state[T.Alaska]                  -0.4000      3.991     -0.100      0.920      -8.339       7.539\n",
      "state[T.Arkansas]                 0.1000      3.049      0.033      0.974      -5.963       6.163\n",
      "state[T.California]              -0.0667      1.939     -0.034      0.973      -3.924       3.791\n",
      "state[T.Colorado]                 2.8000      2.304      1.215      0.228      -1.783       7.383\n",
      "state[T.Connecticut]             12.6000      3.049      4.133      0.000       6.537      18.663\n",
      "state[T.Delaware]                -0.4000      3.991     -0.100      0.920      -8.339       7.539\n",
      "state[T.District of Columbia]    -0.0667      2.661     -0.025      0.980      -5.359       5.226\n",
      "state[T.Florida]                  1.6000      1.965      0.814      0.418      -2.309       5.509\n",
      "state[T.Georgia]                 -0.4000      2.661     -0.150      0.881      -5.693       4.893\n",
      "state[T.Illinois]                -0.4000      2.206     -0.181      0.857      -4.788       3.988\n",
      "state[T.Indiana]                  0.1000      3.049      0.033      0.974      -5.963       6.163\n",
      "state[T.Kansas]                  -0.4000      3.991     -0.100      0.920      -8.339       7.539\n",
      "state[T.Kentucky]                -0.4000      3.991     -0.100      0.920      -8.339       7.539\n",
      "state[T.Louisiana]               -0.4000      2.304     -0.174      0.863      -4.983       4.183\n",
      "state[T.Maryland]                -0.4000      2.444     -0.164      0.870      -5.262       4.462\n",
      "state[T.Michigan]                -0.4000      3.991     -0.100      0.920      -8.339       7.539\n",
      "state[T.Minnesota]                0.6000      3.049      0.197      0.844      -5.463       6.663\n",
      "state[T.Mississippi]              0.1000      3.049      0.033      0.974      -5.963       6.163\n",
      "state[T.Nevada]                   0.1000      3.049      0.033      0.974      -5.963       6.163\n",
      "state[T.New Hampshire]           -0.4000      3.991     -0.100      0.920      -8.339       7.539\n",
      "state[T.New Mexico]               0.1000      2.444      0.041      0.967      -4.762       4.962\n",
      "state[T.New York]                -0.4000      3.991     -0.100      0.920      -8.339       7.539\n",
      "state[T.North Carolina]          -0.1500      2.444     -0.061      0.951      -5.012       4.712\n",
      "state[T.Ohio]                    -0.4000      2.134     -0.187      0.852      -4.643       3.843\n",
      "state[T.Oregon]                  -0.4000      3.049     -0.131      0.896      -6.463       5.663\n",
      "state[T.Pennsylvania]             0.7429      2.134      0.348      0.729      -3.501       4.986\n",
      "state[T.South Carolina]          -0.4000      3.991     -0.100      0.920      -8.339       7.539\n",
      "state[T.South Dakota]            -0.4000      3.991     -0.100      0.920      -8.339       7.539\n",
      "state[T.Tennessee]               -0.0667      2.661     -0.025      0.980      -5.359       5.226\n",
      "state[T.Texas]                    3.2667      2.206      1.481      0.143      -1.122       7.655\n",
      "state[T.Virginia]                -0.4000      2.134     -0.187      0.852      -4.643       3.843\n",
      "state[T.Washington]              -0.4000      3.991     -0.100      0.920      -8.339       7.539\n",
      "state[T.Wisconsin]               -0.4000      3.991     -0.100      0.920      -8.339       7.539\n",
      "==============================================================================\n",
      "Omnibus:                      102.143   Durbin-Watson:                   1.987\n",
      "Prob(Omnibus):                  0.000   Jarque-Bera (JB):             1570.065\n",
      "Skew:                           2.737   Prob(JB):                         0.00\n",
      "Kurtosis:                      20.091   Cond. No.                         30.0\n",
      "==============================================================================\n",
      "\n",
      "Notes:\n",
      "[1] Standard Errors assume that the covariance matrix of the errors is correctly specified.\n"
     ]
    }
   ],
   "source": [
    "fit3_test= smf.ols(formula= 'killed ~ state',  data= Shooting_test).fit()\n",
    "print(fit3_test.summary())"
   ]
  },
  {
   "cell_type": "code",
   "execution_count": 65,
   "metadata": {},
   "outputs": [
    {
     "name": "stdout",
     "output_type": "stream",
     "text": [
      "               sum_sq    df         F    PR(>F)\n",
      "state      425.751832  33.0  0.971768  0.522248\n",
      "Residual  1101.940476  83.0       NaN       NaN\n",
      "No significant differences in killed cases average across states.\n"
     ]
    }
   ],
   "source": [
    "# Performing  ANOVA\n",
    "model_test_killed = ols('killed ~ state', data=Shooting_test).fit()\n",
    "anova_table_killed = sm.stats.anova_lm(model_test_killed, typ=2)\n",
    "\n",
    "# Printing  ANOVA results\n",
    "print(anova_table_killed)\n",
    "\n",
    "# Interpret the results based on p-value\n",
    "if anova_table_killed['PR(>F)'][0] < 0.05:\n",
    "    print(\"There are significant differences in killed cases average across states.\")\n",
    "else:\n",
    "    print(\"No significant differences in killed cases average across states.\")"
   ]
  },
  {
   "cell_type": "markdown",
   "metadata": {},
   "source": [
    "- Model 3: ANOVA test on \"Injured average cases vs State\" . "
   ]
  },
  {
   "cell_type": "code",
   "execution_count": 66,
   "metadata": {},
   "outputs": [
    {
     "name": "stdout",
     "output_type": "stream",
     "text": [
      "                            OLS Regression Results                            \n",
      "==============================================================================\n",
      "Dep. Variable:                injured   R-squared:                       0.185\n",
      "Model:                            OLS   Adj. R-squared:                 -0.139\n",
      "Method:                 Least Squares   F-statistic:                    0.5716\n",
      "Date:                Fri, 20 Oct 2023   Prob (F-statistic):              0.963\n",
      "Time:                        20:12:04   Log-Likelihood:                -284.40\n",
      "No. Observations:                 117   AIC:                             636.8\n",
      "Df Residuals:                      83   BIC:                             730.7\n",
      "Df Model:                          33                                         \n",
      "Covariance Type:            nonrobust                                         \n",
      "=================================================================================================\n",
      "                                    coef    std err          t      P>|t|      [0.025      0.975]\n",
      "-------------------------------------------------------------------------------------------------\n",
      "Intercept                         0.4000      1.460      0.274      0.785      -2.505       3.305\n",
      "state[T.Alaska]                   0.6000      3.577      0.168      0.867      -6.515       7.715\n",
      "state[T.Arkansas]                -0.4000      2.732     -0.146      0.884      -5.834       5.034\n",
      "state[T.California]               1.9333      1.738      1.112      0.269      -1.524       5.391\n",
      "state[T.Colorado]                 5.8000      2.065      2.808      0.006       1.692       9.908\n",
      "state[T.Connecticut]              0.6000      2.732      0.220      0.827      -4.834       6.034\n",
      "state[T.Delaware]                -0.4000      3.577     -0.112      0.911      -7.515       6.715\n",
      "state[T.District of Columbia]     1.2667      2.385      0.531      0.597      -3.477       6.010\n",
      "state[T.Florida]                  1.4182      1.761      0.805      0.423      -2.085       4.922\n",
      "state[T.Georgia]                 -0.0667      2.385     -0.028      0.978      -4.810       4.677\n",
      "state[T.Illinois]                 0.1000      1.977      0.051      0.960      -3.833       4.033\n",
      "state[T.Indiana]                  0.1000      2.732      0.037      0.971      -5.334       5.534\n",
      "state[T.Kansas]                   1.6000      3.577      0.447      0.656      -5.515       8.715\n",
      "state[T.Kentucky]                 0.6000      3.577      0.168      0.867      -6.515       7.715\n",
      "state[T.Louisiana]                0.4000      2.065      0.194      0.847      -3.708       4.508\n",
      "state[T.Maryland]                 0.8500      2.191      0.388      0.699      -3.507       5.207\n",
      "state[T.Michigan]                -0.4000      3.577     -0.112      0.911      -7.515       6.715\n",
      "state[T.Minnesota]               -0.4000      2.732     -0.146      0.884      -5.834       5.034\n",
      "state[T.Mississippi]              0.6000      2.732      0.220      0.827      -4.834       6.034\n",
      "state[T.Nevada]                   1.6000      2.732      0.586      0.560      -3.834       7.034\n",
      "state[T.New Hampshire]           -0.4000      3.577     -0.112      0.911      -7.515       6.715\n",
      "state[T.New Mexico]               0.3500      2.191      0.160      0.873      -4.007       4.707\n",
      "state[T.New York]                -0.4000      3.577     -0.112      0.911      -7.515       6.715\n",
      "state[T.North Carolina]          -0.4000      2.191     -0.183      0.856      -4.757       3.957\n",
      "state[T.Ohio]                     0.7429      1.912      0.388      0.699      -3.060       4.546\n",
      "state[T.Oregon]                   0.6000      2.732      0.220      0.827      -4.834       6.034\n",
      "state[T.Pennsylvania]             0.6000      1.912      0.314      0.754      -3.203       4.403\n",
      "state[T.South Carolina]          -0.4000      3.577     -0.112      0.911      -7.515       6.715\n",
      "state[T.South Dakota]             0.6000      3.577      0.168      0.867      -6.515       7.715\n",
      "state[T.Tennessee]               -0.0667      2.385     -0.028      0.978      -4.810       4.677\n",
      "state[T.Texas]                    2.6000      1.977      1.315      0.192      -1.333       6.533\n",
      "state[T.Virginia]                 0.1714      1.912      0.090      0.929      -3.632       3.975\n",
      "state[T.Washington]              -0.4000      3.577     -0.112      0.911      -7.515       6.715\n",
      "state[T.Wisconsin]                0.6000      3.577      0.168      0.867      -6.515       7.715\n",
      "==============================================================================\n",
      "Omnibus:                      113.352   Durbin-Watson:                   1.862\n",
      "Prob(Omnibus):                  0.000   Jarque-Bera (JB):             1407.195\n",
      "Skew:                           3.349   Prob(JB):                    2.70e-306\n",
      "Kurtosis:                      18.614   Cond. No.                         30.0\n",
      "==============================================================================\n",
      "\n",
      "Notes:\n",
      "[1] Standard Errors assume that the covariance matrix of the errors is correctly specified.\n"
     ]
    }
   ],
   "source": [
    "fit4_test= smf.ols(formula= ' injured ~ state',  data= Shooting_test).fit()\n",
    "print(fit4_test.summary())"
   ]
  },
  {
   "cell_type": "code",
   "execution_count": 67,
   "metadata": {},
   "outputs": [
    {
     "name": "stdout",
     "output_type": "stream",
     "text": [
      "              sum_sq    df         F    PR(>F)\n",
      "state     201.150327  33.0  0.571552  0.963172\n",
      "Residual  885.174459  83.0       NaN       NaN\n",
      "No significant differences in injured cases average across states.\n"
     ]
    }
   ],
   "source": [
    "# Performing  ANOVA\n",
    "model_test_injured = ols('injured ~ state', data=Shooting_test).fit()\n",
    "anova_table_injured = sm.stats.anova_lm(model_test_injured, typ=2)\n",
    "\n",
    "# Printing  ANOVA results\n",
    "print(anova_table_injured)\n",
    "\n",
    "# Interpret the results based on p-value\n",
    "if anova_table_injured['PR(>F)'][0] < 0.05:\n",
    "    print(\"There are significant differences in injured cases average across states.\")\n",
    "else:\n",
    "    print(\"No significant differences in injured cases average across states.\")"
   ]
  },
  {
   "cell_type": "markdown",
   "metadata": {},
   "source": [
    "- Model 4: ANOVA test on \"Casualties average cases vs State\" . "
   ]
  },
  {
   "cell_type": "code",
   "execution_count": 68,
   "metadata": {},
   "outputs": [
    {
     "name": "stdout",
     "output_type": "stream",
     "text": [
      "                            OLS Regression Results                            \n",
      "==============================================================================\n",
      "Dep. Variable:             casualties   R-squared:                       0.201\n",
      "Model:                            OLS   Adj. R-squared:                 -0.117\n",
      "Method:                 Least Squares   F-statistic:                    0.6314\n",
      "Date:                Fri, 20 Oct 2023   Prob (F-statistic):              0.930\n",
      "Time:                        20:12:04   Log-Likelihood:                -362.10\n",
      "No. Observations:                 117   AIC:                             792.2\n",
      "Df Residuals:                      83   BIC:                             886.1\n",
      "Df Model:                          33                                         \n",
      "Covariance Type:            nonrobust                                         \n",
      "=================================================================================================\n",
      "                                    coef    std err          t      P>|t|      [0.025      0.975]\n",
      "-------------------------------------------------------------------------------------------------\n",
      "Intercept                         0.8000      2.837      0.282      0.779      -4.843       6.443\n",
      "state[T.Alaska]                   0.2000      6.950      0.029      0.977     -13.623      14.023\n",
      "state[T.Arkansas]                -0.3000      5.308     -0.057      0.955     -10.858      10.258\n",
      "state[T.California]               1.8667      3.377      0.553      0.582      -4.850       8.584\n",
      "state[T.Colorado]                 8.6000      4.013      2.143      0.035       0.619      16.581\n",
      "state[T.Connecticut]             13.2000      5.308      2.487      0.015       2.642      23.758\n",
      "state[T.Delaware]                -0.8000      6.950     -0.115      0.909     -14.623      13.023\n",
      "state[T.District of Columbia]     1.2000      4.633      0.259      0.796      -8.016      10.416\n",
      "state[T.Florida]                  2.9273      3.422      0.855      0.395      -3.879       9.733\n",
      "state[T.Georgia]                 -0.4667      4.633     -0.101      0.920      -9.682       8.749\n",
      "state[T.Illinois]                -0.3000      3.842     -0.078      0.938      -7.941       7.341\n",
      "state[T.Indiana]                  0.2000      5.308      0.038      0.970     -10.358      10.758\n",
      "state[T.Kansas]                   1.2000      6.950      0.173      0.863     -12.623      15.023\n",
      "state[T.Kentucky]                 0.2000      6.950      0.029      0.977     -13.623      14.023\n",
      "state[T.Louisiana]             3.678e-15      4.013   9.17e-16      1.000      -7.981       7.981\n",
      "state[T.Maryland]                 0.4500      4.256      0.106      0.916      -8.015       8.915\n",
      "state[T.Michigan]                -0.8000      6.950     -0.115      0.909     -14.623      13.023\n",
      "state[T.Minnesota]                0.2000      5.308      0.038      0.970     -10.358      10.758\n",
      "state[T.Mississippi]              0.7000      5.308      0.132      0.895      -9.858      11.258\n",
      "state[T.Nevada]                   1.7000      5.308      0.320      0.750      -8.858      12.258\n",
      "state[T.New Hampshire]           -0.8000      6.950     -0.115      0.909     -14.623      13.023\n",
      "state[T.New Mexico]               0.4500      4.256      0.106      0.916      -8.015       8.915\n",
      "state[T.New York]                -0.8000      6.950     -0.115      0.909     -14.623      13.023\n",
      "state[T.North Carolina]          -0.5500      4.256     -0.129      0.897      -9.015       7.915\n",
      "state[T.Ohio]                     0.3429      3.715      0.092      0.927      -7.046       7.732\n",
      "state[T.Oregon]                   0.2000      5.308      0.038      0.970     -10.358      10.758\n",
      "state[T.Pennsylvania]             1.3429      3.715      0.361      0.719      -6.046       8.732\n",
      "state[T.South Carolina]          -0.8000      6.950     -0.115      0.909     -14.623      13.023\n",
      "state[T.South Dakota]             0.2000      6.950      0.029      0.977     -13.623      14.023\n",
      "state[T.Tennessee]               -0.1333      4.633     -0.029      0.977      -9.349       9.082\n",
      "state[T.Texas]                    5.8667      3.842      1.527      0.131      -1.775      13.508\n",
      "state[T.Virginia]                -0.2286      3.715     -0.062      0.951      -7.617       7.160\n",
      "state[T.Washington]              -0.8000      6.950     -0.115      0.909     -14.623      13.023\n",
      "state[T.Wisconsin]                0.2000      6.950      0.029      0.977     -13.623      14.023\n",
      "==============================================================================\n",
      "Omnibus:                      114.729   Durbin-Watson:                   1.895\n",
      "Prob(Omnibus):                  0.000   Jarque-Bera (JB):             1466.822\n",
      "Skew:                           3.395   Prob(JB):                         0.00\n",
      "Kurtosis:                      18.962   Cond. No.                         30.0\n",
      "==============================================================================\n",
      "\n",
      "Notes:\n",
      "[1] Standard Errors assume that the covariance matrix of the errors is correctly specified.\n"
     ]
    }
   ],
   "source": [
    "fit5_test= smf.ols(formula= ' casualties ~ state',  data= Shooting_test).fit()\n",
    "print(fit5_test.summary())"
   ]
  },
  {
   "cell_type": "code",
   "execution_count": 69,
   "metadata": {},
   "outputs": [
    {
     "name": "stdout",
     "output_type": "stream",
     "text": [
      "               sum_sq    df         F    PR(>F)\n",
      "state      838.698585  33.0  0.631385  0.929961\n",
      "Residual  3340.993723  83.0       NaN       NaN\n",
      "No significant differences in casaulties cases average across states.\n"
     ]
    }
   ],
   "source": [
    "# Performing  ANOVA\n",
    "model_test_casualties = ols('casualties ~ state', data=Shooting_test).fit()\n",
    "anova_table_casualties = sm.stats.anova_lm(model_test_casualties, typ=2)\n",
    "\n",
    "# Printing  ANOVA results\n",
    "print(anova_table_casualties)\n",
    "\n",
    "# Interpret the results based on p-value\n",
    "if anova_table_casualties['PR(>F)'][0] < 0.05:\n",
    "    print(\"There are significant differences in casualties cases average across states.\")\n",
    "else:\n",
    "    print(\"No significant differences in casaulties cases average across states.\")"
   ]
  },
  {
   "cell_type": "markdown",
   "metadata": {},
   "source": [
    "- Model 5: ANOVA test on \"Killed average cases vs Day of the Week\" . "
   ]
  },
  {
   "cell_type": "code",
   "execution_count": 70,
   "metadata": {},
   "outputs": [
    {
     "name": "stdout",
     "output_type": "stream",
     "text": [
      "                            OLS Regression Results                            \n",
      "==============================================================================\n",
      "Dep. Variable:                 killed   R-squared:                       0.016\n",
      "Model:                            OLS   Adj. R-squared:                 -0.019\n",
      "Method:                 Least Squares   F-statistic:                    0.4664\n",
      "Date:                Fri, 20 Oct 2023   Prob (F-statistic):              0.760\n",
      "Time:                        20:12:05   Log-Likelihood:                -315.36\n",
      "No. Observations:                 117   AIC:                             640.7\n",
      "Df Residuals:                     112   BIC:                             654.5\n",
      "Df Model:                           4                                         \n",
      "Covariance Type:            nonrobust                                         \n",
      "============================================================================================\n",
      "                               coef    std err          t      P>|t|      [0.025      0.975]\n",
      "--------------------------------------------------------------------------------------------\n",
      "Intercept                    1.3462      0.718      1.874      0.064      -0.077       2.769\n",
      "day_of_week[T.Monday]       -0.7462      1.089     -0.685      0.495      -2.905       1.412\n",
      "day_of_week[T.Thursday]     -1.2350      1.123     -1.100      0.274      -3.460       0.990\n",
      "day_of_week[T.Tuesday]       0.0769      1.016      0.076      0.940      -1.936       2.090\n",
      "day_of_week[T.Wednesday]    -0.4202      1.006     -0.418      0.677      -2.414       1.574\n",
      "==============================================================================\n",
      "Omnibus:                      159.034   Durbin-Watson:                   2.105\n",
      "Prob(Omnibus):                  0.000   Jarque-Bera (JB):             4402.346\n",
      "Skew:                           5.230   Prob(JB):                         0.00\n",
      "Kurtosis:                      31.171   Cond. No.                         5.60\n",
      "==============================================================================\n",
      "\n",
      "Notes:\n",
      "[1] Standard Errors assume that the covariance matrix of the errors is correctly specified.\n"
     ]
    }
   ],
   "source": [
    "fit6_test= smf.ols(formula= ' killed ~ day_of_week',  data= Shooting_test).fit()\n",
    "print(fit6_test.summary())"
   ]
  },
  {
   "cell_type": "code",
   "execution_count": 71,
   "metadata": {},
   "outputs": [
    {
     "name": "stdout",
     "output_type": "stream",
     "text": [
      "                  sum_sq     df         F    PR(>F)\n",
      "day_of_week    25.031909    4.0  0.466435  0.760242\n",
      "Residual     1502.660399  112.0       NaN       NaN\n",
      "No significant differences in killed cases average across days of the week.\n"
     ]
    }
   ],
   "source": [
    "# Performing  ANOVA\n",
    "model_test_killed_week = ols('killed ~ day_of_week', data=Shooting_test).fit()\n",
    "anova_table_killed_week = sm.stats.anova_lm(model_test_killed_week, typ=2)\n",
    "\n",
    "# Printing  ANOVA results\n",
    "print(anova_table_killed_week)\n",
    "\n",
    "# Interpret the results based on p-value\n",
    "if anova_table_killed_week['PR(>F)'][0] < 0.05:\n",
    "    print(\"There are significant differences in killed cases average across days of the week.\")\n",
    "else:\n",
    "    print(\"No significant differences in killed cases average across days of the week.\")"
   ]
  },
  {
   "cell_type": "markdown",
   "metadata": {},
   "source": [
    "- Model 6: ANOVA test on \"Casualties average cases vs day of the week\".  "
   ]
  },
  {
   "cell_type": "code",
   "execution_count": 72,
   "metadata": {},
   "outputs": [
    {
     "name": "stdout",
     "output_type": "stream",
     "text": [
      "                            OLS Regression Results                            \n",
      "==============================================================================\n",
      "Dep. Variable:             casualties   R-squared:                       0.023\n",
      "Model:                            OLS   Adj. R-squared:                 -0.012\n",
      "Method:                 Least Squares   F-statistic:                    0.6512\n",
      "Date:                Fri, 20 Oct 2023   Prob (F-statistic):              0.627\n",
      "Time:                        20:12:05   Log-Likelihood:                -373.86\n",
      "No. Observations:                 117   AIC:                             757.7\n",
      "Df Residuals:                     112   BIC:                             771.5\n",
      "Df Model:                           4                                         \n",
      "Covariance Type:            nonrobust                                         \n",
      "============================================================================================\n",
      "                               coef    std err          t      P>|t|      [0.025      0.975]\n",
      "--------------------------------------------------------------------------------------------\n",
      "Intercept                    2.1154      1.184      1.786      0.077      -0.231       4.462\n",
      "day_of_week[T.Monday]       -0.0154      1.796     -0.009      0.993      -3.574       3.544\n",
      "day_of_week[T.Thursday]     -1.2265      1.852     -0.662      0.509      -4.895       2.442\n",
      "day_of_week[T.Tuesday]       1.6538      1.675      0.987      0.326      -1.665       4.973\n",
      "day_of_week[T.Wednesday]    -0.0413      1.659     -0.025      0.980      -3.329       3.246\n",
      "==============================================================================\n",
      "Omnibus:                      135.610   Durbin-Watson:                   2.066\n",
      "Prob(Omnibus):                  0.000   Jarque-Bera (JB):             2062.324\n",
      "Skew:                           4.330   Prob(JB):                         0.00\n",
      "Kurtosis:                      21.656   Cond. No.                         5.60\n",
      "==============================================================================\n",
      "\n",
      "Notes:\n",
      "[1] Standard Errors assume that the covariance matrix of the errors is correctly specified.\n"
     ]
    }
   ],
   "source": [
    "fit7_test= smf.ols(formula= ' casualties ~ day_of_week',  data= Shooting_test).fit()\n",
    "print(fit7_test.summary())"
   ]
  },
  {
   "cell_type": "code",
   "execution_count": 73,
   "metadata": {},
   "outputs": [
    {
     "name": "stdout",
     "output_type": "stream",
     "text": [
      "                  sum_sq     df         F    PR(>F)\n",
      "day_of_week    94.993447    4.0  0.651166  0.627234\n",
      "Residual     4084.698860  112.0       NaN       NaN\n",
      "No significant differences in casualties cases average across days of the week.\n"
     ]
    }
   ],
   "source": [
    "# Performing  ANOVA\n",
    "model_test_casualties_week = ols('casualties ~ day_of_week', data=Shooting_test).fit()\n",
    "anova_table_casualties_week = sm.stats.anova_lm(model_test_casualties_week, typ=2)\n",
    "\n",
    "# Printing  ANOVA results\n",
    "print(anova_table_casualties_week)\n",
    "\n",
    "# Interpret the results based on p-value\n",
    "if anova_table_casualties_week['PR(>F)'][0] < 0.05:\n",
    "    print(\"There are significant differences in casualties cases average across days of the week.\")\n",
    "else:\n",
    "    print(\"No significant differences in casualties cases average across days of the week.\")"
   ]
  },
  {
   "cell_type": "markdown",
   "metadata": {},
   "source": [
    "- Model 7: ANOVA test on \"Injured average cases vs day of the week\" . "
   ]
  },
  {
   "cell_type": "code",
   "execution_count": 74,
   "metadata": {},
   "outputs": [
    {
     "name": "stdout",
     "output_type": "stream",
     "text": [
      "                            OLS Regression Results                            \n",
      "==============================================================================\n",
      "Dep. Variable:                injured   R-squared:                       0.038\n",
      "Model:                            OLS   Adj. R-squared:                  0.003\n",
      "Method:                 Least Squares   F-statistic:                     1.095\n",
      "Date:                Fri, 20 Oct 2023   Prob (F-statistic):              0.363\n",
      "Time:                        20:12:05   Log-Likelihood:                -294.13\n",
      "No. Observations:                 117   AIC:                             598.3\n",
      "Df Residuals:                     112   BIC:                             612.1\n",
      "Df Model:                           4                                         \n",
      "Covariance Type:            nonrobust                                         \n",
      "============================================================================================\n",
      "                               coef    std err          t      P>|t|      [0.025      0.975]\n",
      "--------------------------------------------------------------------------------------------\n",
      "Intercept                    0.8077      0.599      1.348      0.180      -0.379       1.995\n",
      "day_of_week[T.Monday]        0.6923      0.909      0.762      0.448      -1.108       2.493\n",
      "day_of_week[T.Thursday]     -0.0299      0.937     -0.032      0.975      -1.886       1.826\n",
      "day_of_week[T.Tuesday]       1.5385      0.847      1.816      0.072      -0.140       3.217\n",
      "day_of_week[T.Wednesday]     0.3405      0.839      0.406      0.686      -1.323       2.004\n",
      "==============================================================================\n",
      "Omnibus:                      134.095   Durbin-Watson:                   1.988\n",
      "Prob(Omnibus):                  0.000   Jarque-Bera (JB):             2242.028\n",
      "Skew:                           4.184   Prob(JB):                         0.00\n",
      "Kurtosis:                      22.746   Cond. No.                         5.60\n",
      "==============================================================================\n",
      "\n",
      "Notes:\n",
      "[1] Standard Errors assume that the covariance matrix of the errors is correctly specified.\n"
     ]
    }
   ],
   "source": [
    "fit8_test= smf.ols(formula= ' injured ~ day_of_week',  data= Shooting_test).fit()\n",
    "print(fit8_test.summary())"
   ]
  },
  {
   "cell_type": "code",
   "execution_count": 75,
   "metadata": {},
   "outputs": [
    {
     "name": "stdout",
     "output_type": "stream",
     "text": [
      "                  sum_sq     df         F    PR(>F)\n",
      "day_of_week    40.883191    4.0  1.094972  0.362627\n",
      "Residual     1045.441595  112.0       NaN       NaN\n",
      "No significant differences in injured cases average across days of the week.\n"
     ]
    }
   ],
   "source": [
    "# Performing  ANOVA\n",
    "model_test_injured_week = ols('injured ~ day_of_week', data=Shooting_test).fit()\n",
    "anova_table_injured_week = sm.stats.anova_lm(model_test_injured_week, typ=2)\n",
    "\n",
    "# Printing  ANOVA results\n",
    "print(anova_table_injured_week)\n",
    "\n",
    "# Interpret the results based on p-value\n",
    "if anova_table_injured_week['PR(>F)'][0] < 0.05:\n",
    "    print(\"There are significant differences in injured cases average across days of the week.\")\n",
    "else:\n",
    "    print(\"No significant differences in injured cases average across days of the week.\")"
   ]
  },
  {
   "cell_type": "markdown",
   "metadata": {},
   "source": [
    "- Model 8: ANOVA test on \"Killed average cases vs State and day of the week\". "
   ]
  },
  {
   "cell_type": "code",
   "execution_count": 76,
   "metadata": {},
   "outputs": [
    {
     "name": "stdout",
     "output_type": "stream",
     "text": [
      "                            OLS Regression Results                            \n",
      "==============================================================================\n",
      "Dep. Variable:                 killed   R-squared:                       0.282\n",
      "Model:                            OLS   Adj. R-squared:                 -0.054\n",
      "Method:                 Least Squares   F-statistic:                    0.8403\n",
      "Date:                Fri, 20 Oct 2023   Prob (F-statistic):              0.717\n",
      "Time:                        20:12:05   Log-Likelihood:                -296.91\n",
      "No. Observations:                 117   AIC:                             669.8\n",
      "Df Residuals:                      79   BIC:                             774.8\n",
      "Df Model:                          37                                         \n",
      "Covariance Type:            nonrobust                                         \n",
      "=================================================================================================\n",
      "                                    coef    std err          t      P>|t|      [0.025      0.975]\n",
      "-------------------------------------------------------------------------------------------------\n",
      "Intercept                         0.9274      2.018      0.460      0.647      -3.088       4.943\n",
      "day_of_week[T.Monday]             0.1496      1.457      0.103      0.918      -2.750       3.049\n",
      "day_of_week[T.Thursday]          -0.6593      1.423     -0.463      0.644      -3.491       2.172\n",
      "day_of_week[T.Tuesday]            0.0647      1.271      0.051      0.960      -2.466       2.595\n",
      "day_of_week[T.Wednesday]         -0.2473      1.242     -0.199      0.843      -2.719       2.224\n",
      "state[T.Alaska]                  -0.6801      4.280     -0.159      0.874      -9.199       7.839\n",
      "state[T.Arkansas]                -0.5346      3.322     -0.161      0.873      -7.146       6.077\n",
      "state[T.California]              -0.5184      2.172     -0.239      0.812      -4.841       3.804\n",
      "state[T.Colorado]                 2.3456      2.581      0.909      0.366      -2.792       7.483\n",
      "state[T.Connecticut]             12.0402      3.286      3.664      0.000       5.500      18.581\n",
      "state[T.Delaware]                -1.0770      4.302     -0.250      0.803      -9.639       7.485\n",
      "state[T.District of Columbia]    -0.5332      2.904     -0.184      0.855      -6.314       5.248\n",
      "state[T.Florida]                  1.2299      2.283      0.539      0.592      -3.314       5.774\n",
      "state[T.Georgia]                 -0.8881      2.958     -0.300      0.765      -6.777       5.000\n",
      "state[T.Illinois]                -0.9306      2.510     -0.371      0.712      -5.926       4.065\n",
      "state[T.Indiana]                 -0.4274      3.318     -0.129      0.898      -7.032       6.177\n",
      "state[T.Kansas]                  -0.9274      4.236     -0.219      0.827      -9.360       7.505\n",
      "state[T.Kentucky]                -0.9921      4.282     -0.232      0.817      -9.514       7.530\n",
      "state[T.Louisiana]               -0.9703      2.552     -0.380      0.705      -6.051       4.110\n",
      "state[T.Maryland]                -0.5978      2.535     -0.236      0.814      -5.644       4.448\n",
      "state[T.Michigan]                -1.0770      4.302     -0.250      0.803      -9.639       7.485\n",
      "state[T.Minnesota]                0.1639      3.320      0.049      0.961      -6.444       6.772\n",
      "state[T.Mississippi]             -0.4921      3.375     -0.146      0.884      -7.211       6.226\n",
      "state[T.Nevada]                  -0.5346      3.322     -0.161      0.873      -7.146       6.077\n",
      "state[T.New Hampshire]           -0.9274      4.236     -0.219      0.827      -9.360       7.505\n",
      "state[T.New Mexico]              -0.4436      2.708     -0.164      0.870      -5.834       4.946\n",
      "state[T.New York]                -0.9921      4.282     -0.232      0.817      -9.514       7.530\n",
      "state[T.North Carolina]          -0.3852      2.532     -0.152      0.879      -5.426       4.655\n",
      "state[T.Ohio]                    -0.6615      2.257     -0.293      0.770      -5.153       3.830\n",
      "state[T.Oregon]                  -0.6726      3.183     -0.211      0.833      -7.009       5.664\n",
      "state[T.Pennsylvania]             0.3779      2.304      0.164      0.870      -4.208       4.964\n",
      "state[T.South Carolina]          -0.6801      4.280     -0.159      0.874      -9.199       7.839\n",
      "state[T.South Dakota]            -0.6801      4.280     -0.159      0.874      -9.199       7.839\n",
      "state[T.Tennessee]               -0.5831      2.925     -0.199      0.843      -6.406       5.240\n",
      "state[T.Texas]                    2.8438      2.397      1.186      0.239      -1.928       7.615\n",
      "state[T.Virginia]                -0.6423      2.297     -0.280      0.781      -5.215       3.930\n",
      "state[T.Washington]              -1.0770      4.302     -0.250      0.803      -9.639       7.485\n",
      "state[T.Wisconsin]               -1.0770      4.302     -0.250      0.803      -9.639       7.485\n",
      "==============================================================================\n",
      "Omnibus:                      101.715   Durbin-Watson:                   1.989\n",
      "Prob(Omnibus):                  0.000   Jarque-Bera (JB):             1565.460\n",
      "Skew:                           2.719   Prob(JB):                         0.00\n",
      "Kurtosis:                      20.075   Cond. No.                         36.3\n",
      "==============================================================================\n",
      "\n",
      "Notes:\n",
      "[1] Standard Errors assume that the covariance matrix of the errors is correctly specified.\n"
     ]
    }
   ],
   "source": [
    "fit9_test= smf.ols(formula= ' killed ~ day_of_week + state',  data= Shooting_test).fit()\n",
    "print(fit9_test.summary())"
   ]
  },
  {
   "cell_type": "code",
   "execution_count": 77,
   "metadata": {},
   "outputs": [
    {
     "name": "stdout",
     "output_type": "stream",
     "text": [
      "                  sum_sq    df         F    PR(>F)\n",
      "day_of_week     5.671493   4.0  0.102176  0.981418\n",
      "state         406.391415  33.0  0.887443  0.641238\n",
      "Residual     1096.268984  79.0       NaN       NaN\n",
      "No significant differences in killed cases average across days of the week and states.\n"
     ]
    }
   ],
   "source": [
    "# Performing  ANOVA\n",
    "model_test_killed_week_state = ols('killed ~ day_of_week + state', data=Shooting_test).fit()\n",
    "anova_table_killed_week_state  = sm.stats.anova_lm(model_test_killed_week_state , typ=2)\n",
    "\n",
    "# Printing  ANOVA results\n",
    "print(anova_table_killed_week_state)\n",
    "\n",
    "# Interpret the results based on p-value\n",
    "if anova_table_killed_week_state['PR(>F)'][0] < 0.05:\n",
    "    print(\"There are significant differences in killed cases average across days of the week and states.\")\n",
    "else:\n",
    "    print(\"No significant differences in killed cases average across days of the week and states.\")"
   ]
  },
  {
   "cell_type": "markdown",
   "metadata": {},
   "source": [
    "- Model 9: ANOVA test on \"Injured average cases vs State and day of the week\". "
   ]
  },
  {
   "cell_type": "code",
   "execution_count": 78,
   "metadata": {},
   "outputs": [
    {
     "name": "stdout",
     "output_type": "stream",
     "text": [
      "                            OLS Regression Results                            \n",
      "==============================================================================\n",
      "Dep. Variable:                injured   R-squared:                       0.246\n",
      "Model:                            OLS   Adj. R-squared:                 -0.107\n",
      "Method:                 Least Squares   F-statistic:                    0.6963\n",
      "Date:                Fri, 20 Oct 2023   Prob (F-statistic):              0.888\n",
      "Time:                        20:12:05   Log-Likelihood:                -279.86\n",
      "No. Observations:                 117   AIC:                             635.7\n",
      "Df Residuals:                      79   BIC:                             740.7\n",
      "Df Model:                          37                                         \n",
      "Covariance Type:            nonrobust                                         \n",
      "=================================================================================================\n",
      "                                    coef    std err          t      P>|t|      [0.025      0.975]\n",
      "-------------------------------------------------------------------------------------------------\n",
      "Intercept                        -0.2703      1.744     -0.155      0.877      -3.742       3.201\n",
      "day_of_week[T.Monday]             2.1934      1.259      1.742      0.085      -0.313       4.700\n",
      "day_of_week[T.Thursday]           0.8378      1.230      0.681      0.498      -1.610       3.286\n",
      "day_of_week[T.Tuesday]            2.2863      1.099      2.081      0.041       0.099       4.473\n",
      "day_of_week[T.Wednesday]          0.3696      1.073      0.344      0.732      -1.767       2.506\n",
      "state[T.Alaska]                   0.9007      3.700      0.243      0.808      -6.463       8.265\n",
      "state[T.Arkansas]                -1.9696      2.871     -0.686      0.495      -7.685       3.746\n",
      "state[T.California]               1.5042      1.877      0.801      0.425      -2.232       5.241\n",
      "state[T.Colorado]                 5.4079      2.231      2.424      0.018       0.967       9.849\n",
      "state[T.Connecticut]              0.1271      2.840      0.045      0.964      -5.527       5.781\n",
      "state[T.Delaware]                -1.9231      3.719     -0.517      0.606      -9.325       5.479\n",
      "state[T.District of Columbia]     1.0516      2.511      0.419      0.676      -3.945       6.049\n",
      "state[T.Florida]                  1.8533      1.973      0.939      0.351      -2.075       5.781\n",
      "state[T.Georgia]                 -1.0438      2.557     -0.408      0.684      -6.134       4.046\n",
      "state[T.Illinois]                -0.8307      2.169     -0.383      0.703      -5.149       3.487\n",
      "state[T.Indiana]                  0.7703      2.868      0.269      0.789      -4.939       6.479\n",
      "state[T.Kansas]                   2.2703      3.662      0.620      0.537      -5.019       9.560\n",
      "state[T.Kentucky]                -1.0161      3.701     -0.275      0.784      -8.383       6.351\n",
      "state[T.Louisiana]                0.1743      2.206      0.079      0.937      -4.217       4.566\n",
      "state[T.Maryland]                 1.1013      2.191      0.503      0.617      -3.261       5.463\n",
      "state[T.Michigan]                -1.9231      3.719     -0.517      0.606      -9.325       5.479\n",
      "state[T.Minnesota]               -1.0577      2.870     -0.369      0.713      -6.770       4.655\n",
      "state[T.Mississippi]             -1.0161      2.918     -0.348      0.729      -6.824       4.792\n",
      "state[T.Nevada]                   0.0304      2.871      0.011      0.992      -5.685       5.746\n",
      "state[T.New Hampshire]            0.2703      3.662      0.074      0.941      -7.019       7.560\n",
      "state[T.New Mexico]               0.4487      2.341      0.192      0.848      -4.211       5.108\n",
      "state[T.New York]                -2.0161      3.701     -0.545      0.587      -9.383       5.351\n",
      "state[T.North Carolina]          -0.6970      2.189     -0.318      0.751      -5.054       3.660\n",
      "state[T.Ohio]                     0.0480      1.951      0.025      0.980      -3.835       3.931\n",
      "state[T.Oregon]                  -0.2453      2.752     -0.089      0.929      -5.722       5.232\n",
      "state[T.Pennsylvania]            -0.3018      1.992     -0.152      0.880      -4.266       3.662\n",
      "state[T.South Carolina]          -0.0993      3.700     -0.027      0.979      -7.463       7.265\n",
      "state[T.South Dakota]             0.9007      3.700      0.243      0.808      -6.463       8.265\n",
      "state[T.Tennessee]               -1.0128      2.529     -0.401      0.690      -6.046       4.021\n",
      "state[T.Texas]                    1.9414      2.072      0.937      0.352      -2.183       6.066\n",
      "state[T.Virginia]                 0.1173      1.986      0.059      0.953      -3.835       4.070\n",
      "state[T.Washington]              -1.9231      3.719     -0.517      0.606      -9.325       5.479\n",
      "state[T.Wisconsin]               -0.9231      3.719     -0.248      0.805      -8.325       6.479\n",
      "==============================================================================\n",
      "Omnibus:                      108.757   Durbin-Watson:                   1.887\n",
      "Prob(Omnibus):                  0.000   Jarque-Bera (JB):             1232.538\n",
      "Skew:                           3.192   Prob(JB):                    2.28e-268\n",
      "Kurtosis:                      17.562   Cond. No.                         36.3\n",
      "==============================================================================\n",
      "\n",
      "Notes:\n",
      "[1] Standard Errors assume that the covariance matrix of the errors is correctly specified.\n"
     ]
    }
   ],
   "source": [
    "fit10_test= smf.ols(formula= ' injured ~ day_of_week + state',  data= Shooting_test).fit()\n",
    "print(fit10_test.summary())"
   ]
  },
  {
   "cell_type": "code",
   "execution_count": 79,
   "metadata": {},
   "outputs": [
    {
     "name": "stdout",
     "output_type": "stream",
     "text": [
      "                 sum_sq    df         F    PR(>F)\n",
      "day_of_week   65.996067   4.0  1.591134  0.184866\n",
      "state        226.263204  33.0  0.661224  0.906889\n",
      "Residual     819.178392  79.0       NaN       NaN\n",
      "No significant differences in injured cases average across days of the week and states.\n"
     ]
    }
   ],
   "source": [
    "# Performing  ANOVA\n",
    "model_test_injured_week_state = ols('injured ~ day_of_week + state', data=Shooting_test).fit()\n",
    "anova_table_injured_week_state  = sm.stats.anova_lm(model_test_injured_week_state  , typ=2)\n",
    "\n",
    "# Printing  ANOVA results\n",
    "print(anova_table_injured_week_state )\n",
    "\n",
    "# Interpret the results based on p-value\n",
    "if anova_table_injured_week_state ['PR(>F)'][0] < 0.05:\n",
    "    print(\"There are significant differences in injured cases average across days of the week and states.\")\n",
    "else:\n",
    "    print(\"No significant differences in injured cases average across days of the week and states.\")"
   ]
  },
  {
   "cell_type": "markdown",
   "metadata": {},
   "source": [
    "- Model 10: ANOVA test on \"Casualties average cases vs State and day of the week\". "
   ]
  },
  {
   "cell_type": "code",
   "execution_count": 80,
   "metadata": {},
   "outputs": [
    {
     "name": "stdout",
     "output_type": "stream",
     "text": [
      "                            OLS Regression Results                            \n",
      "==============================================================================\n",
      "Dep. Variable:             casualties   R-squared:                       0.222\n",
      "Model:                            OLS   Adj. R-squared:                 -0.143\n",
      "Method:                 Least Squares   F-statistic:                    0.6087\n",
      "Date:                Fri, 20 Oct 2023   Prob (F-statistic):              0.952\n",
      "Time:                        20:12:05   Log-Likelihood:                -360.53\n",
      "No. Observations:                 117   AIC:                             797.1\n",
      "Df Residuals:                      79   BIC:                             902.0\n",
      "Df Model:                          37                                         \n",
      "Covariance Type:            nonrobust                                         \n",
      "=================================================================================================\n",
      "                                    coef    std err          t      P>|t|      [0.025      0.975]\n",
      "-------------------------------------------------------------------------------------------------\n",
      "Intercept                         0.6303      3.475      0.181      0.857      -6.287       7.547\n",
      "day_of_week[T.Monday]             2.3826      2.509      0.950      0.345      -2.612       7.377\n",
      "day_of_week[T.Thursday]           0.2121      2.450      0.087      0.931      -4.665       5.089\n",
      "day_of_week[T.Tuesday]            2.3899      2.189      1.092      0.278      -1.968       6.748\n",
      "day_of_week[T.Wednesday]          0.1929      2.139      0.090      0.928      -4.064       4.450\n",
      "state[T.Alaska]                   0.1767      7.372      0.024      0.981     -14.497      14.850\n",
      "state[T.Arkansas]                -2.5166      5.721     -0.440      0.661     -13.905       8.872\n",
      "state[T.California]               0.9758      3.740      0.261      0.795      -6.469       8.421\n",
      "state[T.Colorado]                 7.7365      4.446      1.740      0.086      -1.112      16.586\n",
      "state[T.Connecticut]             12.1747      5.660      2.151      0.035       0.909      23.440\n",
      "state[T.Delaware]                -3.0130      7.410     -0.407      0.685     -17.761      11.735\n",
      "state[T.District of Columbia]     0.5087      5.002      0.102      0.919      -9.448      10.466\n",
      "state[T.Florida]                  2.9742      3.932      0.756      0.452      -4.852      10.801\n",
      "state[T.Georgia]                 -1.9546      5.096     -0.384      0.702     -12.097       8.188\n",
      "state[T.Illinois]                -1.7843      4.323     -0.413      0.681     -10.388       6.820\n",
      "state[T.Indiana]                  0.3697      5.715      0.065      0.949     -11.006      11.745\n",
      "state[T.Kansas]                   1.3697      7.297      0.188      0.852     -13.155      15.894\n",
      "state[T.Kentucky]                -2.0203      7.375     -0.274      0.785     -16.699      12.659\n",
      "state[T.Louisiana]               -0.7848      4.396     -0.179      0.859      -9.535       7.966\n",
      "state[T.Maryland]                 0.5136      4.367      0.118      0.907      -8.178       9.205\n",
      "state[T.Michigan]                -3.0130      7.410     -0.407      0.685     -17.761      11.735\n",
      "state[T.Minnesota]               -0.9218      5.718     -0.161      0.872     -12.304      10.460\n",
      "state[T.Mississippi]             -1.5203      5.814     -0.261      0.794     -13.093      10.052\n",
      "state[T.Nevada]                  -0.5166      5.721     -0.090      0.928     -11.905      10.872\n",
      "state[T.New Hampshire]           -0.6303      7.297     -0.086      0.931     -15.155      13.894\n",
      "state[T.New Mexico]               0.0222      4.664      0.005      0.996      -9.262       9.306\n",
      "state[T.New York]                -3.0203      7.375     -0.410      0.683     -17.699      11.659\n",
      "state[T.North Carolina]          -1.0820      4.362     -0.248      0.805      -9.764       7.600\n",
      "state[T.Ohio]                    -0.6281      3.887     -0.162      0.872      -8.365       7.109\n",
      "state[T.Oregon]                  -0.9277      5.483     -0.169      0.866     -11.841       9.986\n",
      "state[T.Pennsylvania]             0.0608      3.968      0.015      0.988      -7.838       7.960\n",
      "state[T.South Carolina]          -0.8233      7.372     -0.112      0.911     -15.497      13.850\n",
      "state[T.South Dakota]             0.1767      7.372      0.024      0.981     -14.497      14.850\n",
      "state[T.Tennessee]               -1.6188      5.039     -0.321      0.749     -11.649       8.411\n",
      "state[T.Texas]                    4.7751      4.129      1.156      0.251      -3.443      12.994\n",
      "state[T.Virginia]                -0.5436      3.957     -0.137      0.891      -8.420       7.332\n",
      "state[T.Washington]              -3.0130      7.410     -0.407      0.685     -17.761      11.735\n",
      "state[T.Wisconsin]               -2.0130      7.410     -0.272      0.787     -16.761      12.735\n",
      "==============================================================================\n",
      "Omnibus:                      110.907   Durbin-Watson:                   1.903\n",
      "Prob(Omnibus):                  0.000   Jarque-Bera (JB):             1364.031\n",
      "Skew:                           3.242   Prob(JB):                    6.38e-297\n",
      "Kurtosis:                      18.420   Cond. No.                         36.3\n",
      "==============================================================================\n",
      "\n",
      "Notes:\n",
      "[1] Standard Errors assume that the covariance matrix of the errors is correctly specified.\n"
     ]
    }
   ],
   "source": [
    "fit11_test= smf.ols(formula= ' casualties ~ day_of_week + state',  data= Shooting_test).fit()\n",
    "print(fit11_test.summary())"
   ]
  },
  {
   "cell_type": "code",
   "execution_count": 81,
   "metadata": {},
   "outputs": [
    {
     "name": "stdout",
     "output_type": "stream",
     "text": [
      "                  sum_sq    df         F    PR(>F)\n",
      "day_of_week    88.569984   4.0  0.537832  0.708340\n",
      "state         832.275122  33.0  0.612594  0.941042\n",
      "Residual     3252.423739  79.0       NaN       NaN\n",
      "No significant differences in casualties cases average across days of the week and states.\n"
     ]
    }
   ],
   "source": [
    "# Performing  ANOVA\n",
    "model_test_casualies_week_state = ols('casualties ~ day_of_week + state', data=Shooting_test).fit()\n",
    "anova_table_casualies_week_state  = sm.stats.anova_lm(model_test_casualies_week_state   , typ=2)\n",
    "\n",
    "# Printing  ANOVA results\n",
    "print(anova_table_casualies_week_state )\n",
    "\n",
    "# Interpret the results based on p-value\n",
    "if anova_table_casualies_week_state  ['PR(>F)'][0] < 0.05:\n",
    "    print(\"There are significant differences in casualties cases average across days of the week and states.\")\n",
    "else:\n",
    "    print(\"No significant differences in casualties cases average across days of the week and states.\")"
   ]
  },
  {
   "cell_type": "markdown",
   "metadata": {},
   "source": [
    "##### Summary of Analysis of Variance (ANOVA test on Testing set). \n",
    "\n",
    "In this analysis, we conducted a series of ANOVA tests to explore the relationships between various factors and the average cases of killed, injured, and casualties in school incidents. This analysis was based on a testing set that represents 30% of the original dataset.\n",
    "\n",
    "Results:\n",
    "\n",
    "- Model 1: ANOVA test on \"Age_shooter vs State\":\n",
    "\n",
    "    - F-statistic (F): 0.6493\n",
    "    - p-value (PR(>F)): 0.9172\n",
    "    - Conclusion: No significant differences in shooter age across states.\n",
    "\n",
    "- Model 2: ANOVA test on \"Killed average cases vs State\":\n",
    "\n",
    "    - F-statistic (F): 0.9718\n",
    "    - p-value (PR(>F)): 0.5222\n",
    "    - Conclusion: No significant differences in killed cases average across states.\n",
    "\n",
    "- Model 3: ANOVA test on \"Injured average cases vs State\":\n",
    "\n",
    "    - F-statistic (F): 0.5716\n",
    "    - p-value (PR(>F)): 0.9632\n",
    "    - Conclusion: No significant differences in injured cases average across states.\n",
    "\n",
    "- Model 4: ANOVA test on \"Casualties average cases vs State\":\n",
    "\n",
    "    - F-statistic (F): 0.6314\n",
    "    - p-value (PR(>F)): 0.9300\n",
    "    - Conclusion: No significant differences in casualties cases average across states.\n",
    "\n",
    "- Model 5: ANOVA test on \"Killed average cases vs Day of the Week\":\n",
    "\n",
    "    - F-statistic (F): 0.4664\n",
    "    - p-value (PR(>F)): 0.7602\n",
    "    - Conclusion: No significant differences in killed cases average across days of the week.\n",
    "\n",
    "- Model 6: ANOVA test on \"Casualties average cases vs day of the week\":\n",
    "\n",
    "    - F-statistic (F): 0.6512\n",
    "    - p-value (PR(>F)): 0.6272\n",
    "    - Conclusion: No significant differences in casualties cases average across days of the week.\n",
    "\n",
    "- Model 7: ANOVA test on \"Injured average cases vs day of the week\":\n",
    "\n",
    "    - F-statistic (F): 1.0950\n",
    "    - p-value (PR(>F)): 0.3626\n",
    "    - Conclusion: No significant differences in injured cases average across days of the week.\n",
    "\n",
    "- Model 8: ANOVA test on \"Killed average cases vs State and day of the week\":\n",
    "\n",
    "    - F-statistic (F): 0.1022\n",
    "    - p-value (PR(>F)): 0.9814\n",
    "    - Conclusion: No significant differences in killed cases average across days of the week and states.\n",
    "\n",
    "- Model 9: ANOVA test on \"Injured average cases vs State and day of the week\":\n",
    "    \n",
    "    - F-statistic (F): 1.5911\n",
    "    - p-value (PR(>F)): 0.1849\n",
    "    - Conclusion: No significant differences in injured cases average across days of the week and states.\n",
    "\n",
    "- Model 10: ANOVA test on \"Casualties average cases vs State and day of the week\":\n",
    "\n",
    "    - F-statistic (F): 0.5378\n",
    "    - p-value (PR(>F)): 0.7083\n",
    "    - Conclusion: No significant differences in casualties cases average across days of the week and states.\n",
    "\n",
    "\n",
    "In all of these models, there were no significant differences observed for the specified variables, whether it was across states, days of the week, or in combinations. This analysis provides insights into the relationships between these variables and the outcomes in school incidents, helping us better understand the patterns and contributing factors."
   ]
  },
  {
   "cell_type": "markdown",
   "metadata": {},
   "source": [
    "### Phase II."
   ]
  },
  {
   "cell_type": "markdown",
   "metadata": {},
   "source": [
    "#### Model Applied - Linear Regression\n",
    "- Independent Variable: day_of_week\n",
    "- Dependent Variable: casualties"
   ]
  },
  {
   "cell_type": "code",
   "execution_count": 82,
   "metadata": {},
   "outputs": [
    {
     "name": "stdout",
     "output_type": "stream",
     "text": [
      "\n",
      "Correlation with Outlier: 0.00\n",
      "Mean Squared Error: 36.65332341641867\n",
      "\n",
      "A correlation of 0.00 suggests no linear relationship. \n",
      "An higher MSE of 36.65 suggests model's predictions are, on average, farther away from the true values \n"
     ]
    }
   ],
   "source": [
    "import pandas as pd\n",
    "import matplotlib.pyplot as plt\n",
    "import seaborn as sns\n",
    "from sklearn.model_selection import train_test_split\n",
    "from sklearn.linear_model import LinearRegression\n",
    "from sklearn.metrics import mean_squared_error\n",
    "from sklearn.preprocessing import LabelEncoder\n",
    "loc = os.getcwd()\n",
    "data = pd.read_csv(loc+'/school-shootings-data.csv')\n",
    "data.dropna(subset=['casualties'], inplace=True)\n",
    "data.dropna(subset=['day_of_week'], inplace=True)\n",
    "\n",
    "# Use LabelEncoder to convert string values to integers\n",
    "label_encoder = LabelEncoder()\n",
    "data['day_of_week'] = label_encoder.fit_transform(data['day_of_week'])\n",
    "\n",
    "# Split the data into features (X) and target variable (y)\n",
    "X = data[['day_of_week']]\n",
    "y = data['casualties']\n",
    "correlation_with_outlier = data['day_of_week'].corr(data['casualties'])\n",
    "print(f'\\nCorrelation with Outlier: {correlation_with_outlier:.2f}')\n",
    "# Split the data into training and testing sets\n",
    "X_train, X_test, y_train, y_test = train_test_split(X, y, test_size=0.3, random_state=42)\n",
    "\n",
    "# Create and fit the linear regression model\n",
    "model = LinearRegression()\n",
    "model.fit(X_train, y_train)\n",
    "\n",
    "# Make predictions on the test set\n",
    "y_pred = model.predict(X_test)\n",
    "\n",
    "# Evaluate the model\n",
    "mse = mean_squared_error(y_test, y_pred)\n",
    "print(f'Mean Squared Error: {mse}')\n",
    "\n",
    "print(\"\\nA correlation of 0.00 suggests no linear relationship. \\nAn higher MSE of 36.65 suggests model's predictions are, on average, farther away from the true values \")\n"
   ]
  },
  {
   "cell_type": "markdown",
   "metadata": {},
   "source": [
    "#### Model Applied - GLM(Binary Logistic Regression)\n",
    "- Independent Variable: casualties. \n",
    "- Dependent Variable: resource_officer. "
   ]
  },
  {
   "cell_type": "code",
   "execution_count": 83,
   "metadata": {},
   "outputs": [
    {
     "name": "stdout",
     "output_type": "stream",
     "text": [
      "                 Generalized Linear Model Regression Results                  \n",
      "==============================================================================\n",
      "Dep. Variable:       resource_officer   No. Observations:                  387\n",
      "Model:                            GLM   Df Residuals:                      385\n",
      "Model Family:                Binomial   Df Model:                            1\n",
      "Link Function:                  Logit   Scale:                          1.0000\n",
      "Method:                          IRLS   Log-Likelihood:                -222.97\n",
      "Date:                Fri, 20 Oct 2023   Deviance:                       445.93\n",
      "Time:                        20:12:05   Pearson chi2:                     387.\n",
      "No. Iterations:                     4   Pseudo R-squ. (CS):            0.01671\n",
      "Covariance Type:            nonrobust                                         \n",
      "==============================================================================\n",
      "                 coef    std err          z      P>|z|      [0.025      0.975]\n",
      "------------------------------------------------------------------------------\n",
      "const         -1.1122      0.126     -8.805      0.000      -1.360      -0.865\n",
      "casualties     0.0715      0.030      2.377      0.017       0.013       0.131\n",
      "==============================================================================\n",
      "Odds Ratio for casualties: 1.0741\n",
      "Based on P-value,Confidence Interval,Odds Ratio for Casualties suggests that there is significant relationship\n",
      "An odds ratio of 1.0741 means that, for a one-unit increase in the casualties variable, the odds of the event of interest (usually the event represented by the dependent variable being 1) increase by approximately 7.41%\n"
     ]
    }
   ],
   "source": [
    "import pandas as pd\n",
    "import statsmodels.api as sm\n",
    "import pandas as pd\n",
    "import statsmodels.api as sm\n",
    "loc = os.getcwd()\n",
    "data = pd.read_csv(loc+'/school-shootings-data.csv')\n",
    "# Define the predictors and response variable\n",
    "data.dropna(subset=['casualties'], inplace=True)\n",
    "data.dropna(subset=['resource_officer'], inplace=True)\n",
    "\n",
    "X = sm.add_constant(data['casualties'])\n",
    "y = data['resource_officer']\n",
    "# Fit logistic regression model\n",
    "model = sm.GLM(y, X, family=sm.families.Binomial())\n",
    "result = model.fit()\n",
    "# Display model summary\n",
    "print(result.summary())\n",
    "coefficient_casualties = 0.0715\n",
    "\n",
    "# Calculate odds ratio\n",
    "odds_ratio_casualties = np.exp(coefficient_casualties)\n",
    "\n",
    "print(f\"Odds Ratio for casualties: {odds_ratio_casualties:.4f}\")\n",
    "print(\"Based on P-value,Confidence Interval,Odds Ratio for Casualties suggests that there is significant relationship\")\n",
    "print(\"An odds ratio of 1.0741 means that, for a one-unit increase in the casualties variable, the odds of the event of interest (usually the event represented by the dependent variable being 1) increase by approximately 7.41%\")"
   ]
  },
  {
   "cell_type": "markdown",
   "metadata": {},
   "source": [
    "#### Model Applied - Ordinary Least Squares \n",
    " ##### Number of Casualties predictions against type of weapon. \n",
    "\n",
    "- Independent Variable:  weapon \n",
    "- Dependent Variable: casualties"
   ]
  },
  {
   "cell_type": "code",
   "execution_count": 84,
   "metadata": {},
   "outputs": [
    {
     "name": "stdout",
     "output_type": "stream",
     "text": [
      "                            OLS Regression Results                            \n",
      "==============================================================================\n",
      "Dep. Variable:             casualties   R-squared:                       0.001\n",
      "Model:                            OLS   Adj. R-squared:                 -0.004\n",
      "Method:                 Least Squares   F-statistic:                    0.1238\n",
      "Date:                Fri, 20 Oct 2023   Prob (F-statistic):              0.725\n",
      "Time:                        20:12:05   Log-Likelihood:                -711.70\n",
      "No. Observations:                 249   AIC:                             1427.\n",
      "Df Residuals:                     247   BIC:                             1434.\n",
      "Df Model:                           1                                         \n",
      "Covariance Type:            nonrobust                                         \n",
      "==============================================================================\n",
      "                 coef    std err          t      P>|t|      [0.025      0.975]\n",
      "------------------------------------------------------------------------------\n",
      "const          2.0879      0.588      3.548      0.000       0.929       3.247\n",
      "weapon        -0.0022      0.006     -0.352      0.725      -0.015       0.010\n",
      "==============================================================================\n",
      "Omnibus:                      304.091   Durbin-Watson:                   1.835\n",
      "Prob(Omnibus):                  0.000   Jarque-Bera (JB):            13055.828\n",
      "Skew:                           5.463   Prob(JB):                         0.00\n",
      "Kurtosis:                      36.749   Cond. No.                         203.\n",
      "==============================================================================\n",
      "\n",
      "Notes:\n",
      "[1] Standard Errors assume that the covariance matrix of the errors is correctly specified.\n",
      "The output suggests that there is no significant relationship between casualties and weapon\n"
     ]
    }
   ],
   "source": [
    "import pandas as pd\n",
    "import statsmodels.api as sm\n",
    "import numpy as np\n",
    "loc = os.getcwd()\n",
    "data = pd.read_csv(loc+'/school-shootings-data.csv')\n",
    "# Use LabelEncoder to convert string values to integers\n",
    "\n",
    "label_encoder = LabelEncoder()\n",
    "data.dropna(subset=['weapon'], inplace=True)\n",
    "data.dropna(subset=['casualties'], inplace=True)\n",
    "data['weapon'] = label_encoder.fit_transform(data['weapon'])\n",
    " #Add a constant term to the predictors\n",
    "X = sm.add_constant(data['weapon'])\n",
    "y= data['casualties']\n",
    " #Fit the linear model\n",
    "model = sm.OLS(y, X).fit()\n",
    " #Split the data into training and testing sets\n",
    "\n",
    "# Report the summary\n",
    "print(model.summary())\n",
    "print(\"The output suggests that there is no significant relationship between casualties and weapon\")"
   ]
  },
  {
   "cell_type": "markdown",
   "metadata": {},
   "source": [
    "#### Model Applied - Ordinary Least Squares. \n",
    "#####  Number of casualties prediction against time intervals. \n",
    "\n",
    "- Grouped time column values into four interval: night,morning,afternoon, and evening. \n",
    "- Independent Variable: time_interval\n",
    "- Dependent Variable: casualties"
   ]
  },
  {
   "cell_type": "code",
   "execution_count": 85,
   "metadata": {},
   "outputs": [
    {
     "name": "stdout",
     "output_type": "stream",
     "text": [
      "                            OLS Regression Results                            \n",
      "==============================================================================\n",
      "Dep. Variable:             casualties   R-squared:                       0.002\n",
      "Model:                            OLS   Adj. R-squared:                 -0.002\n",
      "Method:                 Least Squares   F-statistic:                    0.5280\n",
      "Date:                Fri, 20 Oct 2023   Prob (F-statistic):              0.468\n",
      "Time:                        20:12:05   Log-Likelihood:                -677.27\n",
      "No. Observations:                 235   AIC:                             1359.\n",
      "Df Residuals:                     233   BIC:                             1365.\n",
      "Df Model:                           1                                         \n",
      "Covariance Type:            nonrobust                                         \n",
      "=================================================================================\n",
      "                    coef    std err          t      P>|t|      [0.025      0.975]\n",
      "---------------------------------------------------------------------------------\n",
      "const             1.7685      0.417      4.237      0.000       0.946       2.591\n",
      "time_interval     0.4126      0.568      0.727      0.468      -0.706       1.531\n",
      "==============================================================================\n",
      "Omnibus:                      283.088   Durbin-Watson:                   1.854\n",
      "Prob(Omnibus):                  0.000   Jarque-Bera (JB):            10976.947\n",
      "Skew:                           5.303   Prob(JB):                         0.00\n",
      "Kurtosis:                      34.758   Cond. No.                         2.72\n",
      "==============================================================================\n",
      "\n",
      "Notes:\n",
      "[1] Standard Errors assume that the covariance matrix of the errors is correctly specified.\n",
      "The output suggests that there is no significant relationship between time interval and casualties\n"
     ]
    }
   ],
   "source": [
    "data.dropna(subset=['time'], inplace=True)\n",
    "data.dropna(subset=['casualties'], inplace=True)\n",
    "\n",
    "data['time'] = pd.to_datetime(data['time'], format='%I:%M %p')\n",
    "\n",
    "# Extract the hour component\n",
    "data['hour'] = data['time'].dt.hour\n",
    "\n",
    "# Define time intervals\n",
    "bins = [0,6,12,18,24]  # 0-6 AM, 6 AM-12 PM, 12 PM-6 PM, 6 PM-12 AM\n",
    "labels = ['night', 'morning','afternoon','evening']\n",
    "# Create a new column 'time_interval' based on the defined bins and labels\n",
    "data['time_interval'] = pd.cut(data['hour'], bins=bins, labels=labels,include_lowest=True, right=False)\n",
    "data['time_interval'] = data['time_interval'].astype(str)\n",
    "label_encoder = LabelEncoder()\n",
    "data['time_interval'] = label_encoder.fit_transform(data['time_interval'])\n",
    "\n",
    "X = sm.add_constant(data['time_interval'])\n",
    "y= data['casualties']\n",
    " #Fit the linear model\n",
    "model = sm.OLS(y, X).fit()\n",
    "\n",
    "\n",
    "# Report the summary\n",
    "print(model.summary())\n",
    "print(\"The output suggests that there is no significant relationship between time interval and casualties\")"
   ]
  },
  {
   "cell_type": "markdown",
   "metadata": {},
   "source": [
    "Summary of Phase II Analysis:\n",
    "\n",
    "- The exploration of data and the application of various models to establish relationships with other variables have been fascinating. One intriguing observation from the analysis involves the application of a GLM (Binary Logistic Regression) model. In this model, casualties were considered as the independent variable, while the presence of a resource officer (1 for present, 0 for not present) was the dependent variable.\n",
    "\n",
    "- Surprisingly, the data revealed a significant relationship: when a resource officer is present, the number of casualties tends to be higher. This finding was unexpected and led to a deeper consideration. It raised the possibility that resource officers are deployed in situations of higher risk, which might explain the elevated casualty rates in their presence. This insight highlights the power of data and the complexities that statistical models and concepts can unravel."
   ]
  }
 ],
 "metadata": {
  "kernelspec": {
   "display_name": "Python 3",
   "language": "python",
   "name": "python3"
  },
  "language_info": {
   "codemirror_mode": {
    "name": "ipython",
    "version": 3
   },
   "file_extension": ".py",
   "mimetype": "text/x-python",
   "name": "python",
   "nbconvert_exporter": "python",
   "pygments_lexer": "ipython3",
   "version": "3.11.4"
  }
 },
 "nbformat": 4,
 "nbformat_minor": 2
}
